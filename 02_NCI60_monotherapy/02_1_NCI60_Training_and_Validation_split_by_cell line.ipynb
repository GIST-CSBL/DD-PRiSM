{
 "cells": [
  {
   "cell_type": "code",
   "execution_count": 1,
   "metadata": {},
   "outputs": [
    {
     "name": "stderr",
     "output_type": "stream",
     "text": [
      "Using TensorFlow backend.\n"
     ]
    }
   ],
   "source": [
    "# import numpy and pandas\n",
    "import numpy as np\n",
    "import pandas as pd\n",
    "import csv\n",
    "import matplotlib.pyplot as plt\n",
    "%matplotlib inline\n",
    "import seaborn as sns\n",
    "\n",
    "%config Completer.use_jedi=False\n",
    "import os\n",
    "\n",
    "#import sklearn for cross validation|\n",
    "from sklearn.model_selection import StratifiedKFold, GridSearchCV\n",
    "from sklearn.model_selection import KFold,cross_val_predict,cross_val_score,cross_validate\n",
    "\n",
    "#import keras modules\n",
    "import tensorflow as tf\n",
    "from tensorflow import keras\n",
    "import keras.backend as K\n",
    "import keras.backend.tensorflow_backend as KTF\n",
    "import keras\n",
    "import keras.layers\n",
    "from keras.layers import Layer \n",
    "import keras.initializers\n",
    "from keras.models import Model, Sequential,load_model\n",
    "from keras.layers import Input, Dense, Dropout, BatchNormalization, Activation, Embedding, Lambda, Flatten, Multiply, multiply,dot, add,subtract\n",
    "from keras.layers import Concatenate,concatenate,LeakyReLU,maximum,minimum\n",
    "from keras.optimizers import Adam\n",
    "from keras.regularizers import l2,l1\n",
    "from keras.preprocessing import sequence\n",
    "from keras.engine.topology import Layer, InputSpec\n",
    "\n",
    "from keras.utils import plot_model\n",
    "from IPython.display import SVG\n",
    "\n",
    "\n",
    "from sklearn.metrics import precision_recall_curve, auc, roc_curve\n",
    "\n",
    "#import rdkit\n",
    "import rdkit\n",
    "import rdkit.Chem as Chem\n",
    "from rdkit.Chem import AllChem\n",
    "from rdkit.Chem.Fingerprints import FingerprintMols\n",
    "\n",
    "#fix the random seed\n",
    "np.random.seed(5)\n",
    "\n",
    "import pickle\n",
    "import random\n",
    "\n"
   ]
  },
  {
   "cell_type": "code",
   "execution_count": 2,
   "metadata": {},
   "outputs": [],
   "source": [
    "GeneExpression_with_Symbol=pd.read_csv('/DAS_Storage4/ijjin/Study_2/CellLine/CCLE_expression_zscore.csv',index_col=0)\n",
    "valid_gene_list=GeneExpression_with_Symbol.columns"
   ]
  },
  {
   "cell_type": "code",
   "execution_count": 3,
   "metadata": {
    "scrolled": true
   },
   "outputs": [],
   "source": [
    "GeneSet_List=[]\n",
    "GeneSetFile='/DAS_Storage1/ijjin/Personal_studies/Drug-Cancer_reponse/geneset/c2.cp.kegg.v7.5.1.symbols.gmt'\n",
    "with open(GeneSetFile) as f:\n",
    "    reader = csv.reader(f)\n",
    "    data = list(list(rec) for rec in csv.reader(f, delimiter='\\t')) #reads csv into a list of lists\n",
    "    for row in data:\n",
    "        GeneSet_List.append(row)\n",
    "\n",
    "GeneSet_Dic={}\n",
    "for GeneSet in GeneSet_List:\n",
    "    GeneSet_Dic[GeneSet[0]]=GeneSet[2:]\n",
    "GeneSet_Dic_withoutNA={}\n",
    "for GeneSet in GeneSet_Dic:\n",
    "    GeneSet_tmp=pd.Series(GeneSet_Dic[GeneSet])\n",
    "    GeneSet_tmp=GeneSet_tmp[GeneSet_tmp.isin(valid_gene_list)]\n",
    "    GeneSet_Dic_withoutNA[GeneSet]=GeneSet_tmp\n",
    "\n",
    "\n"
   ]
  },
  {
   "cell_type": "code",
   "execution_count": 4,
   "metadata": {
    "scrolled": true
   },
   "outputs": [],
   "source": [
    "NCI60=pd.read_csv('/DAS_Storage4/ijjin/Study_2/220921_Final/Single/NCI60_March22/221031_NCI60_median_with_raw_parameter.csv',index_col=0)"
   ]
  },
  {
   "cell_type": "code",
   "execution_count": 5,
   "metadata": {},
   "outputs": [
    {
     "data": {
      "text/html": [
       "<div>\n",
       "<style scoped>\n",
       "    .dataframe tbody tr th:only-of-type {\n",
       "        vertical-align: middle;\n",
       "    }\n",
       "\n",
       "    .dataframe tbody tr th {\n",
       "        vertical-align: top;\n",
       "    }\n",
       "\n",
       "    .dataframe thead th {\n",
       "        text-align: right;\n",
       "    }\n",
       "</style>\n",
       "<table border=\"1\" class=\"dataframe\">\n",
       "  <thead>\n",
       "    <tr style=\"text-align: right;\">\n",
       "      <th></th>\n",
       "      <th>NSC</th>\n",
       "      <th>CellName</th>\n",
       "      <th>CONCENTRATION</th>\n",
       "      <th>AVERAGE_GIPRCNT</th>\n",
       "      <th>Viability_max</th>\n",
       "      <th>count</th>\n",
       "      <th>y_max</th>\n",
       "      <th>y_min</th>\n",
       "      <th>IC50</th>\n",
       "      <th>slope</th>\n",
       "    </tr>\n",
       "  </thead>\n",
       "  <tbody>\n",
       "    <tr>\n",
       "      <th>0</th>\n",
       "      <td>1</td>\n",
       "      <td>786O</td>\n",
       "      <td>-2.0</td>\n",
       "      <td>1.916247</td>\n",
       "      <td>2.069248</td>\n",
       "      <td>6</td>\n",
       "      <td>2.079294</td>\n",
       "      <td>8.986296e-18</td>\n",
       "      <td>1.524922</td>\n",
       "      <td>3.000000</td>\n",
       "    </tr>\n",
       "    <tr>\n",
       "      <th>1</th>\n",
       "      <td>1</td>\n",
       "      <td>786O</td>\n",
       "      <td>-1.0</td>\n",
       "      <td>2.006393</td>\n",
       "      <td>2.069248</td>\n",
       "      <td>6</td>\n",
       "      <td>2.079294</td>\n",
       "      <td>8.986296e-18</td>\n",
       "      <td>1.524922</td>\n",
       "      <td>3.000000</td>\n",
       "    </tr>\n",
       "    <tr>\n",
       "      <th>2</th>\n",
       "      <td>1</td>\n",
       "      <td>786O</td>\n",
       "      <td>0.0</td>\n",
       "      <td>2.069248</td>\n",
       "      <td>2.069248</td>\n",
       "      <td>6</td>\n",
       "      <td>2.079294</td>\n",
       "      <td>8.986296e-18</td>\n",
       "      <td>1.524922</td>\n",
       "      <td>3.000000</td>\n",
       "    </tr>\n",
       "    <tr>\n",
       "      <th>3</th>\n",
       "      <td>1</td>\n",
       "      <td>786O</td>\n",
       "      <td>1.0</td>\n",
       "      <td>2.066457</td>\n",
       "      <td>2.069248</td>\n",
       "      <td>6</td>\n",
       "      <td>2.079294</td>\n",
       "      <td>8.986296e-18</td>\n",
       "      <td>1.524922</td>\n",
       "      <td>3.000000</td>\n",
       "    </tr>\n",
       "    <tr>\n",
       "      <th>4</th>\n",
       "      <td>1</td>\n",
       "      <td>786O</td>\n",
       "      <td>2.0</td>\n",
       "      <td>0.079399</td>\n",
       "      <td>2.069248</td>\n",
       "      <td>6</td>\n",
       "      <td>2.079294</td>\n",
       "      <td>8.986296e-18</td>\n",
       "      <td>1.524922</td>\n",
       "      <td>3.000000</td>\n",
       "    </tr>\n",
       "    <tr>\n",
       "      <th>...</th>\n",
       "      <td>...</td>\n",
       "      <td>...</td>\n",
       "      <td>...</td>\n",
       "      <td>...</td>\n",
       "      <td>...</td>\n",
       "      <td>...</td>\n",
       "      <td>...</td>\n",
       "      <td>...</td>\n",
       "      <td>...</td>\n",
       "      <td>...</td>\n",
       "    </tr>\n",
       "    <tr>\n",
       "      <th>4737369</th>\n",
       "      <td>783538</td>\n",
       "      <td>UACC62</td>\n",
       "      <td>-4.0</td>\n",
       "      <td>1.966015</td>\n",
       "      <td>2.040921</td>\n",
       "      <td>5</td>\n",
       "      <td>2.042580</td>\n",
       "      <td>3.025320e-01</td>\n",
       "      <td>-1.727939</td>\n",
       "      <td>2.277316</td>\n",
       "    </tr>\n",
       "    <tr>\n",
       "      <th>4737370</th>\n",
       "      <td>783538</td>\n",
       "      <td>UACC62</td>\n",
       "      <td>-3.0</td>\n",
       "      <td>2.040921</td>\n",
       "      <td>2.040921</td>\n",
       "      <td>5</td>\n",
       "      <td>2.042580</td>\n",
       "      <td>3.025320e-01</td>\n",
       "      <td>-1.727939</td>\n",
       "      <td>2.277316</td>\n",
       "    </tr>\n",
       "    <tr>\n",
       "      <th>4737371</th>\n",
       "      <td>783538</td>\n",
       "      <td>UACC62</td>\n",
       "      <td>-2.0</td>\n",
       "      <td>1.398113</td>\n",
       "      <td>2.040921</td>\n",
       "      <td>5</td>\n",
       "      <td>2.042580</td>\n",
       "      <td>3.025320e-01</td>\n",
       "      <td>-1.727939</td>\n",
       "      <td>2.277316</td>\n",
       "    </tr>\n",
       "    <tr>\n",
       "      <th>4737372</th>\n",
       "      <td>783538</td>\n",
       "      <td>UACC62</td>\n",
       "      <td>-1.0</td>\n",
       "      <td>0.613998</td>\n",
       "      <td>2.040921</td>\n",
       "      <td>5</td>\n",
       "      <td>2.042580</td>\n",
       "      <td>3.025320e-01</td>\n",
       "      <td>-1.727939</td>\n",
       "      <td>2.277316</td>\n",
       "    </tr>\n",
       "    <tr>\n",
       "      <th>4737373</th>\n",
       "      <td>783538</td>\n",
       "      <td>UACC62</td>\n",
       "      <td>0.0</td>\n",
       "      <td>0.316013</td>\n",
       "      <td>2.040921</td>\n",
       "      <td>5</td>\n",
       "      <td>2.042580</td>\n",
       "      <td>3.025320e-01</td>\n",
       "      <td>-1.727939</td>\n",
       "      <td>2.277316</td>\n",
       "    </tr>\n",
       "  </tbody>\n",
       "</table>\n",
       "<p>4737374 rows × 10 columns</p>\n",
       "</div>"
      ],
      "text/plain": [
       "            NSC CellName  CONCENTRATION  AVERAGE_GIPRCNT  Viability_max  \\\n",
       "0             1     786O           -2.0         1.916247       2.069248   \n",
       "1             1     786O           -1.0         2.006393       2.069248   \n",
       "2             1     786O            0.0         2.069248       2.069248   \n",
       "3             1     786O            1.0         2.066457       2.069248   \n",
       "4             1     786O            2.0         0.079399       2.069248   \n",
       "...         ...      ...            ...              ...            ...   \n",
       "4737369  783538   UACC62           -4.0         1.966015       2.040921   \n",
       "4737370  783538   UACC62           -3.0         2.040921       2.040921   \n",
       "4737371  783538   UACC62           -2.0         1.398113       2.040921   \n",
       "4737372  783538   UACC62           -1.0         0.613998       2.040921   \n",
       "4737373  783538   UACC62            0.0         0.316013       2.040921   \n",
       "\n",
       "         count     y_max         y_min      IC50     slope  \n",
       "0            6  2.079294  8.986296e-18  1.524922  3.000000  \n",
       "1            6  2.079294  8.986296e-18  1.524922  3.000000  \n",
       "2            6  2.079294  8.986296e-18  1.524922  3.000000  \n",
       "3            6  2.079294  8.986296e-18  1.524922  3.000000  \n",
       "4            6  2.079294  8.986296e-18  1.524922  3.000000  \n",
       "...        ...       ...           ...       ...       ...  \n",
       "4737369      5  2.042580  3.025320e-01 -1.727939  2.277316  \n",
       "4737370      5  2.042580  3.025320e-01 -1.727939  2.277316  \n",
       "4737371      5  2.042580  3.025320e-01 -1.727939  2.277316  \n",
       "4737372      5  2.042580  3.025320e-01 -1.727939  2.277316  \n",
       "4737373      5  2.042580  3.025320e-01 -1.727939  2.277316  \n",
       "\n",
       "[4737374 rows x 10 columns]"
      ]
     },
     "execution_count": 5,
     "metadata": {},
     "output_type": "execute_result"
    }
   ],
   "source": [
    "NCI60"
   ]
  },
  {
   "cell_type": "code",
   "execution_count": 6,
   "metadata": {},
   "outputs": [],
   "source": [
    "NCI60_randomized=NCI60.sample(frac=1)\n",
    "NCI60_randomized=NCI60_randomized.reset_index(drop=True)"
   ]
  },
  {
   "cell_type": "code",
   "execution_count": 7,
   "metadata": {
    "scrolled": true
   },
   "outputs": [
    {
     "data": {
      "text/plain": [
       "<AxesSubplot:xlabel='AVERAGE_GIPRCNT', ylabel='Density'>"
      ]
     },
     "execution_count": 7,
     "metadata": {},
     "output_type": "execute_result"
    },
    {
     "data": {
      "image/png": "[encoded data removed]",
      "text/plain": [
       "<Figure size 432x288 with 1 Axes>"
      ]
     },
     "metadata": {
      "needs_background": "light"
     },
     "output_type": "display_data"
    }
   ],
   "source": [
    "sns.kdeplot(NCI60_randomized.AVERAGE_GIPRCNT)"
   ]
  },
  {
   "cell_type": "code",
   "execution_count": 8,
   "metadata": {},
   "outputs": [],
   "source": [
    "NCI60_randomized_level_list=[]\n",
    "scale=0.1\n",
    "for i in range(int(2/scale)):\n",
    "    NCI60_randomized_level_df=NCI60_randomized[(NCI60_randomized.AVERAGE_GIPRCNT>i*scale)*(NCI60_randomized.AVERAGE_GIPRCNT<(i+1)*scale)]\n",
    "    NCI60_randomized_level_list.append(NCI60_randomized_level_df)\n",
    "len_min=min([len(df) for df in NCI60_randomized_level_list])\n",
    "NCI60_randomized_level_list_new=[]\n",
    "for df in NCI60_randomized_level_list:\n",
    "    scale_each=len_min/len(df)\n",
    "    df_new=df.sample(frac=scale_each)\n",
    "    NCI60_randomized_level_list_new.append(df_new)\n",
    "NCI60_balanced=pd.concat(NCI60_randomized_level_list_new)"
   ]
  },
  {
   "cell_type": "code",
   "execution_count": 9,
   "metadata": {
    "scrolled": true
   },
   "outputs": [
    {
     "data": {
      "text/plain": [
       "<AxesSubplot:xlabel='AVERAGE_GIPRCNT', ylabel='Density'>"
      ]
     },
     "execution_count": 9,
     "metadata": {},
     "output_type": "execute_result"
    },
    {
     "data": {
      "image/png": "[encoded data removed]",
      "text/plain": [
       "<Figure size 432x288 with 1 Axes>"
      ]
     },
     "metadata": {
      "needs_background": "light"
     },
     "output_type": "display_data"
    }
   ],
   "source": [
    "sns.kdeplot(NCI60_balanced.AVERAGE_GIPRCNT)"
   ]
  },
  {
   "cell_type": "code",
   "execution_count": 10,
   "metadata": {},
   "outputs": [
    {
     "ename": "NameError",
     "evalue": "name 'NCI60_balanced' is not defined",
     "output_type": "error",
     "traceback": [
      "\u001b[0;31m---------------------------------------------------------------------------\u001b[0m",
      "\u001b[0;31mNameError\u001b[0m                                 Traceback (most recent call last)",
      "\u001b[0;32m/tmp/ipykernel_56049/4200408961.py\u001b[0m in \u001b[0;36m<module>\u001b[0;34m\u001b[0m\n\u001b[0;32m----> 1\u001b[0;31m \u001b[0mNCI60_randomized\u001b[0m\u001b[0;34m=\u001b[0m\u001b[0mNCI60_balanced\u001b[0m\u001b[0;34m.\u001b[0m\u001b[0msample\u001b[0m\u001b[0;34m(\u001b[0m\u001b[0mfrac\u001b[0m\u001b[0;34m=\u001b[0m\u001b[0;36m1\u001b[0m\u001b[0;34m)\u001b[0m\u001b[0;34m\u001b[0m\u001b[0;34m\u001b[0m\u001b[0m\n\u001b[0m",
      "\u001b[0;31mNameError\u001b[0m: name 'NCI60_balanced' is not defined"
     ]
    }
   ],
   "source": [
    "NCI60_randomized=NCI60_balanced.sample(frac=1)"
   ]
  },
  {
   "cell_type": "code",
   "execution_count": 11,
   "metadata": {},
   "outputs": [
    {
     "data": {
      "text/plain": [
       "<AxesSubplot:xlabel='y_max', ylabel='Density'>"
      ]
     },
     "execution_count": 11,
     "metadata": {},
     "output_type": "execute_result"
    },
    {
     "data": {
      "image/png": "[encoded data removed]",
      "text/plain": [
       "<Figure size 432x288 with 1 Axes>"
      ]
     },
     "metadata": {
      "needs_background": "light"
     },
     "output_type": "display_data"
    }
   ],
   "source": [
    "sns.kdeplot(NCI60_balanced.y_max)"
   ]
  },
  {
   "cell_type": "code",
   "execution_count": 12,
   "metadata": {},
   "outputs": [
    {
     "data": {
      "text/plain": [
       "<AxesSubplot:xlabel='y_min', ylabel='Density'>"
      ]
     },
     "execution_count": 12,
     "metadata": {},
     "output_type": "execute_result"
    },
    {
     "data": {
      "image/png": "[encoded data removed]",
      "text/plain": [
       "<Figure size 432x288 with 1 Axes>"
      ]
     },
     "metadata": {
      "needs_background": "light"
     },
     "output_type": "display_data"
    }
   ],
   "source": [
    "sns.kdeplot(NCI60_balanced.y_min)"
   ]
  },
  {
   "cell_type": "code",
   "execution_count": 13,
   "metadata": {},
   "outputs": [
    {
     "data": {
      "text/plain": [
       "<AxesSubplot:xlabel='IC50', ylabel='Density'>"
      ]
     },
     "execution_count": 13,
     "metadata": {},
     "output_type": "execute_result"
    },
    {
     "data": {
      "image/png": "[encoded data removed]",
      "text/plain": [
       "<Figure size 432x288 with 1 Axes>"
      ]
     },
     "metadata": {
      "needs_background": "light"
     },
     "output_type": "display_data"
    }
   ],
   "source": [
    "sns.kdeplot(NCI60_balanced.IC50)"
   ]
  },
  {
   "cell_type": "code",
   "execution_count": 14,
   "metadata": {},
   "outputs": [
    {
     "data": {
      "text/plain": [
       "<AxesSubplot:xlabel='slope', ylabel='Density'>"
      ]
     },
     "execution_count": 14,
     "metadata": {},
     "output_type": "execute_result"
    },
    {
     "data": {
      "image/png": "[encoded data removed]",
      "text/plain": [
       "<Figure size 432x288 with 1 Axes>"
      ]
     },
     "metadata": {
      "needs_background": "light"
     },
     "output_type": "display_data"
    }
   ],
   "source": [
    "sns.kdeplot(NCI60_balanced.slope)"
   ]
  },
  {
   "cell_type": "code",
   "execution_count": 8,
   "metadata": {
    "scrolled": true
   },
   "outputs": [
    {
     "name": "stdout",
     "output_type": "stream",
     "text": [
      "WARNING:tensorflow:From /usr/local/lib/python3.7/site-packages/keras/backend/tensorflow_backend.py:95: The name tf.reset_default_graph is deprecated. Please use tf.compat.v1.reset_default_graph instead.\n",
      "\n",
      "WARNING:tensorflow:From /usr/local/lib/python3.7/site-packages/keras/backend/tensorflow_backend.py:98: The name tf.placeholder_with_default is deprecated. Please use tf.compat.v1.placeholder_with_default instead.\n",
      "\n",
      "WARNING:tensorflow:From /usr/local/lib/python3.7/site-packages/keras/backend/tensorflow_backend.py:102: The name tf.get_default_graph is deprecated. Please use tf.compat.v1.get_default_graph instead.\n",
      "\n",
      "WARNING:tensorflow:From /tmp/ipykernel_5115/3503822163.py:4: The name tf.GPUOptions is deprecated. Please use tf.compat.v1.GPUOptions instead.\n",
      "\n",
      "WARNING:tensorflow:From /tmp/ipykernel_5115/3503822163.py:5: The name tf.Session is deprecated. Please use tf.compat.v1.Session instead.\n",
      "\n",
      "WARNING:tensorflow:From /tmp/ipykernel_5115/3503822163.py:5: The name tf.ConfigProto is deprecated. Please use tf.compat.v1.ConfigProto instead.\n",
      "\n"
     ]
    },
    {
     "name": "stderr",
     "output_type": "stream",
     "text": [
      "2022-11-07 13:13:02.765167: I tensorflow/core/platform/cpu_feature_guard.cc:142] Your CPU supports instructions that this TensorFlow binary was not compiled to use: AVX2 FMA\n",
      "2022-11-07 13:13:02.803912: I tensorflow/core/platform/profile_utils/cpu_utils.cc:94] CPU Frequency: 2299915000 Hz\n",
      "2022-11-07 13:13:02.809994: I tensorflow/compiler/xla/service/service.cc:168] XLA service 0x654cd10 initialized for platform Host (this does not guarantee that XLA will be used). Devices:\n",
      "2022-11-07 13:13:02.810059: I tensorflow/compiler/xla/service/service.cc:176]   StreamExecutor device (0): Host, Default Version\n",
      "2022-11-07 13:13:02.817305: I tensorflow/stream_executor/platform/default/dso_loader.cc:44] Successfully opened dynamic library libcuda.so.1\n",
      "2022-11-07 13:13:02.936540: I tensorflow/compiler/xla/service/service.cc:168] XLA service 0x654ecf0 initialized for platform CUDA (this does not guarantee that XLA will be used). Devices:\n",
      "2022-11-07 13:13:02.936597: I tensorflow/compiler/xla/service/service.cc:176]   StreamExecutor device (0): NVIDIA TITAN Xp, Compute Capability 6.1\n",
      "2022-11-07 13:13:02.938431: I tensorflow/core/common_runtime/gpu/gpu_device.cc:1618] Found device 0 with properties: \n",
      "name: NVIDIA TITAN Xp major: 6 minor: 1 memoryClockRate(GHz): 1.582\n",
      "pciBusID: 0000:82:00.0\n",
      "2022-11-07 13:13:02.938976: I tensorflow/stream_executor/platform/default/dso_loader.cc:44] Successfully opened dynamic library libcudart.so.10.0\n",
      "2022-11-07 13:13:02.941600: I tensorflow/stream_executor/platform/default/dso_loader.cc:44] Successfully opened dynamic library libcublas.so.10.0\n",
      "2022-11-07 13:13:02.943785: I tensorflow/stream_executor/platform/default/dso_loader.cc:44] Successfully opened dynamic library libcufft.so.10.0\n",
      "2022-11-07 13:13:02.944401: I tensorflow/stream_executor/platform/default/dso_loader.cc:44] Successfully opened dynamic library libcurand.so.10.0\n",
      "2022-11-07 13:13:02.947490: I tensorflow/stream_executor/platform/default/dso_loader.cc:44] Successfully opened dynamic library libcusolver.so.10.0\n",
      "2022-11-07 13:13:02.948904: I tensorflow/stream_executor/platform/default/dso_loader.cc:44] Successfully opened dynamic library libcusparse.so.10.0\n",
      "2022-11-07 13:13:02.953285: I tensorflow/stream_executor/platform/default/dso_loader.cc:44] Successfully opened dynamic library libcudnn.so.7\n",
      "2022-11-07 13:13:02.954776: I tensorflow/core/common_runtime/gpu/gpu_device.cc:1746] Adding visible gpu devices: 0\n",
      "2022-11-07 13:13:02.954836: I tensorflow/stream_executor/platform/default/dso_loader.cc:44] Successfully opened dynamic library libcudart.so.10.0\n",
      "2022-11-07 13:13:02.956702: I tensorflow/core/common_runtime/gpu/gpu_device.cc:1159] Device interconnect StreamExecutor with strength 1 edge matrix:\n",
      "2022-11-07 13:13:02.956723: I tensorflow/core/common_runtime/gpu/gpu_device.cc:1165]      0 \n",
      "2022-11-07 13:13:02.956731: I tensorflow/core/common_runtime/gpu/gpu_device.cc:1178] 0:   N \n",
      "2022-11-07 13:13:02.958243: I tensorflow/core/common_runtime/gpu/gpu_device.cc:1304] Created TensorFlow device (/job:localhost/replica:0/task:0/device:GPU:0 with 1219 MB memory) -> physical GPU (device: 0, name: NVIDIA TITAN Xp, pci bus id: 0000:82:00.0, compute capability: 6.1)\n"
     ]
    }
   ],
   "source": [
    "K.clear_session()\n",
    "def get_session(gpu_fraction=0.1):\n",
    "\n",
    "    gpu_options = tf.GPUOptions(per_process_gpu_memory_fraction=gpu_fraction)\n",
    "    return tf.Session(config=tf.ConfigProto(allow_soft_placement=True,gpu_options=gpu_options))\n",
    "\n",
    "KTF.set_session(get_session())\n"
   ]
  },
  {
   "cell_type": "code",
   "execution_count": null,
   "metadata": {},
   "outputs": [],
   "source": []
  },
  {
   "cell_type": "code",
   "execution_count": 9,
   "metadata": {},
   "outputs": [],
   "source": [
    "X_origin=[pd.read_csv('/DAS_Storage4/ijjin/Study_2/220921_Final/CellLine/Input/'+str(x)+'.csv',index_col=0) for x in range(len(GeneSet_Dic_withoutNA))]\n",
    "Drug=pd.read_csv('/DAS_Storage4/ijjin/Study_2/220921_Final/Drug/NCI60_compound_Morgan512.csv',index_col=0)\n"
   ]
  },
  {
   "cell_type": "code",
   "execution_count": 10,
   "metadata": {},
   "outputs": [],
   "source": [
    "NCI60_filtered=NCI60_randomized"
   ]
  },
  {
   "cell_type": "code",
   "execution_count": 11,
   "metadata": {},
   "outputs": [],
   "source": [
    "def pick_up_balanced(df,ratio_list,filter_list):\n",
    "    #df: NCI60_filtered\n",
    "    #ratio: [training_ratio,validation_ratio,test_ratio]\n",
    "    #filter_list: [] (empty): Unseen combination (Drug-Cell line-Concentration)/['NSC','CellName']: Unseen Pair/['NSC']: Unseen Drug/['CellName']: Unseen Cell line\n",
    "    if sum(ratio_list)!=1:\n",
    "        ratio_list=[0.8,0.1,0.1]\n",
    "        \n",
    "    if len(filter_list)==0:\n",
    "        test_Response_list=range(0,int(len(NCI60_filtered)*1/10))\n",
    "        training_Response_list=range(int(len(NCI60_filtered)*1/10),int(len(NCI60_filtered)*9/10))\n",
    "        validation_Response_list=range(int(len(NCI60_filtered)*9/10),(len(NCI60_filtered)))\n",
    "        return [test_Response_list,training_Response_list,validation_Response_list]\n",
    "    \n",
    "    else:\n",
    "        identifier_df=NCI60_filtered[filter_list+['CONCENTRATION']].groupby(by=filter_list).count().reset_index()\n",
    "        identifier_df.columns=filter_list+['count']\n",
    "        identifier_df=identifier_df.sort_values(by='count')\n",
    "        len_df=len(identifier_df)\n",
    "\n",
    "        test_idx=np.arange(0,len_df,10)\n",
    "        training_idx=[]\n",
    "        for i in np.arange(1,9,1):\n",
    "            training_idx.extend(np.arange(i,len_df,10))\n",
    "        training_idx=np.sort(training_idx)\n",
    "        validation_idx=np.arange(9,len_df,10)\n",
    "\n",
    "        test_pair_df=identifier_df.iloc[test_idx]\n",
    "        training_pair_df=identifier_df.iloc[training_idx]\n",
    "        validation_pair_df=identifier_df.iloc[validation_idx]\n",
    "\n",
    "        NCI60_filtered_with_index=NCI60_filtered[filter_list].reset_index()\n",
    "\n",
    "        test_df=pd.merge(test_pair_df,NCI60_filtered_with_index,how='inner',on=filter_list)\n",
    "        training_df=pd.merge(training_pair_df,NCI60_filtered_with_index,how='inner',on=filter_list)\n",
    "        validation_df=pd.merge(validation_pair_df,NCI60_filtered_with_index,how='inner',on=filter_list)\n",
    "\n",
    "        test_Response_list=test_df['index']\n",
    "        training_Response_list=training_df['index']\n",
    "        validation_Response_list=validation_df['index']\n",
    "\n",
    "\n",
    "        return [test_Response_list,training_Response_list,validation_Response_list]"
   ]
  },
  {
   "cell_type": "code",
   "execution_count": 12,
   "metadata": {},
   "outputs": [],
   "source": [
    "#Unseen Cell line\n",
    "test_Response_list,training_Response_list,validation_Response_list=pick_up_balanced(NCI60_filtered,[0.8,0.1,0.1],['CellName'])"
   ]
  },
  {
   "cell_type": "code",
   "execution_count": 13,
   "metadata": {},
   "outputs": [],
   "source": [
    "#relu\n",
    "def Making_Model():\n",
    "    #model_parameter=load_model('/DAS_Storage4/ijjin/Study_2/Single/NCI60_March22/Parameter/Model/220507_training_validation.hdf5',compile=False)\n",
    "\n",
    "    #Make Model for each gene set, that consists of multiple genes_attention by built-in(2019/05/08)\n",
    "    initializer = tf.keras.initializers.he_uniform()\n",
    "\n",
    "    #Drug level\n",
    "    Drug_feature_length=512\n",
    "    Drug_Input=Input((Drug_feature_length,), dtype='float32', name='Drug_Input')\n",
    "    Drug_Input=Input((Drug_feature_length,), dtype='float32')\n",
    "\n",
    "    Drug_Dense1=Dense(256, name='Drug_Dense_1',kernel_initializer=initializer)(Drug_Input)\n",
    "    Drug_Dense1=BatchNormalization()(Drug_Dense1)\n",
    "    Drug_Dense1=Activation('relu', name='Drug_RELU_1')(Drug_Dense1)\n",
    "\n",
    "    Drug_Dense2=Dense(128, name='Drug_Dense_2',kernel_initializer=initializer)(Drug_Dense1)\n",
    "    Drug_Dense2=BatchNormalization()(Drug_Dense2)\n",
    "    Drug_Dense2=Activation('relu', name='Drug_RELU_2')(Drug_Dense2)\n",
    "\n",
    "    Drug_Dense_New1=Dense(128, name='Drug_Dense_New1',kernel_initializer=initializer)(Drug_Input)\n",
    "    Drug_Dense_New1=BatchNormalization()(Drug_Dense_New1)\n",
    "    Drug_Dense_New1=Activation('relu', name='Drug_RELU_New1')(Drug_Dense_New1)\n",
    "\n",
    "    Drug_Dense_New2=Dense(32, name='Drug_Dense_New2',kernel_initializer=initializer)(Drug_Dense_New1)\n",
    "    Drug_Dense_New2=BatchNormalization()(Drug_Dense_New2)\n",
    "    Drug_Dense_New2=Activation('relu', name='Drug_RELU_New2')(Drug_Dense_New2)\n",
    "    \n",
    "    #Gene level\n",
    "    GeneSet_Model=[]\n",
    "    GeneSet_Input=[]\n",
    "    for GeneSet in GeneSet_Dic_withoutNA.keys():\n",
    "        Gene_Input=Input(shape=(len(GeneSet_Dic_withoutNA[GeneSet]),),dtype='float32', name=GeneSet+'_Input')\n",
    "        \n",
    "        Drug_effected_Model_for_Attention=[Gene_Input]\n",
    "        Drug_Dense_Geneset=Dense(int(len(GeneSet_Dic_withoutNA[GeneSet])/4)+1,dtype='float32',name=GeneSet+'_Drug',kernel_initializer=initializer)(Drug_Dense_New2)\n",
    "        Drug_Dense_Geneset=BatchNormalization(name=GeneSet+'_Drug_Batch')(Drug_Dense_Geneset)\n",
    "        Drug_Dense_Geneset=Activation('relu', name=GeneSet+'Drug_RELU')(Drug_Dense_Geneset)\n",
    "        Drug_effected_Model_for_Attention.append(Drug_Dense_Geneset) #Drug feature to attention layer\n",
    "        Gene_Concat=concatenate(Drug_effected_Model_for_Attention,axis=1,name=GeneSet+'_Concat')\n",
    "        Gene_Attention = Dense(len(GeneSet_Dic_withoutNA[GeneSet]), activation='tanh', name=GeneSet+'_Attention_Dense',kernel_initializer=initializer)(Gene_Concat)\n",
    "        Gene_Attention=Activation(activation='softmax', name=GeneSet+'_Attention_Softmax')(Gene_Attention)\n",
    "        Attention_Dot=dot([Gene_Input,Gene_Attention],axes=1,name=GeneSet+'_Dot')\n",
    "        Attention_Dot=BatchNormalization(name=GeneSet+'_BatchNormalized')(Attention_Dot)\n",
    "        Attention_Dot=Activation('relu',name=GeneSet+'_RELU')(Attention_Dot)\n",
    "        GeneSet_Model.append(Attention_Dot)\n",
    "        GeneSet_Input.append(Gene_Input)\n",
    "\n",
    "    Drug_effected_Model_for_Attention=GeneSet_Model.copy()\n",
    "    \n",
    "    \n",
    "    Drug_Dense_Sample=Dense(int(len(GeneSet_Dic_withoutNA)/16)+1,dtype='float32',name='Sample_Drug_Dense',kernel_initializer=initializer)(Drug_Dense_New2)\n",
    "    Drug_Dense_Sample=BatchNormalization(name=GeneSet+'Sample_Drug_Batch')(Drug_Dense_Sample)\n",
    "    Drug_Dense_Sample=Activation('relu', name='Sample_Drug_ReLU')(Drug_Dense_Sample)    #Drug feature to attention layer\n",
    "    Drug_effected_Model_for_Attention.append(Drug_Dense_Sample)\n",
    "    \n",
    "    GeneSet_Concat=concatenate(GeneSet_Model,axis=1, name='GeneSet_Concatenate')\n",
    "    Drug_effected_Concat=concatenate(Drug_effected_Model_for_Attention,axis=1, name='Drug_effected_Concatenate')\n",
    "    Sample_Attention=Dense(len(GeneSet_Dic_withoutNA.keys()),activation='tanh', name='Sample_Attention_Dense',kernel_initializer=initializer)(Drug_effected_Concat)\n",
    "    Sample_Attention=Activation(activation='softmax', name='Sample_Attention_Softmax')(Sample_Attention)\n",
    "    Sample_Multiplied=multiply([GeneSet_Concat,Sample_Attention], name='Sample_Attention_Multiplied')\n",
    "    Sample_Multiplied=BatchNormalization(name='Sample_Attention_BatchNormalized')(Sample_Multiplied)\n",
    "    Sample_Multiplied=Activation('relu',name='Sample_Attention_Relu')(Sample_Multiplied)\n",
    "    \n",
    "    Input_for_model=[]\n",
    "    for GeneSet_f in GeneSet_Input:\n",
    "        Input_for_model.append(GeneSet_f)\n",
    "    Input_for_model.append(Drug_Input)\n",
    "    \n",
    "    Dose_Input=Input((1,), dtype='float32', name='Dose_Input')\n",
    "    Input_for_model.append(Dose_Input)\n",
    "\n",
    "    Total_model=[Sample_Multiplied,Drug_Dense2]\n",
    "    Model_Concat=concatenate(Total_model,axis=1, name='Total_Concatenate')\n",
    "    Concated=Dense(128, name='Total_Dense')(Model_Concat)\n",
    "    Concated=BatchNormalization(name='Total_BatchNormalized')(Concated)\n",
    "    Concated=Activation(activation='relu', name='Total_RELU')(Concated)\n",
    "    \n",
    "    Final=Dense(32, name='Output_Dense1',kernel_initializer=initializer)(Concated)\n",
    "    Final=BatchNormalization()(Final)\n",
    "    Final=Activation(activation='relu',name='Output_RELU')(Final)\n",
    "    Final=Dense(8,name='Output_Dense2',kernel_initializer=initializer)(Final)\n",
    "    Final=BatchNormalization()(Final)\n",
    "    Final=Activation(activation='relu',name='Output_RELU2')(Final)\n",
    "    Final=Dense(2, name='Output_Dense3',kernel_initializer=initializer)(Final)    \n",
    "    Final=BatchNormalization()(Final)\n",
    "    Final=Activation(activation='relu',name='Output_RELU3')(Final)\n",
    "    \n",
    "    Final_y_max=Dense(1, name='y_max',kernel_initializer=initializer)(Final)\n",
    "    Final_y_min=Dense(1, name='y_min',kernel_initializer=initializer)(Final)\n",
    "    Final_slope=Dense(1, name='slope',kernel_initializer=initializer)(Final)\n",
    "    Final_IC50=Dense(1, name='IC50',kernel_initializer=initializer)(Final)\n",
    "\n",
    "    Final_1=subtract([Dose_Input,Final_IC50],name='Final_1')\n",
    "    Final_2=multiply([Final_slope,Final_1],name='Final_2')\n",
    "    Final_negative=Lambda(lambda x:-1*x)(Final_2)\n",
    "    Final_Sigmoid=Activation(activation='sigmoid',name='Final_Sigmoid')(Final_negative)\n",
    "    Final_scale=subtract([Final_y_max,Final_y_min],name='Final_scale')\n",
    "    Final_scale=Activation(activation='relu',name='Final_scale_activation')(Final_scale)\n",
    "    Final_3=multiply([Final_scale,Final_Sigmoid],name='Final_3')\n",
    "    Final_4=add([Final_3,Final_y_min],name='Final_4')\n",
    "    model=Model(inputs=Input_for_model,outputs=Final_4)\n",
    "\n",
    "    return model\n"
   ]
  },
  {
   "cell_type": "code",
   "execution_count": 14,
   "metadata": {},
   "outputs": [],
   "source": [
    "from keras.callbacks import Callback, ReduceLROnPlateau, EarlyStopping\n",
    "\n",
    "reduce_lr = ReduceLROnPlateau(monitor='val_loss', min_delta=0.0005, factor=0.1, patience=10, min_lr=0, verbose=1)\n",
    "es = EarlyStopping(monitor='val_loss', mode='min', verbose=1, patience=20, min_delta=0.0005, restore_best_weights=True)\n"
   ]
  },
  {
   "cell_type": "code",
   "execution_count": 15,
   "metadata": {},
   "outputs": [],
   "source": [
    "class HiDRA_DataGenerator(keras.utils.Sequence):\n",
    "    def __init__(self, idxs, batch_size=1024, shuffle=True):\n",
    "        'Initialization'\n",
    "        self.batch_size = batch_size\n",
    "        self.idxs = idxs\n",
    "        self.shuffle = shuffle\n",
    "        self.on_epoch_end()\n",
    "    \n",
    "    def __len__(self):\n",
    "        'Denotes the number of batches per epoch'\n",
    "        return int(np.floor(len(self.idxs) / self.batch_size))\n",
    "\n",
    "    def __getitem__(self, index):\n",
    "        'Generate one batch of data'\n",
    "        # Generate indexes of the batch\n",
    "        indexes = self.indexes[index*self.batch_size:(index+1)*self.batch_size]\n",
    "\n",
    "        # Find list of IDs\n",
    "        idxs_tmp = [self.idxs[k] for k in indexes]\n",
    "\n",
    "        # Generate data\n",
    "        X, y = self.__data_generation(idxs_tmp)\n",
    "\n",
    "        return X, y\n",
    "\n",
    "    def on_epoch_end(self):\n",
    "        'Updates indexes after each epoch'\n",
    "        self.indexes = np.arange(len(self.idxs))\n",
    "        if self.shuffle == True:\n",
    "            np.random.shuffle(self.indexes)\n",
    "\n",
    "    def __data_generation(self, idxs_tmp):\n",
    "        'Generates data containing batch_size samples' # X : (n_samples, *dim, n_channels)\n",
    "        # Initialization\n",
    "        # Generate data\n",
    "        NCI60_float_gen=NCI60_filtered.iloc[idxs_tmp]\n",
    "        X_origin_tmp=[df.loc[NCI60_float_gen['CellName']] for df in X_origin]\n",
    "        X_origin_tmp.append(Drug.loc[NCI60_float_gen['NSC']])\n",
    "        Dose_df=pd.DataFrame(NCI60_float_gen['CONCENTRATION'])\n",
    "        X_origin_tmp.append(Dose_df)\n",
    "        Y_origin_tmp=NCI60_float_gen['AVERAGE_GIPRCNT']\n",
    "\n",
    "        return X_origin_tmp, Y_origin_tmp"
   ]
  },
  {
   "cell_type": "code",
   "execution_count": null,
   "metadata": {},
   "outputs": [],
   "source": []
  },
  {
   "cell_type": "code",
   "execution_count": 16,
   "metadata": {},
   "outputs": [],
   "source": [
    "training_generator=HiDRA_DataGenerator(training_Response_list)\n",
    "validation_generator=HiDRA_DataGenerator(validation_Response_list)\n",
    "test_generator=HiDRA_DataGenerator(test_Response_list)"
   ]
  },
  {
   "cell_type": "code",
   "execution_count": 17,
   "metadata": {},
   "outputs": [],
   "source": [
    "def plcc_loss(y_true, y_pred):  \n",
    "    x = y_true\n",
    "    y = y_pred\n",
    "    mx = K.mean(x)\n",
    "    my = K.mean(y)\n",
    "    xm, ym = x-mx, y-my\n",
    "    r_num = K.sum(tf.multiply(xm,ym))\n",
    "    r_den = K.sqrt(tf.multiply(K.sum(K.square(xm)), K.sum(K.square(ym)))) + 1e-12\n",
    "    r = r_num / r_den\n",
    "    r = K.maximum(K.minimum(r, 1.0), -1.0)\n",
    "    return 1 - r \n",
    "\n",
    "def aggregated_loss(y_true,y_pred):\n",
    "    mse_value=tf.keras.metrics.mse(y_true,y_pred)\n",
    "    pearson_loss=plcc_loss(y_true,y_pred)\n",
    "    return mse_value+pearson_loss\n",
    "    \n",
    "    \n",
    "def plcc_metric(y_true, y_pred):  \n",
    "    x = y_true\n",
    "    y = y_pred\n",
    "    mx = K.mean(x)\n",
    "    my = K.mean(y)\n",
    "    xm, ym = x-mx, y-my\n",
    "    r_num = K.sum(tf.multiply(xm,ym))\n",
    "    r_den = K.sqrt(tf.multiply(K.sum(K.square(xm)), K.sum(K.square(ym)))) + 1e-12\n",
    "    return r_num / r_den\n"
   ]
  },
  {
   "cell_type": "code",
   "execution_count": 18,
   "metadata": {
    "scrolled": true
   },
   "outputs": [
    {
     "name": "stdout",
     "output_type": "stream",
     "text": [
      "WARNING:tensorflow:From /tmp/ipykernel_5115/3143332237.py:6: The name tf.keras.initializers.he_uniform is deprecated. Please use tf.compat.v1.keras.initializers.he_uniform instead.\n",
      "\n",
      "WARNING:tensorflow:From /usr/local/lib/python3.7/site-packages/keras/backend/tensorflow_backend.py:517: The name tf.placeholder is deprecated. Please use tf.compat.v1.placeholder instead.\n",
      "\n",
      "WARNING:tensorflow:From /usr/local/lib/python3.7/site-packages/keras/backend/tensorflow_backend.py:4138: The name tf.random_uniform is deprecated. Please use tf.random.uniform instead.\n",
      "\n",
      "WARNING:tensorflow:From /usr/local/lib/python3.7/site-packages/keras/optimizers.py:790: The name tf.train.Optimizer is deprecated. Please use tf.compat.v1.train.Optimizer instead.\n",
      "\n"
     ]
    }
   ],
   "source": [
    "#test\n",
    "model2=Making_Model()\n",
    "model2.compile(loss=aggregated_loss,optimizer=keras.optimizers.Adam(lr=0.01),metrics=[plcc_metric,'mean_squared_error'])\n"
   ]
  },
  {
   "cell_type": "code",
   "execution_count": 27,
   "metadata": {
    "scrolled": true
   },
   "outputs": [],
   "source": [
    "NCI60_filtered.iloc[test_Response_list].to_csv('/DAS_Storage4/ijjin/Study_2/220921_Final/Single/NCI60_March22/Training/Split_by_CellLine/Split_by_Drug_Test.csv')"
   ]
  },
  {
   "cell_type": "code",
   "execution_count": 26,
   "metadata": {},
   "outputs": [],
   "source": [
    "NCI60_filtered.iloc[training_Response_list].to_csv('/DAS_Storage4/ijjin/Study_2/220921_Final/Single/NCI60_March22/Training/Split_by_CellLine/Split_by_Drug_Training.csv')"
   ]
  },
  {
   "cell_type": "code",
   "execution_count": 28,
   "metadata": {},
   "outputs": [],
   "source": [
    "NCI60_filtered.iloc[validation_Response_list].to_csv('/DAS_Storage4/ijjin/Study_2/220921_Final/Single/NCI60_March22/Training/Split_by_CellLine/Split_by_Drug_Validation.csv')"
   ]
  },
  {
   "cell_type": "code",
   "execution_count": 22,
   "metadata": {
    "scrolled": true
   },
   "outputs": [
    {
     "name": "stdout",
     "output_type": "stream",
     "text": [
      "WARNING:tensorflow:From /usr/local/lib/python3.7/site-packages/tensorflow_core/python/ops/math_grad.py:1424: where (from tensorflow.python.ops.array_ops) is deprecated and will be removed in a future version.\n",
      "Instructions for updating:\n",
      "Use tf.where in 2.0, which has the same broadcast rule as np.where\n",
      "WARNING:tensorflow:From /usr/local/lib/python3.7/site-packages/keras/backend/tensorflow_backend.py:986: The name tf.assign_add is deprecated. Please use tf.compat.v1.assign_add instead.\n",
      "\n",
      "WARNING:tensorflow:From /usr/local/lib/python3.7/site-packages/keras/backend/tensorflow_backend.py:973: The name tf.assign is deprecated. Please use tf.compat.v1.assign instead.\n",
      "\n",
      "Epoch 1/2000\n",
      "WARNING:tensorflow:From /usr/local/lib/python3.7/site-packages/keras/backend/tensorflow_backend.py:174: The name tf.get_default_session is deprecated. Please use tf.compat.v1.get_default_session instead.\n",
      "\n",
      "WARNING:tensorflow:From /usr/local/lib/python3.7/site-packages/keras/backend/tensorflow_backend.py:190: The name tf.global_variables is deprecated. Please use tf.compat.v1.global_variables instead.\n",
      "\n",
      "WARNING:tensorflow:From /usr/local/lib/python3.7/site-packages/keras/backend/tensorflow_backend.py:199: The name tf.is_variable_initialized is deprecated. Please use tf.compat.v1.is_variable_initialized instead.\n",
      "\n",
      "WARNING:tensorflow:From /usr/local/lib/python3.7/site-packages/keras/backend/tensorflow_backend.py:206: The name tf.variables_initializer is deprecated. Please use tf.compat.v1.variables_initializer instead.\n",
      "\n"
     ]
    },
    {
     "name": "stderr",
     "output_type": "stream",
     "text": [
      "2022-11-07 13:22:35.472208: I tensorflow/stream_executor/platform/default/dso_loader.cc:44] Successfully opened dynamic library libcublas.so.10.0\n"
     ]
    },
    {
     "name": "stdout",
     "output_type": "stream",
     "text": [
      "3589/3589 [==============================] - 3744s 1s/step - loss: 0.2153 - plcc_metric: 0.8690 - mean_squared_error: 0.0843 - val_loss: 0.1504 - val_plcc_metric: 0.9062 - val_mean_squared_error: 0.0566\n",
      "Epoch 2/2000\n",
      "3589/3589 [==============================] - 3459s 964ms/step - loss: 0.1186 - plcc_metric: 0.9267 - mean_squared_error: 0.0453 - val_loss: 0.1225 - val_plcc_metric: 0.9235 - val_mean_squared_error: 0.0460\n",
      "Epoch 3/2000\n",
      "3589/3589 [==============================] - 3718s 1s/step - loss: 0.1023 - plcc_metric: 0.9369 - mean_squared_error: 0.0393 - val_loss: 0.1134 - val_plcc_metric: 0.9296 - val_mean_squared_error: 0.0430\n",
      "Epoch 4/2000\n",
      "3589/3589 [==============================] - 3682s 1s/step - loss: 0.0942 - plcc_metric: 0.9421 - mean_squared_error: 0.0362 - val_loss: 0.1130 - val_plcc_metric: 0.9299 - val_mean_squared_error: 0.0428\n",
      "Epoch 5/2000\n",
      "3589/3589 [==============================] - 3350s 933ms/step - loss: 0.0891 - plcc_metric: 0.9452 - mean_squared_error: 0.0343 - val_loss: 0.1099 - val_plcc_metric: 0.9315 - val_mean_squared_error: 0.0415\n",
      "Epoch 6/2000\n",
      "3589/3589 [==============================] - 3340s 931ms/step - loss: 0.0858 - plcc_metric: 0.9473 - mean_squared_error: 0.0331 - val_loss: 0.1069 - val_plcc_metric: 0.9342 - val_mean_squared_error: 0.0411\n",
      "Epoch 7/2000\n",
      " 553/3589 [===>..........................] - ETA: 43:15 - loss: 0.0826 - plcc_metric: 0.9493 - mean_squared_error: 0.0319"
     ]
    },
    {
     "name": "stderr",
     "output_type": "stream",
     "text": [
      "IOPub message rate exceeded.\n",
      "The notebook server will temporarily stop sending output\n",
      "to the client in order to avoid crashing it.\n",
      "To change this limit, set the config variable\n",
      "`--NotebookApp.iopub_msg_rate_limit`.\n",
      "\n",
      "Current values:\n",
      "NotebookApp.iopub_msg_rate_limit=1000.0 (msgs/sec)\n",
      "NotebookApp.rate_limit_window=3.0 (secs)\n",
      "\n"
     ]
    },
    {
     "name": "stdout",
     "output_type": "stream",
     "text": [
      "3053/3589 [========================>.....] - ETA: 8:18 - loss: 0.0811 - plcc_metric: 0.9502 - mean_squared_error: 0.0313"
     ]
    },
    {
     "name": "stderr",
     "output_type": "stream",
     "text": [
      "IOPub message rate exceeded.\n",
      "The notebook server will temporarily stop sending output\n",
      "to the client in order to avoid crashing it.\n",
      "To change this limit, set the config variable\n",
      "`--NotebookApp.iopub_msg_rate_limit`.\n",
      "\n",
      "Current values:\n",
      "NotebookApp.iopub_msg_rate_limit=1000.0 (msgs/sec)\n",
      "NotebookApp.rate_limit_window=3.0 (secs)\n",
      "\n"
     ]
    },
    {
     "name": "stdout",
     "output_type": "stream",
     "text": [
      "3589/3589 [==============================] - 3688s 1s/step - loss: 0.0795 - plcc_metric: 0.9512 - mean_squared_error: 0.0307 - val_loss: 0.1034 - val_plcc_metric: 0.9357 - val_mean_squared_error: 0.0391\n",
      "Epoch 10/2000\n",
      "2396/3589 [===================>..........] - ETA: 19:27 - loss: 0.0779 - plcc_metric: 0.9522 - mean_squared_error: 0.0301"
     ]
    },
    {
     "name": "stderr",
     "output_type": "stream",
     "text": [
      "IOPub message rate exceeded.\n",
      "The notebook server will temporarily stop sending output\n",
      "to the client in order to avoid crashing it.\n",
      "To change this limit, set the config variable\n",
      "`--NotebookApp.iopub_msg_rate_limit`.\n",
      "\n",
      "Current values:\n",
      "NotebookApp.iopub_msg_rate_limit=1000.0 (msgs/sec)\n",
      "NotebookApp.rate_limit_window=3.0 (secs)\n",
      "\n"
     ]
    },
    {
     "name": "stdout",
     "output_type": "stream",
     "text": [
      "3589/3589 [==============================] - 3708s 1s/step - loss: 0.0770 - plcc_metric: 0.9527 - mean_squared_error: 0.0298 - val_loss: 0.1023 - val_plcc_metric: 0.9368 - val_mean_squared_error: 0.0391\n",
      "Epoch 12/2000\n",
      "1665/3589 [============>.................] - ETA: 31:14 - loss: 0.0753 - plcc_metric: 0.9538 - mean_squared_error: 0.0291"
     ]
    },
    {
     "name": "stderr",
     "output_type": "stream",
     "text": [
      "IOPub message rate exceeded.\n",
      "The notebook server will temporarily stop sending output\n",
      "to the client in order to avoid crashing it.\n",
      "To change this limit, set the config variable\n",
      "`--NotebookApp.iopub_msg_rate_limit`.\n",
      "\n",
      "Current values:\n",
      "NotebookApp.iopub_msg_rate_limit=1000.0 (msgs/sec)\n",
      "NotebookApp.rate_limit_window=3.0 (secs)\n",
      "\n"
     ]
    },
    {
     "name": "stdout",
     "output_type": "stream",
     "text": [
      "2903/3589 [=======================>......] - ETA: 10:39 - loss: 0.0748 - plcc_metric: 0.9541 - mean_squared_error: 0.0289"
     ]
    },
    {
     "name": "stderr",
     "output_type": "stream",
     "text": [
      "IOPub message rate exceeded.\n",
      "The notebook server will temporarily stop sending output\n",
      "to the client in order to avoid crashing it.\n",
      "To change this limit, set the config variable\n",
      "`--NotebookApp.iopub_msg_rate_limit`.\n",
      "\n",
      "Current values:\n",
      "NotebookApp.iopub_msg_rate_limit=1000.0 (msgs/sec)\n",
      "NotebookApp.rate_limit_window=3.0 (secs)\n",
      "\n"
     ]
    },
    {
     "name": "stdout",
     "output_type": "stream",
     "text": [
      "1159/3589 [========>.....................] - ETA: 35:41 - loss: 0.0734 - plcc_metric: 0.9550 - mean_squared_error: 0.0284"
     ]
    },
    {
     "name": "stderr",
     "output_type": "stream",
     "text": [
      "IOPub message rate exceeded.\n",
      "The notebook server will temporarily stop sending output\n",
      "to the client in order to avoid crashing it.\n",
      "To change this limit, set the config variable\n",
      "`--NotebookApp.iopub_msg_rate_limit`.\n",
      "\n",
      "Current values:\n",
      "NotebookApp.iopub_msg_rate_limit=1000.0 (msgs/sec)\n",
      "NotebookApp.rate_limit_window=3.0 (secs)\n",
      "\n"
     ]
    },
    {
     "name": "stdout",
     "output_type": "stream",
     "text": [
      "2421/3589 [===================>..........] - ETA: 16:57 - loss: 0.0731 - plcc_metric: 0.9552 - mean_squared_error: 0.0283"
     ]
    },
    {
     "name": "stderr",
     "output_type": "stream",
     "text": [
      "IOPub message rate exceeded.\n",
      "The notebook server will temporarily stop sending output\n",
      "to the client in order to avoid crashing it.\n",
      "To change this limit, set the config variable\n",
      "`--NotebookApp.iopub_msg_rate_limit`.\n",
      "\n",
      "Current values:\n",
      "NotebookApp.iopub_msg_rate_limit=1000.0 (msgs/sec)\n",
      "NotebookApp.rate_limit_window=3.0 (secs)\n",
      "\n"
     ]
    },
    {
     "name": "stdout",
     "output_type": "stream",
     "text": [
      "3589/3589 [==============================] - 3317s 924ms/step - loss: 0.0735 - plcc_metric: 0.9549 - mean_squared_error: 0.0284 - val_loss: 0.1004 - val_plcc_metric: 0.9376 - val_mean_squared_error: 0.0380\n",
      "Epoch 16/2000\n",
      " 567/3589 [===>..........................] - ETA: 44:22 - loss: 0.0715 - plcc_metric: 0.9562 - mean_squared_error: 0.0276"
     ]
    },
    {
     "name": "stderr",
     "output_type": "stream",
     "text": [
      "IOPub message rate exceeded.\n",
      "The notebook server will temporarily stop sending output\n",
      "to the client in order to avoid crashing it.\n",
      "To change this limit, set the config variable\n",
      "`--NotebookApp.iopub_msg_rate_limit`.\n",
      "\n",
      "Current values:\n",
      "NotebookApp.iopub_msg_rate_limit=1000.0 (msgs/sec)\n",
      "NotebookApp.rate_limit_window=3.0 (secs)\n",
      "\n"
     ]
    },
    {
     "name": "stdout",
     "output_type": "stream",
     "text": [
      "3589/3589 [==============================] - 3319s 925ms/step - loss: 0.0728 - plcc_metric: 0.9554 - mean_squared_error: 0.0282 - val_loss: 0.1020 - val_plcc_metric: 0.9369 - val_mean_squared_error: 0.0389\n",
      "Epoch 17/2000\n",
      "1712/3589 [=============>................] - ETA: 27:35 - loss: 0.0713 - plcc_metric: 0.9563 - mean_squared_error: 0.0276"
     ]
    },
    {
     "name": "stderr",
     "output_type": "stream",
     "text": [
      "IOPub message rate exceeded.\n",
      "The notebook server will temporarily stop sending output\n",
      "to the client in order to avoid crashing it.\n",
      "To change this limit, set the config variable\n",
      "`--NotebookApp.iopub_msg_rate_limit`.\n",
      "\n",
      "Current values:\n",
      "NotebookApp.iopub_msg_rate_limit=1000.0 (msgs/sec)\n",
      "NotebookApp.rate_limit_window=3.0 (secs)\n",
      "\n"
     ]
    },
    {
     "name": "stdout",
     "output_type": "stream",
     "text": [
      "3497/3589 [============================>.] - ETA: 1:21 - loss: 0.0722 - plcc_metric: 0.9557 - mean_squared_error: 0.0279"
     ]
    },
    {
     "name": "stderr",
     "output_type": "stream",
     "text": [
      "IOPub message rate exceeded.\n",
      "The notebook server will temporarily stop sending output\n",
      "to the client in order to avoid crashing it.\n",
      "To change this limit, set the config variable\n",
      "`--NotebookApp.iopub_msg_rate_limit`.\n",
      "\n",
      "Current values:\n",
      "NotebookApp.iopub_msg_rate_limit=1000.0 (msgs/sec)\n",
      "NotebookApp.rate_limit_window=3.0 (secs)\n",
      "\n"
     ]
    },
    {
     "name": "stdout",
     "output_type": "stream",
     "text": [
      "3589/3589 [==============================] - 3332s 928ms/step - loss: 0.0717 - plcc_metric: 0.9561 - mean_squared_error: 0.0277 - val_loss: 0.1019 - val_plcc_metric: 0.9369 - val_mean_squared_error: 0.0388\n",
      "Epoch 19/2000\n",
      "1097/3589 [========>.....................] - ETA: 36:52 - loss: 0.0695 - plcc_metric: 0.9574 - mean_squared_error: 0.0269"
     ]
    },
    {
     "name": "stderr",
     "output_type": "stream",
     "text": [
      "IOPub message rate exceeded.\n",
      "The notebook server will temporarily stop sending output\n",
      "to the client in order to avoid crashing it.\n",
      "To change this limit, set the config variable\n",
      "`--NotebookApp.iopub_msg_rate_limit`.\n",
      "\n",
      "Current values:\n",
      "NotebookApp.iopub_msg_rate_limit=1000.0 (msgs/sec)\n",
      "NotebookApp.rate_limit_window=3.0 (secs)\n",
      "\n"
     ]
    },
    {
     "name": "stdout",
     "output_type": "stream",
     "text": [
      "2903/3589 [=======================>......] - ETA: 10:02 - loss: 0.0708 - plcc_metric: 0.9566 - mean_squared_error: 0.0274"
     ]
    },
    {
     "name": "stderr",
     "output_type": "stream",
     "text": [
      "IOPub message rate exceeded.\n",
      "The notebook server will temporarily stop sending output\n",
      "to the client in order to avoid crashing it.\n",
      "To change this limit, set the config variable\n",
      "`--NotebookApp.iopub_msg_rate_limit`.\n",
      "\n",
      "Current values:\n",
      "NotebookApp.iopub_msg_rate_limit=1000.0 (msgs/sec)\n",
      "NotebookApp.rate_limit_window=3.0 (secs)\n",
      "\n"
     ]
    },
    {
     "name": "stdout",
     "output_type": "stream",
     "text": [
      "3589/3589 [==============================] - 3319s 925ms/step - loss: 0.0706 - plcc_metric: 0.9567 - mean_squared_error: 0.0273 - val_loss: 0.1037 - val_plcc_metric: 0.9370 - val_mean_squared_error: 0.0407\n",
      "Epoch 21/2000\n",
      "  38/3589 [..............................] - ETA: 58:22 - loss: 0.0685 - plcc_metric: 0.9580 - mean_squared_error: 0.0265"
     ]
    },
    {
     "name": "stderr",
     "output_type": "stream",
     "text": [
      "IOPub message rate exceeded.\n",
      "The notebook server will temporarily stop sending output\n",
      "to the client in order to avoid crashing it.\n",
      "To change this limit, set the config variable\n",
      "`--NotebookApp.iopub_msg_rate_limit`.\n",
      "\n",
      "Current values:\n",
      "NotebookApp.iopub_msg_rate_limit=1000.0 (msgs/sec)\n",
      "NotebookApp.rate_limit_window=3.0 (secs)\n",
      "\n"
     ]
    },
    {
     "name": "stdout",
     "output_type": "stream",
     "text": [
      "1778/3589 [=============>................] - ETA: 26:15 - loss: 0.0695 - plcc_metric: 0.9574 - mean_squared_error: 0.0269"
     ]
    },
    {
     "name": "stderr",
     "output_type": "stream",
     "text": [
      "IOPub message rate exceeded.\n",
      "The notebook server will temporarily stop sending output\n",
      "to the client in order to avoid crashing it.\n",
      "To change this limit, set the config variable\n",
      "`--NotebookApp.iopub_msg_rate_limit`.\n",
      "\n",
      "Current values:\n",
      "NotebookApp.iopub_msg_rate_limit=1000.0 (msgs/sec)\n",
      "NotebookApp.rate_limit_window=3.0 (secs)\n",
      "\n"
     ]
    },
    {
     "name": "stdout",
     "output_type": "stream",
     "text": [
      "3589/3589 [==============================] - 3300s 920ms/step - loss: 0.0701 - plcc_metric: 0.9570 - mean_squared_error: 0.0271 - val_loss: 0.1019 - val_plcc_metric: 0.9368 - val_mean_squared_error: 0.0386\n",
      "Epoch 22/2000\n",
      "1939/3589 [===============>..............] - ETA: 23:54 - loss: 0.0693 - plcc_metric: 0.9576 - mean_squared_error: 0.0268"
     ]
    },
    {
     "name": "stderr",
     "output_type": "stream",
     "text": [
      "IOPub message rate exceeded.\n",
      "The notebook server will temporarily stop sending output\n",
      "to the client in order to avoid crashing it.\n",
      "To change this limit, set the config variable\n",
      "`--NotebookApp.iopub_msg_rate_limit`.\n",
      "\n",
      "Current values:\n",
      "NotebookApp.iopub_msg_rate_limit=1000.0 (msgs/sec)\n",
      "NotebookApp.rate_limit_window=3.0 (secs)\n",
      "\n"
     ]
    },
    {
     "name": "stdout",
     "output_type": "stream",
     "text": [
      "3589/3589 [==============================] - 3298s 919ms/step - loss: 0.0697 - plcc_metric: 0.9573 - mean_squared_error: 0.0270 - val_loss: 0.1015 - val_plcc_metric: 0.9374 - val_mean_squared_error: 0.0389\n",
      "Epoch 23/2000\n",
      "3589/3589 [==============================] - 3479s 969ms/step - loss: 0.0693 - plcc_metric: 0.9575 - mean_squared_error: 0.0268 - val_loss: 0.1019 - val_plcc_metric: 0.9366 - val_mean_squared_error: 0.0385\n",
      "Epoch 24/2000\n",
      "3589/3589 [==============================] - 3637s 1s/step - loss: 0.0689 - plcc_metric: 0.9578 - mean_squared_error: 0.0267 - val_loss: 0.1022 - val_plcc_metric: 0.9370 - val_mean_squared_error: 0.0391\n",
      "Epoch 25/2000\n",
      "3589/3589 [==============================] - 3474s 968ms/step - loss: 0.0685 - plcc_metric: 0.9580 - mean_squared_error: 0.0265 - val_loss: 0.1019 - val_plcc_metric: 0.9370 - val_mean_squared_error: 0.0389\n",
      "\n",
      "Epoch 00025: ReduceLROnPlateau reducing learning rate to 0.0009999999776482583.\n",
      "Epoch 26/2000\n",
      "3589/3589 [==============================] - 3121s 870ms/step - loss: 0.0629 - plcc_metric: 0.9613 - mean_squared_error: 0.0243 - val_loss: 0.1015 - val_plcc_metric: 0.9372 - val_mean_squared_error: 0.0387\n",
      "Epoch 27/2000\n",
      "3589/3589 [==============================] - 2999s 836ms/step - loss: 0.0614 - plcc_metric: 0.9623 - mean_squared_error: 0.0237 - val_loss: 0.1017 - val_plcc_metric: 0.9372 - val_mean_squared_error: 0.0389\n",
      "Epoch 28/2000\n",
      "3589/3589 [==============================] - 3029s 844ms/step - loss: 0.0608 - plcc_metric: 0.9626 - mean_squared_error: 0.0235 - val_loss: 0.1018 - val_plcc_metric: 0.9370 - val_mean_squared_error: 0.0388\n",
      "Epoch 29/2000\n",
      "3589/3589 [==============================] - 3117s 869ms/step - loss: 0.0605 - plcc_metric: 0.9628 - mean_squared_error: 0.0234 - val_loss: 0.1014 - val_plcc_metric: 0.9372 - val_mean_squared_error: 0.0386\n",
      "Epoch 30/2000\n",
      "3589/3589 [==============================] - 3268s 911ms/step - loss: 0.0603 - plcc_metric: 0.9630 - mean_squared_error: 0.0233 - val_loss: 0.1010 - val_plcc_metric: 0.9375 - val_mean_squared_error: 0.0384\n",
      "Epoch 31/2000\n",
      "3589/3589 [==============================] - 3338s 930ms/step - loss: 0.0600 - plcc_metric: 0.9631 - mean_squared_error: 0.0232 - val_loss: 0.1009 - val_plcc_metric: 0.9376 - val_mean_squared_error: 0.0385\n",
      "Epoch 32/2000\n",
      "3589/3589 [==============================] - 3083s 859ms/step - loss: 0.0599 - plcc_metric: 0.9632 - mean_squared_error: 0.0231 - val_loss: 0.1010 - val_plcc_metric: 0.9375 - val_mean_squared_error: 0.0385\n",
      "Epoch 33/2000\n",
      "3589/3589 [==============================] - 3031s 845ms/step - loss: 0.0597 - plcc_metric: 0.9633 - mean_squared_error: 0.0231 - val_loss: 0.1014 - val_plcc_metric: 0.9373 - val_mean_squared_error: 0.0387\n",
      "Epoch 34/2000\n",
      "3589/3589 [==============================] - 2984s 831ms/step - loss: 0.0596 - plcc_metric: 0.9634 - mean_squared_error: 0.0230 - val_loss: 0.1013 - val_plcc_metric: 0.9373 - val_mean_squared_error: 0.0387\n",
      "Epoch 35/2000\n",
      "3589/3589 [==============================] - 2991s 833ms/step - loss: 0.0594 - plcc_metric: 0.9635 - mean_squared_error: 0.0230 - val_loss: 0.1018 - val_plcc_metric: 0.9369 - val_mean_squared_error: 0.0388\n",
      "\n",
      "Epoch 00035: ReduceLROnPlateau reducing learning rate to 9.999999310821295e-05.\n",
      "Restoring model weights from the end of the best epoch\n",
      "Epoch 00035: early stopping\n"
     ]
    }
   ],
   "source": [
    "#New dataset(GIPRCNT) on New model with MinMax_Training whole dataset (y_max=2)\n",
    "hist=model2.fit_generator(generator=training_generator, steps_per_epoch=len(training_Response_list) // 1024, epochs=2000,verbose=1,validation_data=validation_generator,use_multiprocessing=True,workers=10,callbacks=[reduce_lr,es])"
   ]
  },
  {
   "cell_type": "code",
   "execution_count": 23,
   "metadata": {},
   "outputs": [],
   "source": [
    "pd.DataFrame(hist.history).to_csv('/DAS_Storage4/ijjin/Study_2/220921_Final/Single/NCI60_March22/Result/221107_Full_by_CellLine_Training_and_Validation.csv')"
   ]
  },
  {
   "cell_type": "code",
   "execution_count": 24,
   "metadata": {},
   "outputs": [],
   "source": [
    "model2.save('/DAS_Storage4/ijjin/Study_2/220921_Final/Single/NCI60_March22/Result/221107_Split_by_CellLine/221107_Trained_Model.hdf5')"
   ]
  },
  {
   "cell_type": "code",
   "execution_count": 21,
   "metadata": {},
   "outputs": [
    {
     "data": {
      "text/plain": [
       "[0.09522337975516303, 0.9422546273020849, 0.037478006875448645]"
      ]
     },
     "execution_count": 21,
     "metadata": {},
     "output_type": "execute_result"
    }
   ],
   "source": [
    "model2.evaluate_generator(test_generator)"
   ]
  },
  {
   "cell_type": "code",
   "execution_count": 29,
   "metadata": {},
   "outputs": [],
   "source": [
    "test_idx=test_generator.indexes\n",
    "predicted_tmp=model2.predict_generator(test_generator)\n",
    "predicted_tmp=[x[0] for x in predicted_tmp]"
   ]
  },
  {
   "cell_type": "code",
   "execution_count": 33,
   "metadata": {},
   "outputs": [],
   "source": [
    "test_idx_df=pd.DataFrame({'idx':test_Response_list})\n",
    "test_idx_new=test_idx_df.iloc[test_idx].idx.values"
   ]
  },
  {
   "cell_type": "code",
   "execution_count": 34,
   "metadata": {},
   "outputs": [],
   "source": [
    "test_df=NCI60_filtered.iloc[test_idx_new]\n",
    "test_df=test_df.iloc[0:len(predicted_tmp)]"
   ]
  },
  {
   "cell_type": "code",
   "execution_count": 35,
   "metadata": {},
   "outputs": [],
   "source": [
    "test_df['predicted']=predicted_tmp"
   ]
  },
  {
   "cell_type": "code",
   "execution_count": 52,
   "metadata": {},
   "outputs": [
    {
     "data": {
      "text/html": [
       "<div>\n",
       "<style scoped>\n",
       "    .dataframe tbody tr th:only-of-type {\n",
       "        vertical-align: middle;\n",
       "    }\n",
       "\n",
       "    .dataframe tbody tr th {\n",
       "        vertical-align: top;\n",
       "    }\n",
       "\n",
       "    .dataframe thead th {\n",
       "        text-align: right;\n",
       "    }\n",
       "</style>\n",
       "<table border=\"1\" class=\"dataframe\">\n",
       "  <thead>\n",
       "    <tr style=\"text-align: right;\">\n",
       "      <th></th>\n",
       "      <th>NSC</th>\n",
       "      <th>CONCENTRATION</th>\n",
       "      <th>AVERAGE_GIPRCNT</th>\n",
       "      <th>Viability_max</th>\n",
       "      <th>count</th>\n",
       "      <th>y_max</th>\n",
       "      <th>y_min</th>\n",
       "      <th>IC50</th>\n",
       "      <th>slope</th>\n",
       "      <th>y_max_predicted</th>\n",
       "      <th>y_min_predicted</th>\n",
       "      <th>IC50_predicted</th>\n",
       "      <th>slope_predicted</th>\n",
       "      <th>predicted_from_parameter</th>\n",
       "    </tr>\n",
       "  </thead>\n",
       "  <tbody>\n",
       "    <tr>\n",
       "      <th>NSC</th>\n",
       "      <td>1.000000</td>\n",
       "      <td>-0.009875</td>\n",
       "      <td>0.051134</td>\n",
       "      <td>0.017042</td>\n",
       "      <td>-0.151157</td>\n",
       "      <td>-0.034400</td>\n",
       "      <td>0.008165</td>\n",
       "      <td>0.098311</td>\n",
       "      <td>0.046320</td>\n",
       "      <td>-0.068064</td>\n",
       "      <td>0.047250</td>\n",
       "      <td>0.115565</td>\n",
       "      <td>0.020515</td>\n",
       "      <td>0.055035</td>\n",
       "    </tr>\n",
       "    <tr>\n",
       "      <th>CONCENTRATION</th>\n",
       "      <td>-0.009875</td>\n",
       "      <td>1.000000</td>\n",
       "      <td>-0.688282</td>\n",
       "      <td>-0.000180</td>\n",
       "      <td>-0.031487</td>\n",
       "      <td>-0.000615</td>\n",
       "      <td>-0.007470</td>\n",
       "      <td>0.133915</td>\n",
       "      <td>0.014755</td>\n",
       "      <td>-0.061180</td>\n",
       "      <td>0.021393</td>\n",
       "      <td>0.089925</td>\n",
       "      <td>0.028598</td>\n",
       "      <td>-0.723129</td>\n",
       "    </tr>\n",
       "    <tr>\n",
       "      <th>AVERAGE_GIPRCNT</th>\n",
       "      <td>0.051134</td>\n",
       "      <td>-0.688282</td>\n",
       "      <td>1.000000</td>\n",
       "      <td>0.100432</td>\n",
       "      <td>-0.039622</td>\n",
       "      <td>-0.052520</td>\n",
       "      <td>0.141040</td>\n",
       "      <td>0.249257</td>\n",
       "      <td>0.030983</td>\n",
       "      <td>-0.112830</td>\n",
       "      <td>0.150025</td>\n",
       "      <td>0.239026</td>\n",
       "      <td>-0.000546</td>\n",
       "      <td>0.940659</td>\n",
       "    </tr>\n",
       "    <tr>\n",
       "      <th>Viability_max</th>\n",
       "      <td>0.017042</td>\n",
       "      <td>-0.000180</td>\n",
       "      <td>0.100432</td>\n",
       "      <td>1.000000</td>\n",
       "      <td>0.007303</td>\n",
       "      <td>0.664885</td>\n",
       "      <td>-0.034199</td>\n",
       "      <td>0.144502</td>\n",
       "      <td>0.131182</td>\n",
       "      <td>-0.139263</td>\n",
       "      <td>-0.033495</td>\n",
       "      <td>0.150296</td>\n",
       "      <td>0.104706</td>\n",
       "      <td>0.042835</td>\n",
       "    </tr>\n",
       "    <tr>\n",
       "      <th>count</th>\n",
       "      <td>-0.151157</td>\n",
       "      <td>-0.031487</td>\n",
       "      <td>-0.039622</td>\n",
       "      <td>0.007303</td>\n",
       "      <td>1.000000</td>\n",
       "      <td>-0.038022</td>\n",
       "      <td>0.053666</td>\n",
       "      <td>-0.185382</td>\n",
       "      <td>-0.133867</td>\n",
       "      <td>0.213651</td>\n",
       "      <td>0.045274</td>\n",
       "      <td>-0.234622</td>\n",
       "      <td>-0.157689</td>\n",
       "      <td>-0.041373</td>\n",
       "    </tr>\n",
       "    <tr>\n",
       "      <th>y_max</th>\n",
       "      <td>-0.034400</td>\n",
       "      <td>-0.000615</td>\n",
       "      <td>-0.052520</td>\n",
       "      <td>0.664885</td>\n",
       "      <td>-0.038022</td>\n",
       "      <td>1.000000</td>\n",
       "      <td>-0.083658</td>\n",
       "      <td>-0.248374</td>\n",
       "      <td>0.014130</td>\n",
       "      <td>0.073200</td>\n",
       "      <td>-0.143158</td>\n",
       "      <td>-0.185403</td>\n",
       "      <td>0.022438</td>\n",
       "      <td>-0.078058</td>\n",
       "    </tr>\n",
       "    <tr>\n",
       "      <th>y_min</th>\n",
       "      <td>0.008165</td>\n",
       "      <td>-0.007470</td>\n",
       "      <td>0.141040</td>\n",
       "      <td>-0.034199</td>\n",
       "      <td>0.053666</td>\n",
       "      <td>-0.083658</td>\n",
       "      <td>1.000000</td>\n",
       "      <td>-0.189249</td>\n",
       "      <td>-0.106171</td>\n",
       "      <td>0.486571</td>\n",
       "      <td>0.696957</td>\n",
       "      <td>-0.141280</td>\n",
       "      <td>-0.645308</td>\n",
       "      <td>0.091752</td>\n",
       "    </tr>\n",
       "    <tr>\n",
       "      <th>IC50</th>\n",
       "      <td>0.098311</td>\n",
       "      <td>0.133915</td>\n",
       "      <td>0.249257</td>\n",
       "      <td>0.144502</td>\n",
       "      <td>-0.185382</td>\n",
       "      <td>-0.248374</td>\n",
       "      <td>-0.189249</td>\n",
       "      <td>1.000000</td>\n",
       "      <td>0.105030</td>\n",
       "      <td>-0.663024</td>\n",
       "      <td>0.031269</td>\n",
       "      <td>0.841790</td>\n",
       "      <td>0.406579</td>\n",
       "      <td>0.207049</td>\n",
       "    </tr>\n",
       "    <tr>\n",
       "      <th>slope</th>\n",
       "      <td>0.046320</td>\n",
       "      <td>0.014755</td>\n",
       "      <td>0.030983</td>\n",
       "      <td>0.131182</td>\n",
       "      <td>-0.133867</td>\n",
       "      <td>0.014130</td>\n",
       "      <td>-0.106171</td>\n",
       "      <td>0.105030</td>\n",
       "      <td>1.000000</td>\n",
       "      <td>-0.342722</td>\n",
       "      <td>-0.259599</td>\n",
       "      <td>0.252609</td>\n",
       "      <td>0.343058</td>\n",
       "      <td>0.024969</td>\n",
       "    </tr>\n",
       "    <tr>\n",
       "      <th>y_max_predicted</th>\n",
       "      <td>-0.068064</td>\n",
       "      <td>-0.061180</td>\n",
       "      <td>-0.112830</td>\n",
       "      <td>-0.139263</td>\n",
       "      <td>0.213651</td>\n",
       "      <td>0.073200</td>\n",
       "      <td>0.486571</td>\n",
       "      <td>-0.663024</td>\n",
       "      <td>-0.342722</td>\n",
       "      <td>1.000000</td>\n",
       "      <td>0.592759</td>\n",
       "      <td>-0.846081</td>\n",
       "      <td>-0.921607</td>\n",
       "      <td>-0.116383</td>\n",
       "    </tr>\n",
       "    <tr>\n",
       "      <th>y_min_predicted</th>\n",
       "      <td>0.047250</td>\n",
       "      <td>0.021393</td>\n",
       "      <td>0.150025</td>\n",
       "      <td>-0.033495</td>\n",
       "      <td>0.045274</td>\n",
       "      <td>-0.143158</td>\n",
       "      <td>0.696957</td>\n",
       "      <td>0.031269</td>\n",
       "      <td>-0.259599</td>\n",
       "      <td>0.592759</td>\n",
       "      <td>1.000000</td>\n",
       "      <td>-0.072209</td>\n",
       "      <td>-0.858878</td>\n",
       "      <td>0.154506</td>\n",
       "    </tr>\n",
       "    <tr>\n",
       "      <th>IC50_predicted</th>\n",
       "      <td>0.115565</td>\n",
       "      <td>0.089925</td>\n",
       "      <td>0.239026</td>\n",
       "      <td>0.150296</td>\n",
       "      <td>-0.234622</td>\n",
       "      <td>-0.185403</td>\n",
       "      <td>-0.141280</td>\n",
       "      <td>0.841790</td>\n",
       "      <td>0.252609</td>\n",
       "      <td>-0.846081</td>\n",
       "      <td>-0.072209</td>\n",
       "      <td>1.000000</td>\n",
       "      <td>0.572862</td>\n",
       "      <td>0.246392</td>\n",
       "    </tr>\n",
       "    <tr>\n",
       "      <th>slope_predicted</th>\n",
       "      <td>0.020515</td>\n",
       "      <td>0.028598</td>\n",
       "      <td>-0.000546</td>\n",
       "      <td>0.104706</td>\n",
       "      <td>-0.157689</td>\n",
       "      <td>0.022438</td>\n",
       "      <td>-0.645308</td>\n",
       "      <td>0.406579</td>\n",
       "      <td>0.343058</td>\n",
       "      <td>-0.921607</td>\n",
       "      <td>-0.858878</td>\n",
       "      <td>0.572862</td>\n",
       "      <td>1.000000</td>\n",
       "      <td>-0.000445</td>\n",
       "    </tr>\n",
       "    <tr>\n",
       "      <th>predicted_from_parameter</th>\n",
       "      <td>0.055035</td>\n",
       "      <td>-0.723129</td>\n",
       "      <td>0.940659</td>\n",
       "      <td>0.042835</td>\n",
       "      <td>-0.041373</td>\n",
       "      <td>-0.078058</td>\n",
       "      <td>0.091752</td>\n",
       "      <td>0.207049</td>\n",
       "      <td>0.024969</td>\n",
       "      <td>-0.116383</td>\n",
       "      <td>0.154506</td>\n",
       "      <td>0.246392</td>\n",
       "      <td>-0.000445</td>\n",
       "      <td>1.000000</td>\n",
       "    </tr>\n",
       "  </tbody>\n",
       "</table>\n",
       "</div>"
      ],
      "text/plain": [
       "                               NSC  CONCENTRATION  AVERAGE_GIPRCNT  \\\n",
       "NSC                       1.000000      -0.009875         0.051134   \n",
       "CONCENTRATION            -0.009875       1.000000        -0.688282   \n",
       "AVERAGE_GIPRCNT           0.051134      -0.688282         1.000000   \n",
       "Viability_max             0.017042      -0.000180         0.100432   \n",
       "count                    -0.151157      -0.031487        -0.039622   \n",
       "y_max                    -0.034400      -0.000615        -0.052520   \n",
       "y_min                     0.008165      -0.007470         0.141040   \n",
       "IC50                      0.098311       0.133915         0.249257   \n",
       "slope                     0.046320       0.014755         0.030983   \n",
       "y_max_predicted          -0.068064      -0.061180        -0.112830   \n",
       "y_min_predicted           0.047250       0.021393         0.150025   \n",
       "IC50_predicted            0.115565       0.089925         0.239026   \n",
       "slope_predicted           0.020515       0.028598        -0.000546   \n",
       "predicted_from_parameter  0.055035      -0.723129         0.940659   \n",
       "\n",
       "                          Viability_max     count     y_max     y_min  \\\n",
       "NSC                            0.017042 -0.151157 -0.034400  0.008165   \n",
       "CONCENTRATION                 -0.000180 -0.031487 -0.000615 -0.007470   \n",
       "AVERAGE_GIPRCNT                0.100432 -0.039622 -0.052520  0.141040   \n",
       "Viability_max                  1.000000  0.007303  0.664885 -0.034199   \n",
       "count                          0.007303  1.000000 -0.038022  0.053666   \n",
       "y_max                          0.664885 -0.038022  1.000000 -0.083658   \n",
       "y_min                         -0.034199  0.053666 -0.083658  1.000000   \n",
       "IC50                           0.144502 -0.185382 -0.248374 -0.189249   \n",
       "slope                          0.131182 -0.133867  0.014130 -0.106171   \n",
       "y_max_predicted               -0.139263  0.213651  0.073200  0.486571   \n",
       "y_min_predicted               -0.033495  0.045274 -0.143158  0.696957   \n",
       "IC50_predicted                 0.150296 -0.234622 -0.185403 -0.141280   \n",
       "slope_predicted                0.104706 -0.157689  0.022438 -0.645308   \n",
       "predicted_from_parameter       0.042835 -0.041373 -0.078058  0.091752   \n",
       "\n",
       "                              IC50     slope  y_max_predicted  \\\n",
       "NSC                       0.098311  0.046320        -0.068064   \n",
       "CONCENTRATION             0.133915  0.014755        -0.061180   \n",
       "AVERAGE_GIPRCNT           0.249257  0.030983        -0.112830   \n",
       "Viability_max             0.144502  0.131182        -0.139263   \n",
       "count                    -0.185382 -0.133867         0.213651   \n",
       "y_max                    -0.248374  0.014130         0.073200   \n",
       "y_min                    -0.189249 -0.106171         0.486571   \n",
       "IC50                      1.000000  0.105030        -0.663024   \n",
       "slope                     0.105030  1.000000        -0.342722   \n",
       "y_max_predicted          -0.663024 -0.342722         1.000000   \n",
       "y_min_predicted           0.031269 -0.259599         0.592759   \n",
       "IC50_predicted            0.841790  0.252609        -0.846081   \n",
       "slope_predicted           0.406579  0.343058        -0.921607   \n",
       "predicted_from_parameter  0.207049  0.024969        -0.116383   \n",
       "\n",
       "                          y_min_predicted  IC50_predicted  slope_predicted  \\\n",
       "NSC                              0.047250        0.115565         0.020515   \n",
       "CONCENTRATION                    0.021393        0.089925         0.028598   \n",
       "AVERAGE_GIPRCNT                  0.150025        0.239026        -0.000546   \n",
       "Viability_max                   -0.033495        0.150296         0.104706   \n",
       "count                            0.045274       -0.234622        -0.157689   \n",
       "y_max                           -0.143158       -0.185403         0.022438   \n",
       "y_min                            0.696957       -0.141280        -0.645308   \n",
       "IC50                             0.031269        0.841790         0.406579   \n",
       "slope                           -0.259599        0.252609         0.343058   \n",
       "y_max_predicted                  0.592759       -0.846081        -0.921607   \n",
       "y_min_predicted                  1.000000       -0.072209        -0.858878   \n",
       "IC50_predicted                  -0.072209        1.000000         0.572862   \n",
       "slope_predicted                 -0.858878        0.572862         1.000000   \n",
       "predicted_from_parameter         0.154506        0.246392        -0.000445   \n",
       "\n",
       "                          predicted_from_parameter  \n",
       "NSC                                       0.055035  \n",
       "CONCENTRATION                            -0.723129  \n",
       "AVERAGE_GIPRCNT                           0.940659  \n",
       "Viability_max                             0.042835  \n",
       "count                                    -0.041373  \n",
       "y_max                                    -0.078058  \n",
       "y_min                                     0.091752  \n",
       "IC50                                      0.207049  \n",
       "slope                                     0.024969  \n",
       "y_max_predicted                          -0.116383  \n",
       "y_min_predicted                           0.154506  \n",
       "IC50_predicted                            0.246392  \n",
       "slope_predicted                          -0.000445  \n",
       "predicted_from_parameter                  1.000000  "
      ]
     },
     "execution_count": 52,
     "metadata": {},
     "output_type": "execute_result"
    }
   ],
   "source": [
    "test_df.corr()"
   ]
  },
  {
   "cell_type": "code",
   "execution_count": 40,
   "metadata": {},
   "outputs": [],
   "source": [
    "test_df.to_csv('/DAS_Storage4/ijjin/Study_2/220921_Final/Single/NCI60_March22/Result/221107_Split_by_CellLine/221107_test_df.csv')"
   ]
  },
  {
   "cell_type": "code",
   "execution_count": 38,
   "metadata": {},
   "outputs": [
    {
     "name": "stderr",
     "output_type": "stream",
     "text": [
      "/usr/local/lib/python3.7/site-packages/seaborn/_decorators.py:43: FutureWarning: Pass the following variables as keyword args: x, y. From version 0.12, the only valid positional argument will be `data`, and passing other arguments without an explicit keyword will result in an error or misinterpretation.\n",
      "  FutureWarning\n"
     ]
    },
    {
     "data": {
      "image/png": "[encoded data removed]",
      "text/plain": [
       "<Figure size 432x432 with 3 Axes>"
      ]
     },
     "metadata": {
      "needs_background": "light"
     },
     "output_type": "display_data"
    }
   ],
   "source": [
    "#new\n",
    "plot=sns.jointplot(test_df.AVERAGE_GIPRCNT,test_df.predicted,alpha=0.002)\n",
    "plot.ax_joint.set_xlim(0,2)\n",
    "plot.ax_joint.set_ylim(0,2)\n",
    "plot.ax_joint.plot([0,2], [0,2], 'r', linewidth = 2)\n",
    "plot.savefig('/DAS_Storage4/ijjin/Study_2/220921_Final/Single/NCI60_March22/Result/221107_Split_by_CellLine/221108_NCI60_split_by_CellLine_full.pdf')"
   ]
  },
  {
   "cell_type": "code",
   "execution_count": 41,
   "metadata": {},
   "outputs": [],
   "source": [
    "NCI60_randomized_level_list=[]\n",
    "scale=0.1\n",
    "for i in range(int(2/scale)):\n",
    "    NCI60_randomized_level_df=test_df[(test_df.AVERAGE_GIPRCNT>i*scale)*(test_df.AVERAGE_GIPRCNT<(i+1)*scale)]\n",
    "    NCI60_randomized_level_list.append(NCI60_randomized_level_df)\n",
    "len_min=min([len(df) for df in NCI60_randomized_level_list])\n",
    "NCI60_randomized_level_list_new=[]\n",
    "for df in NCI60_randomized_level_list:\n",
    "    scale_each=len_min/len(df)\n",
    "    df_new=df.sample(frac=scale_each)\n",
    "    NCI60_randomized_level_list_new.append(df_new)\n",
    "NCI60_balanced=pd.concat(NCI60_randomized_level_list_new)"
   ]
  },
  {
   "cell_type": "code",
   "execution_count": 42,
   "metadata": {},
   "outputs": [
    {
     "name": "stderr",
     "output_type": "stream",
     "text": [
      "/usr/local/lib/python3.7/site-packages/seaborn/_decorators.py:43: FutureWarning: Pass the following variables as keyword args: x, y. From version 0.12, the only valid positional argument will be `data`, and passing other arguments without an explicit keyword will result in an error or misinterpretation.\n",
      "  FutureWarning\n"
     ]
    },
    {
     "data": {
      "image/png": "[encoded data removed]",
      "text/plain": [
       "<Figure size 432x432 with 3 Axes>"
      ]
     },
     "metadata": {
      "needs_background": "light"
     },
     "output_type": "display_data"
    }
   ],
   "source": [
    "#new_scaled\n",
    "plot=sns.jointplot(NCI60_balanced.AVERAGE_GIPRCNT,NCI60_balanced.predicted,alpha=0.01)\n",
    "plot.ax_joint.set_xlim(0,2)\n",
    "plot.ax_joint.set_ylim(0,2)\n",
    "plot.ax_joint.plot([0,2], [0,2], 'r', linewidth = 2)\n",
    "plot.savefig('/DAS_Storage4/ijjin/Study_2/220921_Final/Single/NCI60_March22/Result/221107_Split_by_CellLine/221108_NCI60_Split_by_CellLine_scaled.pdf')"
   ]
  },
  {
   "cell_type": "code",
   "execution_count": 44,
   "metadata": {},
   "outputs": [],
   "source": [
    "model_parameter=Model(inputs=model2.inputs,outputs=[model2.get_layer('y_max').output,model2.get_layer('y_min').output,model2.get_layer('IC50').output,model2.get_layer('slope').output])"
   ]
  },
  {
   "cell_type": "code",
   "execution_count": 45,
   "metadata": {},
   "outputs": [],
   "source": [
    "test_idx=test_generator.indexes\n",
    "test_parameter=model_parameter.predict_generator(test_generator)\n",
    "test_y_max=[x[0] for x in test_parameter[0]]\n",
    "test_y_min=[x[0] for x in test_parameter[1]]\n",
    "test_IC50=[x[0] for x in test_parameter[2]]\n",
    "test_slope=[x[0] for x in test_parameter[3]]"
   ]
  },
  {
   "cell_type": "code",
   "execution_count": 46,
   "metadata": {},
   "outputs": [],
   "source": [
    "test_idx_df=pd.DataFrame({'idx':test_Response_list})\n",
    "test_idx_new=test_idx_df.iloc[test_idx].idx.values\n",
    "test_df=NCI60_filtered.iloc[test_idx_new]\n",
    "test_df=test_df.iloc[0:len(predicted_tmp)]"
   ]
  },
  {
   "cell_type": "code",
   "execution_count": 47,
   "metadata": {},
   "outputs": [],
   "source": [
    "test_df['y_max_predicted']=test_y_max\n",
    "test_df['y_min_predicted']=test_y_min\n",
    "test_df['IC50_predicted']=test_IC50\n",
    "test_df['slope_predicted']=test_slope"
   ]
  },
  {
   "cell_type": "code",
   "execution_count": 48,
   "metadata": {},
   "outputs": [],
   "source": [
    "def response(x,y_max,y_min,IC50,slope):\n",
    "    return (y_min+((y_max-y_min)/(1+np.exp(slope*(x-IC50)))))\n",
    "\n",
    "#The function for the response curve"
   ]
  },
  {
   "cell_type": "code",
   "execution_count": 49,
   "metadata": {},
   "outputs": [],
   "source": [
    "test_df['predicted_from_parameter']=[response(x.CONCENTRATION,x.y_max_predicted,x.y_min_predicted,x.IC50_predicted,x.slope_predicted) for idx,x in test_df.iterrows()]"
   ]
  },
  {
   "cell_type": "code",
   "execution_count": 50,
   "metadata": {},
   "outputs": [
    {
     "data": {
      "text/html": [
       "<div>\n",
       "<style scoped>\n",
       "    .dataframe tbody tr th:only-of-type {\n",
       "        vertical-align: middle;\n",
       "    }\n",
       "\n",
       "    .dataframe tbody tr th {\n",
       "        vertical-align: top;\n",
       "    }\n",
       "\n",
       "    .dataframe thead th {\n",
       "        text-align: right;\n",
       "    }\n",
       "</style>\n",
       "<table border=\"1\" class=\"dataframe\">\n",
       "  <thead>\n",
       "    <tr style=\"text-align: right;\">\n",
       "      <th></th>\n",
       "      <th>NSC</th>\n",
       "      <th>CONCENTRATION</th>\n",
       "      <th>AVERAGE_GIPRCNT</th>\n",
       "      <th>Viability_max</th>\n",
       "      <th>count</th>\n",
       "      <th>y_max</th>\n",
       "      <th>y_min</th>\n",
       "      <th>IC50</th>\n",
       "      <th>slope</th>\n",
       "      <th>y_max_predicted</th>\n",
       "      <th>y_min_predicted</th>\n",
       "      <th>IC50_predicted</th>\n",
       "      <th>slope_predicted</th>\n",
       "      <th>predicted_from_parameter</th>\n",
       "    </tr>\n",
       "  </thead>\n",
       "  <tbody>\n",
       "    <tr>\n",
       "      <th>NSC</th>\n",
       "      <td>1.000000</td>\n",
       "      <td>-0.009875</td>\n",
       "      <td>0.051134</td>\n",
       "      <td>0.017042</td>\n",
       "      <td>-0.151157</td>\n",
       "      <td>-0.034400</td>\n",
       "      <td>0.008165</td>\n",
       "      <td>0.098311</td>\n",
       "      <td>0.046320</td>\n",
       "      <td>-0.068064</td>\n",
       "      <td>0.047250</td>\n",
       "      <td>0.115565</td>\n",
       "      <td>0.020515</td>\n",
       "      <td>0.055035</td>\n",
       "    </tr>\n",
       "    <tr>\n",
       "      <th>CONCENTRATION</th>\n",
       "      <td>-0.009875</td>\n",
       "      <td>1.000000</td>\n",
       "      <td>-0.688282</td>\n",
       "      <td>-0.000180</td>\n",
       "      <td>-0.031487</td>\n",
       "      <td>-0.000615</td>\n",
       "      <td>-0.007470</td>\n",
       "      <td>0.133915</td>\n",
       "      <td>0.014755</td>\n",
       "      <td>-0.061180</td>\n",
       "      <td>0.021393</td>\n",
       "      <td>0.089925</td>\n",
       "      <td>0.028598</td>\n",
       "      <td>-0.723129</td>\n",
       "    </tr>\n",
       "    <tr>\n",
       "      <th>AVERAGE_GIPRCNT</th>\n",
       "      <td>0.051134</td>\n",
       "      <td>-0.688282</td>\n",
       "      <td>1.000000</td>\n",
       "      <td>0.100432</td>\n",
       "      <td>-0.039622</td>\n",
       "      <td>-0.052520</td>\n",
       "      <td>0.141040</td>\n",
       "      <td>0.249257</td>\n",
       "      <td>0.030983</td>\n",
       "      <td>-0.112830</td>\n",
       "      <td>0.150025</td>\n",
       "      <td>0.239026</td>\n",
       "      <td>-0.000546</td>\n",
       "      <td>0.940659</td>\n",
       "    </tr>\n",
       "    <tr>\n",
       "      <th>Viability_max</th>\n",
       "      <td>0.017042</td>\n",
       "      <td>-0.000180</td>\n",
       "      <td>0.100432</td>\n",
       "      <td>1.000000</td>\n",
       "      <td>0.007303</td>\n",
       "      <td>0.664885</td>\n",
       "      <td>-0.034199</td>\n",
       "      <td>0.144502</td>\n",
       "      <td>0.131182</td>\n",
       "      <td>-0.139263</td>\n",
       "      <td>-0.033495</td>\n",
       "      <td>0.150296</td>\n",
       "      <td>0.104706</td>\n",
       "      <td>0.042835</td>\n",
       "    </tr>\n",
       "    <tr>\n",
       "      <th>count</th>\n",
       "      <td>-0.151157</td>\n",
       "      <td>-0.031487</td>\n",
       "      <td>-0.039622</td>\n",
       "      <td>0.007303</td>\n",
       "      <td>1.000000</td>\n",
       "      <td>-0.038022</td>\n",
       "      <td>0.053666</td>\n",
       "      <td>-0.185382</td>\n",
       "      <td>-0.133867</td>\n",
       "      <td>0.213651</td>\n",
       "      <td>0.045274</td>\n",
       "      <td>-0.234622</td>\n",
       "      <td>-0.157689</td>\n",
       "      <td>-0.041373</td>\n",
       "    </tr>\n",
       "    <tr>\n",
       "      <th>y_max</th>\n",
       "      <td>-0.034400</td>\n",
       "      <td>-0.000615</td>\n",
       "      <td>-0.052520</td>\n",
       "      <td>0.664885</td>\n",
       "      <td>-0.038022</td>\n",
       "      <td>1.000000</td>\n",
       "      <td>-0.083658</td>\n",
       "      <td>-0.248374</td>\n",
       "      <td>0.014130</td>\n",
       "      <td>0.073200</td>\n",
       "      <td>-0.143158</td>\n",
       "      <td>-0.185403</td>\n",
       "      <td>0.022438</td>\n",
       "      <td>-0.078058</td>\n",
       "    </tr>\n",
       "    <tr>\n",
       "      <th>y_min</th>\n",
       "      <td>0.008165</td>\n",
       "      <td>-0.007470</td>\n",
       "      <td>0.141040</td>\n",
       "      <td>-0.034199</td>\n",
       "      <td>0.053666</td>\n",
       "      <td>-0.083658</td>\n",
       "      <td>1.000000</td>\n",
       "      <td>-0.189249</td>\n",
       "      <td>-0.106171</td>\n",
       "      <td>0.486571</td>\n",
       "      <td>0.696957</td>\n",
       "      <td>-0.141280</td>\n",
       "      <td>-0.645308</td>\n",
       "      <td>0.091752</td>\n",
       "    </tr>\n",
       "    <tr>\n",
       "      <th>IC50</th>\n",
       "      <td>0.098311</td>\n",
       "      <td>0.133915</td>\n",
       "      <td>0.249257</td>\n",
       "      <td>0.144502</td>\n",
       "      <td>-0.185382</td>\n",
       "      <td>-0.248374</td>\n",
       "      <td>-0.189249</td>\n",
       "      <td>1.000000</td>\n",
       "      <td>0.105030</td>\n",
       "      <td>-0.663024</td>\n",
       "      <td>0.031269</td>\n",
       "      <td>0.841790</td>\n",
       "      <td>0.406579</td>\n",
       "      <td>0.207049</td>\n",
       "    </tr>\n",
       "    <tr>\n",
       "      <th>slope</th>\n",
       "      <td>0.046320</td>\n",
       "      <td>0.014755</td>\n",
       "      <td>0.030983</td>\n",
       "      <td>0.131182</td>\n",
       "      <td>-0.133867</td>\n",
       "      <td>0.014130</td>\n",
       "      <td>-0.106171</td>\n",
       "      <td>0.105030</td>\n",
       "      <td>1.000000</td>\n",
       "      <td>-0.342722</td>\n",
       "      <td>-0.259599</td>\n",
       "      <td>0.252609</td>\n",
       "      <td>0.343058</td>\n",
       "      <td>0.024969</td>\n",
       "    </tr>\n",
       "    <tr>\n",
       "      <th>y_max_predicted</th>\n",
       "      <td>-0.068064</td>\n",
       "      <td>-0.061180</td>\n",
       "      <td>-0.112830</td>\n",
       "      <td>-0.139263</td>\n",
       "      <td>0.213651</td>\n",
       "      <td>0.073200</td>\n",
       "      <td>0.486571</td>\n",
       "      <td>-0.663024</td>\n",
       "      <td>-0.342722</td>\n",
       "      <td>1.000000</td>\n",
       "      <td>0.592759</td>\n",
       "      <td>-0.846081</td>\n",
       "      <td>-0.921607</td>\n",
       "      <td>-0.116383</td>\n",
       "    </tr>\n",
       "    <tr>\n",
       "      <th>y_min_predicted</th>\n",
       "      <td>0.047250</td>\n",
       "      <td>0.021393</td>\n",
       "      <td>0.150025</td>\n",
       "      <td>-0.033495</td>\n",
       "      <td>0.045274</td>\n",
       "      <td>-0.143158</td>\n",
       "      <td>0.696957</td>\n",
       "      <td>0.031269</td>\n",
       "      <td>-0.259599</td>\n",
       "      <td>0.592759</td>\n",
       "      <td>1.000000</td>\n",
       "      <td>-0.072209</td>\n",
       "      <td>-0.858878</td>\n",
       "      <td>0.154506</td>\n",
       "    </tr>\n",
       "    <tr>\n",
       "      <th>IC50_predicted</th>\n",
       "      <td>0.115565</td>\n",
       "      <td>0.089925</td>\n",
       "      <td>0.239026</td>\n",
       "      <td>0.150296</td>\n",
       "      <td>-0.234622</td>\n",
       "      <td>-0.185403</td>\n",
       "      <td>-0.141280</td>\n",
       "      <td>0.841790</td>\n",
       "      <td>0.252609</td>\n",
       "      <td>-0.846081</td>\n",
       "      <td>-0.072209</td>\n",
       "      <td>1.000000</td>\n",
       "      <td>0.572862</td>\n",
       "      <td>0.246392</td>\n",
       "    </tr>\n",
       "    <tr>\n",
       "      <th>slope_predicted</th>\n",
       "      <td>0.020515</td>\n",
       "      <td>0.028598</td>\n",
       "      <td>-0.000546</td>\n",
       "      <td>0.104706</td>\n",
       "      <td>-0.157689</td>\n",
       "      <td>0.022438</td>\n",
       "      <td>-0.645308</td>\n",
       "      <td>0.406579</td>\n",
       "      <td>0.343058</td>\n",
       "      <td>-0.921607</td>\n",
       "      <td>-0.858878</td>\n",
       "      <td>0.572862</td>\n",
       "      <td>1.000000</td>\n",
       "      <td>-0.000445</td>\n",
       "    </tr>\n",
       "    <tr>\n",
       "      <th>predicted_from_parameter</th>\n",
       "      <td>0.055035</td>\n",
       "      <td>-0.723129</td>\n",
       "      <td>0.940659</td>\n",
       "      <td>0.042835</td>\n",
       "      <td>-0.041373</td>\n",
       "      <td>-0.078058</td>\n",
       "      <td>0.091752</td>\n",
       "      <td>0.207049</td>\n",
       "      <td>0.024969</td>\n",
       "      <td>-0.116383</td>\n",
       "      <td>0.154506</td>\n",
       "      <td>0.246392</td>\n",
       "      <td>-0.000445</td>\n",
       "      <td>1.000000</td>\n",
       "    </tr>\n",
       "  </tbody>\n",
       "</table>\n",
       "</div>"
      ],
      "text/plain": [
       "                               NSC  CONCENTRATION  AVERAGE_GIPRCNT  \\\n",
       "NSC                       1.000000      -0.009875         0.051134   \n",
       "CONCENTRATION            -0.009875       1.000000        -0.688282   \n",
       "AVERAGE_GIPRCNT           0.051134      -0.688282         1.000000   \n",
       "Viability_max             0.017042      -0.000180         0.100432   \n",
       "count                    -0.151157      -0.031487        -0.039622   \n",
       "y_max                    -0.034400      -0.000615        -0.052520   \n",
       "y_min                     0.008165      -0.007470         0.141040   \n",
       "IC50                      0.098311       0.133915         0.249257   \n",
       "slope                     0.046320       0.014755         0.030983   \n",
       "y_max_predicted          -0.068064      -0.061180        -0.112830   \n",
       "y_min_predicted           0.047250       0.021393         0.150025   \n",
       "IC50_predicted            0.115565       0.089925         0.239026   \n",
       "slope_predicted           0.020515       0.028598        -0.000546   \n",
       "predicted_from_parameter  0.055035      -0.723129         0.940659   \n",
       "\n",
       "                          Viability_max     count     y_max     y_min  \\\n",
       "NSC                            0.017042 -0.151157 -0.034400  0.008165   \n",
       "CONCENTRATION                 -0.000180 -0.031487 -0.000615 -0.007470   \n",
       "AVERAGE_GIPRCNT                0.100432 -0.039622 -0.052520  0.141040   \n",
       "Viability_max                  1.000000  0.007303  0.664885 -0.034199   \n",
       "count                          0.007303  1.000000 -0.038022  0.053666   \n",
       "y_max                          0.664885 -0.038022  1.000000 -0.083658   \n",
       "y_min                         -0.034199  0.053666 -0.083658  1.000000   \n",
       "IC50                           0.144502 -0.185382 -0.248374 -0.189249   \n",
       "slope                          0.131182 -0.133867  0.014130 -0.106171   \n",
       "y_max_predicted               -0.139263  0.213651  0.073200  0.486571   \n",
       "y_min_predicted               -0.033495  0.045274 -0.143158  0.696957   \n",
       "IC50_predicted                 0.150296 -0.234622 -0.185403 -0.141280   \n",
       "slope_predicted                0.104706 -0.157689  0.022438 -0.645308   \n",
       "predicted_from_parameter       0.042835 -0.041373 -0.078058  0.091752   \n",
       "\n",
       "                              IC50     slope  y_max_predicted  \\\n",
       "NSC                       0.098311  0.046320        -0.068064   \n",
       "CONCENTRATION             0.133915  0.014755        -0.061180   \n",
       "AVERAGE_GIPRCNT           0.249257  0.030983        -0.112830   \n",
       "Viability_max             0.144502  0.131182        -0.139263   \n",
       "count                    -0.185382 -0.133867         0.213651   \n",
       "y_max                    -0.248374  0.014130         0.073200   \n",
       "y_min                    -0.189249 -0.106171         0.486571   \n",
       "IC50                      1.000000  0.105030        -0.663024   \n",
       "slope                     0.105030  1.000000        -0.342722   \n",
       "y_max_predicted          -0.663024 -0.342722         1.000000   \n",
       "y_min_predicted           0.031269 -0.259599         0.592759   \n",
       "IC50_predicted            0.841790  0.252609        -0.846081   \n",
       "slope_predicted           0.406579  0.343058        -0.921607   \n",
       "predicted_from_parameter  0.207049  0.024969        -0.116383   \n",
       "\n",
       "                          y_min_predicted  IC50_predicted  slope_predicted  \\\n",
       "NSC                              0.047250        0.115565         0.020515   \n",
       "CONCENTRATION                    0.021393        0.089925         0.028598   \n",
       "AVERAGE_GIPRCNT                  0.150025        0.239026        -0.000546   \n",
       "Viability_max                   -0.033495        0.150296         0.104706   \n",
       "count                            0.045274       -0.234622        -0.157689   \n",
       "y_max                           -0.143158       -0.185403         0.022438   \n",
       "y_min                            0.696957       -0.141280        -0.645308   \n",
       "IC50                             0.031269        0.841790         0.406579   \n",
       "slope                           -0.259599        0.252609         0.343058   \n",
       "y_max_predicted                  0.592759       -0.846081        -0.921607   \n",
       "y_min_predicted                  1.000000       -0.072209        -0.858878   \n",
       "IC50_predicted                  -0.072209        1.000000         0.572862   \n",
       "slope_predicted                 -0.858878        0.572862         1.000000   \n",
       "predicted_from_parameter         0.154506        0.246392        -0.000445   \n",
       "\n",
       "                          predicted_from_parameter  \n",
       "NSC                                       0.055035  \n",
       "CONCENTRATION                            -0.723129  \n",
       "AVERAGE_GIPRCNT                           0.940659  \n",
       "Viability_max                             0.042835  \n",
       "count                                    -0.041373  \n",
       "y_max                                    -0.078058  \n",
       "y_min                                     0.091752  \n",
       "IC50                                      0.207049  \n",
       "slope                                     0.024969  \n",
       "y_max_predicted                          -0.116383  \n",
       "y_min_predicted                           0.154506  \n",
       "IC50_predicted                            0.246392  \n",
       "slope_predicted                          -0.000445  \n",
       "predicted_from_parameter                  1.000000  "
      ]
     },
     "execution_count": 50,
     "metadata": {},
     "output_type": "execute_result"
    }
   ],
   "source": [
    "test_df.corr()"
   ]
  },
  {
   "cell_type": "code",
   "execution_count": 51,
   "metadata": {},
   "outputs": [],
   "source": [
    "test_df.to_csv('/DAS_Storage4/ijjin/Study_2/220921_Final/Single/NCI60_March22/Result/221107_Split_by_CellLine/221107_test_df_by_parameter.csv')"
   ]
  },
  {
   "cell_type": "code",
   "execution_count": null,
   "metadata": {},
   "outputs": [],
   "source": []
  }
 ],
 "metadata": {
  "kernelspec": {
   "display_name": "Python 3 (ipykernel)",
   "language": "python",
   "name": "python3"
  },
  "language_info": {
   "codemirror_mode": {
    "name": "ipython",
    "version": 3
   },
   "file_extension": ".py",
   "mimetype": "text/x-python",
   "name": "python",
   "nbconvert_exporter": "python",
   "pygments_lexer": "ipython3",
   "version": "3.7.13"
  }
 },
 "nbformat": 4,
 "nbformat_minor": 2
}
