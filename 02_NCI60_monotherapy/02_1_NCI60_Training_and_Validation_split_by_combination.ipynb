{
 "cells": [
  {
   "cell_type": "code",
   "execution_count": 1,
   "metadata": {},
   "outputs": [
    {
     "name": "stderr",
     "output_type": "stream",
     "text": [
      "Using TensorFlow backend.\n"
     ]
    }
   ],
   "source": [
    "# import numpy and pandas\n",
    "import numpy as np\n",
    "import pandas as pd\n",
    "import csv\n",
    "import matplotlib.pyplot as plt\n",
    "%matplotlib inline\n",
    "import seaborn as sns\n",
    "\n",
    "%config Completer.use_jedi=False\n",
    "import os\n",
    "\n",
    "#import sklearn for cross validation|\n",
    "from sklearn.model_selection import StratifiedKFold, GridSearchCV\n",
    "from sklearn.model_selection import KFold,cross_val_predict,cross_val_score,cross_validate\n",
    "\n",
    "#import keras modules\n",
    "import tensorflow as tf\n",
    "from tensorflow import keras\n",
    "import keras.backend as K\n",
    "import keras.backend.tensorflow_backend as KTF\n",
    "import keras\n",
    "import keras.layers\n",
    "from keras.layers import Layer \n",
    "import keras.initializers\n",
    "from keras.models import Model, Sequential,load_model\n",
    "from keras.layers import Input, Dense, Dropout, BatchNormalization, Activation, Embedding, Lambda, Flatten, Multiply, multiply,dot, add,subtract\n",
    "from keras.layers import Concatenate,concatenate,LeakyReLU,maximum,minimum\n",
    "from keras.optimizers import Adam\n",
    "from keras.regularizers import l2,l1\n",
    "from keras.preprocessing import sequence\n",
    "from keras.engine.topology import Layer, InputSpec\n",
    "\n",
    "from keras.utils import plot_model\n",
    "from IPython.display import SVG\n",
    "\n",
    "\n",
    "from sklearn.metrics import precision_recall_curve, auc, roc_curve\n",
    "\n",
    "#import rdkit\n",
    "import rdkit\n",
    "import rdkit.Chem as Chem\n",
    "from rdkit.Chem import AllChem\n",
    "from rdkit.Chem.Fingerprints import FingerprintMols\n",
    "\n",
    "#fix the random seed\n",
    "np.random.seed(5)\n",
    "\n",
    "import pickle\n",
    "import random\n",
    "\n"
   ]
  },
  {
   "cell_type": "code",
   "execution_count": 2,
   "metadata": {},
   "outputs": [],
   "source": [
    "GeneExpression_with_Symbol=pd.read_csv('/DAS_Storage4/ijjin/Study_2/CellLine/CCLE_expression_zscore.csv',index_col=0)\n",
    "valid_gene_list=GeneExpression_with_Symbol.columns"
   ]
  },
  {
   "cell_type": "code",
   "execution_count": 3,
   "metadata": {
    "scrolled": true
   },
   "outputs": [],
   "source": [
    "GeneSet_List=[]\n",
    "GeneSetFile='/DAS_Storage1/ijjin/Personal_studies/Drug-Cancer_reponse/geneset/c2.cp.kegg.v7.5.1.symbols.gmt'\n",
    "with open(GeneSetFile) as f:\n",
    "    reader = csv.reader(f)\n",
    "    data = list(list(rec) for rec in csv.reader(f, delimiter='\\t')) #reads csv into a list of lists\n",
    "    for row in data:\n",
    "        GeneSet_List.append(row)\n",
    "\n",
    "GeneSet_Dic={}\n",
    "for GeneSet in GeneSet_List:\n",
    "    GeneSet_Dic[GeneSet[0]]=GeneSet[2:]\n",
    "GeneSet_Dic_withoutNA={}\n",
    "for GeneSet in GeneSet_Dic:\n",
    "    GeneSet_tmp=pd.Series(GeneSet_Dic[GeneSet])\n",
    "    GeneSet_tmp=GeneSet_tmp[GeneSet_tmp.isin(valid_gene_list)]\n",
    "    GeneSet_Dic_withoutNA[GeneSet]=GeneSet_tmp\n",
    "\n",
    "\n"
   ]
  },
  {
   "cell_type": "code",
   "execution_count": 4,
   "metadata": {
    "scrolled": true
   },
   "outputs": [],
   "source": [
    "NCI60=pd.read_csv('/DAS_Storage4/ijjin/Study_2/220921_Final/Single/NCI60_March22/221031_NCI60_median_with_raw_parameter.csv',index_col=0)"
   ]
  },
  {
   "cell_type": "code",
   "execution_count": 5,
   "metadata": {},
   "outputs": [
    {
     "data": {
      "text/html": [
       "<div>\n",
       "<style scoped>\n",
       "    .dataframe tbody tr th:only-of-type {\n",
       "        vertical-align: middle;\n",
       "    }\n",
       "\n",
       "    .dataframe tbody tr th {\n",
       "        vertical-align: top;\n",
       "    }\n",
       "\n",
       "    .dataframe thead th {\n",
       "        text-align: right;\n",
       "    }\n",
       "</style>\n",
       "<table border=\"1\" class=\"dataframe\">\n",
       "  <thead>\n",
       "    <tr style=\"text-align: right;\">\n",
       "      <th></th>\n",
       "      <th>NSC</th>\n",
       "      <th>CellName</th>\n",
       "      <th>CONCENTRATION</th>\n",
       "      <th>AVERAGE_GIPRCNT</th>\n",
       "      <th>Viability_max</th>\n",
       "      <th>count</th>\n",
       "      <th>y_max</th>\n",
       "      <th>y_min</th>\n",
       "      <th>IC50</th>\n",
       "      <th>slope</th>\n",
       "    </tr>\n",
       "  </thead>\n",
       "  <tbody>\n",
       "    <tr>\n",
       "      <th>0</th>\n",
       "      <td>1</td>\n",
       "      <td>786O</td>\n",
       "      <td>-2.0</td>\n",
       "      <td>1.916247</td>\n",
       "      <td>2.069248</td>\n",
       "      <td>6</td>\n",
       "      <td>2.079294</td>\n",
       "      <td>8.986296e-18</td>\n",
       "      <td>1.524922</td>\n",
       "      <td>3.000000</td>\n",
       "    </tr>\n",
       "    <tr>\n",
       "      <th>1</th>\n",
       "      <td>1</td>\n",
       "      <td>786O</td>\n",
       "      <td>-1.0</td>\n",
       "      <td>2.006393</td>\n",
       "      <td>2.069248</td>\n",
       "      <td>6</td>\n",
       "      <td>2.079294</td>\n",
       "      <td>8.986296e-18</td>\n",
       "      <td>1.524922</td>\n",
       "      <td>3.000000</td>\n",
       "    </tr>\n",
       "    <tr>\n",
       "      <th>2</th>\n",
       "      <td>1</td>\n",
       "      <td>786O</td>\n",
       "      <td>0.0</td>\n",
       "      <td>2.069248</td>\n",
       "      <td>2.069248</td>\n",
       "      <td>6</td>\n",
       "      <td>2.079294</td>\n",
       "      <td>8.986296e-18</td>\n",
       "      <td>1.524922</td>\n",
       "      <td>3.000000</td>\n",
       "    </tr>\n",
       "    <tr>\n",
       "      <th>3</th>\n",
       "      <td>1</td>\n",
       "      <td>786O</td>\n",
       "      <td>1.0</td>\n",
       "      <td>2.066457</td>\n",
       "      <td>2.069248</td>\n",
       "      <td>6</td>\n",
       "      <td>2.079294</td>\n",
       "      <td>8.986296e-18</td>\n",
       "      <td>1.524922</td>\n",
       "      <td>3.000000</td>\n",
       "    </tr>\n",
       "    <tr>\n",
       "      <th>4</th>\n",
       "      <td>1</td>\n",
       "      <td>786O</td>\n",
       "      <td>2.0</td>\n",
       "      <td>0.079399</td>\n",
       "      <td>2.069248</td>\n",
       "      <td>6</td>\n",
       "      <td>2.079294</td>\n",
       "      <td>8.986296e-18</td>\n",
       "      <td>1.524922</td>\n",
       "      <td>3.000000</td>\n",
       "    </tr>\n",
       "    <tr>\n",
       "      <th>...</th>\n",
       "      <td>...</td>\n",
       "      <td>...</td>\n",
       "      <td>...</td>\n",
       "      <td>...</td>\n",
       "      <td>...</td>\n",
       "      <td>...</td>\n",
       "      <td>...</td>\n",
       "      <td>...</td>\n",
       "      <td>...</td>\n",
       "      <td>...</td>\n",
       "    </tr>\n",
       "    <tr>\n",
       "      <th>4737369</th>\n",
       "      <td>783538</td>\n",
       "      <td>UACC62</td>\n",
       "      <td>-4.0</td>\n",
       "      <td>1.966015</td>\n",
       "      <td>2.040921</td>\n",
       "      <td>5</td>\n",
       "      <td>2.042580</td>\n",
       "      <td>3.025320e-01</td>\n",
       "      <td>-1.727939</td>\n",
       "      <td>2.277316</td>\n",
       "    </tr>\n",
       "    <tr>\n",
       "      <th>4737370</th>\n",
       "      <td>783538</td>\n",
       "      <td>UACC62</td>\n",
       "      <td>-3.0</td>\n",
       "      <td>2.040921</td>\n",
       "      <td>2.040921</td>\n",
       "      <td>5</td>\n",
       "      <td>2.042580</td>\n",
       "      <td>3.025320e-01</td>\n",
       "      <td>-1.727939</td>\n",
       "      <td>2.277316</td>\n",
       "    </tr>\n",
       "    <tr>\n",
       "      <th>4737371</th>\n",
       "      <td>783538</td>\n",
       "      <td>UACC62</td>\n",
       "      <td>-2.0</td>\n",
       "      <td>1.398113</td>\n",
       "      <td>2.040921</td>\n",
       "      <td>5</td>\n",
       "      <td>2.042580</td>\n",
       "      <td>3.025320e-01</td>\n",
       "      <td>-1.727939</td>\n",
       "      <td>2.277316</td>\n",
       "    </tr>\n",
       "    <tr>\n",
       "      <th>4737372</th>\n",
       "      <td>783538</td>\n",
       "      <td>UACC62</td>\n",
       "      <td>-1.0</td>\n",
       "      <td>0.613998</td>\n",
       "      <td>2.040921</td>\n",
       "      <td>5</td>\n",
       "      <td>2.042580</td>\n",
       "      <td>3.025320e-01</td>\n",
       "      <td>-1.727939</td>\n",
       "      <td>2.277316</td>\n",
       "    </tr>\n",
       "    <tr>\n",
       "      <th>4737373</th>\n",
       "      <td>783538</td>\n",
       "      <td>UACC62</td>\n",
       "      <td>0.0</td>\n",
       "      <td>0.316013</td>\n",
       "      <td>2.040921</td>\n",
       "      <td>5</td>\n",
       "      <td>2.042580</td>\n",
       "      <td>3.025320e-01</td>\n",
       "      <td>-1.727939</td>\n",
       "      <td>2.277316</td>\n",
       "    </tr>\n",
       "  </tbody>\n",
       "</table>\n",
       "<p>4737374 rows × 10 columns</p>\n",
       "</div>"
      ],
      "text/plain": [
       "            NSC CellName  CONCENTRATION  AVERAGE_GIPRCNT  Viability_max  \\\n",
       "0             1     786O           -2.0         1.916247       2.069248   \n",
       "1             1     786O           -1.0         2.006393       2.069248   \n",
       "2             1     786O            0.0         2.069248       2.069248   \n",
       "3             1     786O            1.0         2.066457       2.069248   \n",
       "4             1     786O            2.0         0.079399       2.069248   \n",
       "...         ...      ...            ...              ...            ...   \n",
       "4737369  783538   UACC62           -4.0         1.966015       2.040921   \n",
       "4737370  783538   UACC62           -3.0         2.040921       2.040921   \n",
       "4737371  783538   UACC62           -2.0         1.398113       2.040921   \n",
       "4737372  783538   UACC62           -1.0         0.613998       2.040921   \n",
       "4737373  783538   UACC62            0.0         0.316013       2.040921   \n",
       "\n",
       "         count     y_max         y_min      IC50     slope  \n",
       "0            6  2.079294  8.986296e-18  1.524922  3.000000  \n",
       "1            6  2.079294  8.986296e-18  1.524922  3.000000  \n",
       "2            6  2.079294  8.986296e-18  1.524922  3.000000  \n",
       "3            6  2.079294  8.986296e-18  1.524922  3.000000  \n",
       "4            6  2.079294  8.986296e-18  1.524922  3.000000  \n",
       "...        ...       ...           ...       ...       ...  \n",
       "4737369      5  2.042580  3.025320e-01 -1.727939  2.277316  \n",
       "4737370      5  2.042580  3.025320e-01 -1.727939  2.277316  \n",
       "4737371      5  2.042580  3.025320e-01 -1.727939  2.277316  \n",
       "4737372      5  2.042580  3.025320e-01 -1.727939  2.277316  \n",
       "4737373      5  2.042580  3.025320e-01 -1.727939  2.277316  \n",
       "\n",
       "[4737374 rows x 10 columns]"
      ]
     },
     "execution_count": 5,
     "metadata": {},
     "output_type": "execute_result"
    }
   ],
   "source": [
    "NCI60"
   ]
  },
  {
   "cell_type": "code",
   "execution_count": 6,
   "metadata": {},
   "outputs": [],
   "source": [
    "NCI60_randomized=NCI60.sample(frac=1)\n",
    "NCI60_randomized=NCI60_randomized.reset_index(drop=True)"
   ]
  },
  {
   "cell_type": "code",
   "execution_count": 7,
   "metadata": {
    "scrolled": true
   },
   "outputs": [
    {
     "data": {
      "text/plain": [
       "<AxesSubplot:xlabel='AVERAGE_GIPRCNT', ylabel='Density'>"
      ]
     },
     "execution_count": 7,
     "metadata": {},
     "output_type": "execute_result"
    },
    {
     "data": {
      "image/png": "[encoded data removed]",
      "text/plain": [
       "<Figure size 432x288 with 1 Axes>"
      ]
     },
     "metadata": {
      "needs_background": "light"
     },
     "output_type": "display_data"
    }
   ],
   "source": [
    "sns.kdeplot(NCI60_randomized.AVERAGE_GIPRCNT)"
   ]
  },
  {
   "cell_type": "code",
   "execution_count": 8,
   "metadata": {},
   "outputs": [],
   "source": [
    "NCI60_randomized_level_list=[]\n",
    "scale=0.1\n",
    "for i in range(int(2/scale)):\n",
    "    NCI60_randomized_level_df=NCI60_randomized[(NCI60_randomized.AVERAGE_GIPRCNT>i*scale)*(NCI60_randomized.AVERAGE_GIPRCNT<(i+1)*scale)]\n",
    "    NCI60_randomized_level_list.append(NCI60_randomized_level_df)\n",
    "len_min=min([len(df) for df in NCI60_randomized_level_list])\n",
    "NCI60_randomized_level_list_new=[]\n",
    "for df in NCI60_randomized_level_list:\n",
    "    scale_each=len_min/len(df)\n",
    "    df_new=df.sample(frac=scale_each)\n",
    "    NCI60_randomized_level_list_new.append(df_new)\n",
    "NCI60_balanced=pd.concat(NCI60_randomized_level_list_new)"
   ]
  },
  {
   "cell_type": "code",
   "execution_count": 9,
   "metadata": {
    "scrolled": true
   },
   "outputs": [
    {
     "data": {
      "text/plain": [
       "<AxesSubplot:xlabel='AVERAGE_GIPRCNT', ylabel='Density'>"
      ]
     },
     "execution_count": 9,
     "metadata": {},
     "output_type": "execute_result"
    },
    {
     "data": {
      "image/png": "[encoded data removed]",
      "text/plain": [
       "<Figure size 432x288 with 1 Axes>"
      ]
     },
     "metadata": {
      "needs_background": "light"
     },
     "output_type": "display_data"
    }
   ],
   "source": [
    "sns.kdeplot(NCI60_balanced.AVERAGE_GIPRCNT)"
   ]
  },
  {
   "cell_type": "code",
   "execution_count": 10,
   "metadata": {},
   "outputs": [],
   "source": [
    "NCI60_randomized=NCI60_balanced.sample(frac=1)"
   ]
  },
  {
   "cell_type": "code",
   "execution_count": 11,
   "metadata": {},
   "outputs": [
    {
     "data": {
      "text/plain": [
       "<AxesSubplot:xlabel='y_max', ylabel='Density'>"
      ]
     },
     "execution_count": 11,
     "metadata": {},
     "output_type": "execute_result"
    },
    {
     "data": {
      "image/png": "[encoded data removed]",
      "text/plain": [
       "<Figure size 432x288 with 1 Axes>"
      ]
     },
     "metadata": {
      "needs_background": "light"
     },
     "output_type": "display_data"
    }
   ],
   "source": [
    "sns.kdeplot(NCI60_balanced.y_max)"
   ]
  },
  {
   "cell_type": "code",
   "execution_count": 12,
   "metadata": {},
   "outputs": [
    {
     "data": {
      "text/plain": [
       "<AxesSubplot:xlabel='y_min', ylabel='Density'>"
      ]
     },
     "execution_count": 12,
     "metadata": {},
     "output_type": "execute_result"
    },
    {
     "data": {
      "image/png": "[encoded data removed]",
      "text/plain": [
       "<Figure size 432x288 with 1 Axes>"
      ]
     },
     "metadata": {
      "needs_background": "light"
     },
     "output_type": "display_data"
    }
   ],
   "source": [
    "sns.kdeplot(NCI60_balanced.y_min)"
   ]
  },
  {
   "cell_type": "code",
   "execution_count": 13,
   "metadata": {},
   "outputs": [
    {
     "data": {
      "text/plain": [
       "<AxesSubplot:xlabel='IC50', ylabel='Density'>"
      ]
     },
     "execution_count": 13,
     "metadata": {},
     "output_type": "execute_result"
    },
    {
     "data": {
      "image/png": "[encoded data removed]",
      "text/plain": [
       "<Figure size 432x288 with 1 Axes>"
      ]
     },
     "metadata": {
      "needs_background": "light"
     },
     "output_type": "display_data"
    }
   ],
   "source": [
    "sns.kdeplot(NCI60_balanced.IC50)"
   ]
  },
  {
   "cell_type": "code",
   "execution_count": 14,
   "metadata": {},
   "outputs": [
    {
     "data": {
      "text/plain": [
       "<AxesSubplot:xlabel='slope', ylabel='Density'>"
      ]
     },
     "execution_count": 14,
     "metadata": {},
     "output_type": "execute_result"
    },
    {
     "data": {
      "image/png": "[encoded data removed]",
      "text/plain": [
       "<Figure size 432x288 with 1 Axes>"
      ]
     },
     "metadata": {
      "needs_background": "light"
     },
     "output_type": "display_data"
    }
   ],
   "source": [
    "sns.kdeplot(NCI60_balanced.slope)"
   ]
  },
  {
   "cell_type": "code",
   "execution_count": 7,
   "metadata": {
    "scrolled": true
   },
   "outputs": [
    {
     "name": "stdout",
     "output_type": "stream",
     "text": [
      "WARNING:tensorflow:From /usr/local/lib/python3.7/site-packages/keras/backend/tensorflow_backend.py:95: The name tf.reset_default_graph is deprecated. Please use tf.compat.v1.reset_default_graph instead.\n",
      "\n",
      "WARNING:tensorflow:From /usr/local/lib/python3.7/site-packages/keras/backend/tensorflow_backend.py:98: The name tf.placeholder_with_default is deprecated. Please use tf.compat.v1.placeholder_with_default instead.\n",
      "\n",
      "WARNING:tensorflow:From /usr/local/lib/python3.7/site-packages/keras/backend/tensorflow_backend.py:102: The name tf.get_default_graph is deprecated. Please use tf.compat.v1.get_default_graph instead.\n",
      "\n",
      "WARNING:tensorflow:From /tmp/ipykernel_5148/3503822163.py:4: The name tf.GPUOptions is deprecated. Please use tf.compat.v1.GPUOptions instead.\n",
      "\n",
      "WARNING:tensorflow:From /tmp/ipykernel_5148/3503822163.py:5: The name tf.Session is deprecated. Please use tf.compat.v1.Session instead.\n",
      "\n",
      "WARNING:tensorflow:From /tmp/ipykernel_5148/3503822163.py:5: The name tf.ConfigProto is deprecated. Please use tf.compat.v1.ConfigProto instead.\n",
      "\n"
     ]
    },
    {
     "name": "stderr",
     "output_type": "stream",
     "text": [
      "2022-11-07 13:13:10.034797: I tensorflow/core/platform/cpu_feature_guard.cc:142] Your CPU supports instructions that this TensorFlow binary was not compiled to use: AVX2 FMA\n",
      "2022-11-07 13:13:10.071778: I tensorflow/core/platform/profile_utils/cpu_utils.cc:94] CPU Frequency: 2299915000 Hz\n",
      "2022-11-07 13:13:10.076384: I tensorflow/compiler/xla/service/service.cc:168] XLA service 0x5464940 initialized for platform Host (this does not guarantee that XLA will be used). Devices:\n",
      "2022-11-07 13:13:10.076456: I tensorflow/compiler/xla/service/service.cc:176]   StreamExecutor device (0): Host, Default Version\n",
      "2022-11-07 13:13:10.082412: I tensorflow/stream_executor/platform/default/dso_loader.cc:44] Successfully opened dynamic library libcuda.so.1\n",
      "2022-11-07 13:13:10.182884: I tensorflow/compiler/xla/service/service.cc:168] XLA service 0x24f76fb0 initialized for platform CUDA (this does not guarantee that XLA will be used). Devices:\n",
      "2022-11-07 13:13:10.182953: I tensorflow/compiler/xla/service/service.cc:176]   StreamExecutor device (0): NVIDIA TITAN Xp, Compute Capability 6.1\n",
      "2022-11-07 13:13:10.184921: I tensorflow/core/common_runtime/gpu/gpu_device.cc:1618] Found device 0 with properties: \n",
      "name: NVIDIA TITAN Xp major: 6 minor: 1 memoryClockRate(GHz): 1.582\n",
      "pciBusID: 0000:82:00.0\n",
      "2022-11-07 13:13:10.185485: I tensorflow/stream_executor/platform/default/dso_loader.cc:44] Successfully opened dynamic library libcudart.so.10.0\n",
      "2022-11-07 13:13:10.187718: I tensorflow/stream_executor/platform/default/dso_loader.cc:44] Successfully opened dynamic library libcublas.so.10.0\n",
      "2022-11-07 13:13:10.189636: I tensorflow/stream_executor/platform/default/dso_loader.cc:44] Successfully opened dynamic library libcufft.so.10.0\n",
      "2022-11-07 13:13:10.190232: I tensorflow/stream_executor/platform/default/dso_loader.cc:44] Successfully opened dynamic library libcurand.so.10.0\n",
      "2022-11-07 13:13:10.192415: I tensorflow/stream_executor/platform/default/dso_loader.cc:44] Successfully opened dynamic library libcusolver.so.10.0\n",
      "2022-11-07 13:13:10.193487: I tensorflow/stream_executor/platform/default/dso_loader.cc:44] Successfully opened dynamic library libcusparse.so.10.0\n",
      "2022-11-07 13:13:10.196591: I tensorflow/stream_executor/platform/default/dso_loader.cc:44] Successfully opened dynamic library libcudnn.so.7\n",
      "2022-11-07 13:13:10.198047: I tensorflow/core/common_runtime/gpu/gpu_device.cc:1746] Adding visible gpu devices: 0\n",
      "2022-11-07 13:13:10.198109: I tensorflow/stream_executor/platform/default/dso_loader.cc:44] Successfully opened dynamic library libcudart.so.10.0\n",
      "2022-11-07 13:13:10.199965: I tensorflow/core/common_runtime/gpu/gpu_device.cc:1159] Device interconnect StreamExecutor with strength 1 edge matrix:\n",
      "2022-11-07 13:13:10.199985: I tensorflow/core/common_runtime/gpu/gpu_device.cc:1165]      0 \n",
      "2022-11-07 13:13:10.199992: I tensorflow/core/common_runtime/gpu/gpu_device.cc:1178] 0:   N \n",
      "2022-11-07 13:13:10.201483: I tensorflow/core/common_runtime/gpu/gpu_device.cc:1304] Created TensorFlow device (/job:localhost/replica:0/task:0/device:GPU:0 with 1219 MB memory) -> physical GPU (device: 0, name: NVIDIA TITAN Xp, pci bus id: 0000:82:00.0, compute capability: 6.1)\n"
     ]
    }
   ],
   "source": [
    "K.clear_session()\n",
    "def get_session(gpu_fraction=0.1):\n",
    "\n",
    "    gpu_options = tf.GPUOptions(per_process_gpu_memory_fraction=gpu_fraction)\n",
    "    return tf.Session(config=tf.ConfigProto(allow_soft_placement=True,gpu_options=gpu_options))\n",
    "\n",
    "KTF.set_session(get_session())\n"
   ]
  },
  {
   "cell_type": "code",
   "execution_count": null,
   "metadata": {},
   "outputs": [],
   "source": []
  },
  {
   "cell_type": "code",
   "execution_count": 8,
   "metadata": {},
   "outputs": [],
   "source": [
    "X_origin=[pd.read_csv('/DAS_Storage4/ijjin/Study_2/220921_Final/CellLine/Input/'+str(x)+'.csv',index_col=0) for x in range(len(GeneSet_Dic_withoutNA))]\n",
    "Drug=pd.read_csv('/DAS_Storage4/ijjin/Study_2/220921_Final/Drug/NCI60_compound_Morgan512.csv',index_col=0)\n"
   ]
  },
  {
   "cell_type": "code",
   "execution_count": 9,
   "metadata": {},
   "outputs": [],
   "source": [
    "NCI60_filtered=NCI60_randomized"
   ]
  },
  {
   "cell_type": "code",
   "execution_count": 10,
   "metadata": {},
   "outputs": [],
   "source": [
    "def pick_up_balanced(df,ratio_list,filter_list):\n",
    "    #df: NCI60_filtered\n",
    "    #ratio: [training_ratio,validation_ratio,test_ratio]\n",
    "    #filter_list: [] (empty): Unseen combination (Drug-Cell line-Concentration)/['NSC','CellName']: Unseen Pair/['NSC']: Unseen Drug/['CellName']: Unseen Cell line\n",
    "    if sum(ratio_list)!=1:\n",
    "        ratio_list=[0.8,0.1,0.1]\n",
    "        \n",
    "    if len(filter_list)==0:\n",
    "        test_Response_list=range(0,int(len(NCI60_filtered)*1/10))\n",
    "        training_Response_list=range(int(len(NCI60_filtered)*1/10),int(len(NCI60_filtered)*9/10))\n",
    "        validation_Response_list=range(int(len(NCI60_filtered)*9/10),(len(NCI60_filtered)))\n",
    "        return [test_Response_list,training_Response_list,validation_Response_list]\n",
    "    \n",
    "    else:\n",
    "        identifier_df=NCI60_filtered[filter_list+['CONCENTRATION']].groupby(by=filter_list).count().reset_index()\n",
    "        identifier_df.columns=filter_list+['count']\n",
    "        identifier_df=identifier_df.sort_values(by='count')\n",
    "        len_df=len(identifier_df)\n",
    "\n",
    "        test_idx=np.arange(0,len_df,10)\n",
    "        training_idx=[]\n",
    "        for i in np.arange(1,9,1):\n",
    "            training_idx.extend(np.arange(i,len_df,10))\n",
    "        training_idx=np.sort(training_idx)\n",
    "        validation_idx=np.arange(9,len_df,10)\n",
    "\n",
    "        test_pair_df=identifier_df.iloc[test_idx]\n",
    "        training_pair_df=identifier_df.iloc[training_idx]\n",
    "        validation_pair_df=identifier_df.iloc[validation_idx]\n",
    "\n",
    "        NCI60_filtered_with_index=NCI60_filtered[filter_list].reset_index()\n",
    "\n",
    "        test_df=pd.merge(test_pair_df,NCI60_filtered_with_index,how='inner',on=filter_list)\n",
    "        training_df=pd.merge(training_pair_df,NCI60_filtered_with_index,how='inner',on=filter_list)\n",
    "        validation_df=pd.merge(validation_pair_df,NCI60_filtered_with_index,how='inner',on=filter_list)\n",
    "\n",
    "        test_Response_list=test_df['index']\n",
    "        training_Response_list=training_df['index']\n",
    "        validation_Response_list=validation_df['index']\n",
    "\n",
    "\n",
    "        return [test_Response_list,training_Response_list,validation_Response_list]"
   ]
  },
  {
   "cell_type": "code",
   "execution_count": 11,
   "metadata": {},
   "outputs": [],
   "source": [
    "#Unseen Combination\n",
    "test_Response_list,training_Response_list,validation_Response_list=pick_up_balanced(NCI60_filtered,[0.8,0.1,0.1],[])"
   ]
  },
  {
   "cell_type": "code",
   "execution_count": 12,
   "metadata": {},
   "outputs": [],
   "source": [
    "#relu\n",
    "def Making_Model():\n",
    "    #model_parameter=load_model('/DAS_Storage4/ijjin/Study_2/Single/NCI60_March22/Parameter/Model/220507_training_validation.hdf5',compile=False)\n",
    "\n",
    "    #Make Model for each gene set, that consists of multiple genes_attention by built-in(2019/05/08)\n",
    "    initializer = tf.keras.initializers.he_uniform()\n",
    "\n",
    "    #Drug level\n",
    "    Drug_feature_length=512\n",
    "    Drug_Input=Input((Drug_feature_length,), dtype='float32', name='Drug_Input')\n",
    "    Drug_Input=Input((Drug_feature_length,), dtype='float32')\n",
    "\n",
    "    Drug_Dense1=Dense(256, name='Drug_Dense_1',kernel_initializer=initializer)(Drug_Input)\n",
    "    Drug_Dense1=BatchNormalization()(Drug_Dense1)\n",
    "    Drug_Dense1=Activation('relu', name='Drug_RELU_1')(Drug_Dense1)\n",
    "\n",
    "    Drug_Dense2=Dense(128, name='Drug_Dense_2',kernel_initializer=initializer)(Drug_Dense1)\n",
    "    Drug_Dense2=BatchNormalization()(Drug_Dense2)\n",
    "    Drug_Dense2=Activation('relu', name='Drug_RELU_2')(Drug_Dense2)\n",
    "\n",
    "    Drug_Dense_New1=Dense(128, name='Drug_Dense_New1',kernel_initializer=initializer)(Drug_Input)\n",
    "    Drug_Dense_New1=BatchNormalization()(Drug_Dense_New1)\n",
    "    Drug_Dense_New1=Activation('relu', name='Drug_RELU_New1')(Drug_Dense_New1)\n",
    "\n",
    "    Drug_Dense_New2=Dense(32, name='Drug_Dense_New2',kernel_initializer=initializer)(Drug_Dense_New1)\n",
    "    Drug_Dense_New2=BatchNormalization()(Drug_Dense_New2)\n",
    "    Drug_Dense_New2=Activation('relu', name='Drug_RELU_New2')(Drug_Dense_New2)\n",
    "    \n",
    "    #Gene level\n",
    "    GeneSet_Model=[]\n",
    "    GeneSet_Input=[]\n",
    "    for GeneSet in GeneSet_Dic_withoutNA.keys():\n",
    "        Gene_Input=Input(shape=(len(GeneSet_Dic_withoutNA[GeneSet]),),dtype='float32', name=GeneSet+'_Input')\n",
    "        \n",
    "        Drug_effected_Model_for_Attention=[Gene_Input]\n",
    "        Drug_Dense_Geneset=Dense(int(len(GeneSet_Dic_withoutNA[GeneSet])/4)+1,dtype='float32',name=GeneSet+'_Drug',kernel_initializer=initializer)(Drug_Dense_New2)\n",
    "        Drug_Dense_Geneset=BatchNormalization(name=GeneSet+'_Drug_Batch')(Drug_Dense_Geneset)\n",
    "        Drug_Dense_Geneset=Activation('relu', name=GeneSet+'Drug_RELU')(Drug_Dense_Geneset)\n",
    "        Drug_effected_Model_for_Attention.append(Drug_Dense_Geneset) #Drug feature to attention layer\n",
    "        Gene_Concat=concatenate(Drug_effected_Model_for_Attention,axis=1,name=GeneSet+'_Concat')\n",
    "        Gene_Attention = Dense(len(GeneSet_Dic_withoutNA[GeneSet]), activation='tanh', name=GeneSet+'_Attention_Dense',kernel_initializer=initializer)(Gene_Concat)\n",
    "        Gene_Attention=Activation(activation='softmax', name=GeneSet+'_Attention_Softmax')(Gene_Attention)\n",
    "        Attention_Dot=dot([Gene_Input,Gene_Attention],axes=1,name=GeneSet+'_Dot')\n",
    "        Attention_Dot=BatchNormalization(name=GeneSet+'_BatchNormalized')(Attention_Dot)\n",
    "        Attention_Dot=Activation('relu',name=GeneSet+'_RELU')(Attention_Dot)\n",
    "        GeneSet_Model.append(Attention_Dot)\n",
    "        GeneSet_Input.append(Gene_Input)\n",
    "\n",
    "    Drug_effected_Model_for_Attention=GeneSet_Model.copy()\n",
    "    \n",
    "    \n",
    "    Drug_Dense_Sample=Dense(int(len(GeneSet_Dic_withoutNA)/16)+1,dtype='float32',name='Sample_Drug_Dense',kernel_initializer=initializer)(Drug_Dense_New2)\n",
    "    Drug_Dense_Sample=BatchNormalization(name=GeneSet+'Sample_Drug_Batch')(Drug_Dense_Sample)\n",
    "    Drug_Dense_Sample=Activation('relu', name='Sample_Drug_ReLU')(Drug_Dense_Sample)    #Drug feature to attention layer\n",
    "    Drug_effected_Model_for_Attention.append(Drug_Dense_Sample)\n",
    "    \n",
    "    GeneSet_Concat=concatenate(GeneSet_Model,axis=1, name='GeneSet_Concatenate')\n",
    "    Drug_effected_Concat=concatenate(Drug_effected_Model_for_Attention,axis=1, name='Drug_effected_Concatenate')\n",
    "    Sample_Attention=Dense(len(GeneSet_Dic_withoutNA.keys()),activation='tanh', name='Sample_Attention_Dense',kernel_initializer=initializer)(Drug_effected_Concat)\n",
    "    Sample_Attention=Activation(activation='softmax', name='Sample_Attention_Softmax')(Sample_Attention)\n",
    "    Sample_Multiplied=multiply([GeneSet_Concat,Sample_Attention], name='Sample_Attention_Multiplied')\n",
    "    Sample_Multiplied=BatchNormalization(name='Sample_Attention_BatchNormalized')(Sample_Multiplied)\n",
    "    Sample_Multiplied=Activation('relu',name='Sample_Attention_Relu')(Sample_Multiplied)\n",
    "    \n",
    "    Input_for_model=[]\n",
    "    for GeneSet_f in GeneSet_Input:\n",
    "        Input_for_model.append(GeneSet_f)\n",
    "    Input_for_model.append(Drug_Input)\n",
    "    \n",
    "    Dose_Input=Input((1,), dtype='float32', name='Dose_Input')\n",
    "    Input_for_model.append(Dose_Input)\n",
    "\n",
    "    Total_model=[Sample_Multiplied,Drug_Dense2]\n",
    "    Model_Concat=concatenate(Total_model,axis=1, name='Total_Concatenate')\n",
    "    Concated=Dense(128, name='Total_Dense')(Model_Concat)\n",
    "    Concated=BatchNormalization(name='Total_BatchNormalized')(Concated)\n",
    "    Concated=Activation(activation='relu', name='Total_RELU')(Concated)\n",
    "    \n",
    "    Final=Dense(32, name='Output_Dense1',kernel_initializer=initializer)(Concated)\n",
    "    Final=BatchNormalization()(Final)\n",
    "    Final=Activation(activation='relu',name='Output_RELU')(Final)\n",
    "    Final=Dense(8,name='Output_Dense2',kernel_initializer=initializer)(Final)\n",
    "    Final=BatchNormalization()(Final)\n",
    "    Final=Activation(activation='relu',name='Output_RELU2')(Final)\n",
    "    Final=Dense(2, name='Output_Dense3',kernel_initializer=initializer)(Final)    \n",
    "    Final=BatchNormalization()(Final)\n",
    "    Final=Activation(activation='relu',name='Output_RELU3')(Final)\n",
    "    \n",
    "    Final_y_max=Dense(1, name='y_max',kernel_initializer=initializer)(Final)\n",
    "    Final_y_min=Dense(1, name='y_min',kernel_initializer=initializer)(Final)\n",
    "    Final_slope=Dense(1, name='slope',kernel_initializer=initializer)(Final)\n",
    "    Final_IC50=Dense(1, name='IC50',kernel_initializer=initializer)(Final)\n",
    "\n",
    "    Final_1=subtract([Dose_Input,Final_IC50],name='Final_1')\n",
    "    Final_2=multiply([Final_slope,Final_1],name='Final_2')\n",
    "    Final_negative=Lambda(lambda x:-1*x)(Final_2)\n",
    "    Final_Sigmoid=Activation(activation='sigmoid',name='Final_Sigmoid')(Final_negative)\n",
    "    Final_scale=subtract([Final_y_max,Final_y_min],name='Final_scale')\n",
    "    Final_scale=Activation(activation='relu',name='Final_scale_activation')(Final_scale)\n",
    "    Final_3=multiply([Final_scale,Final_Sigmoid],name='Final_3')\n",
    "    Final_4=add([Final_3,Final_y_min],name='Final_4')\n",
    "    model=Model(inputs=Input_for_model,outputs=Final_4)\n",
    "\n",
    "    return model\n"
   ]
  },
  {
   "cell_type": "code",
   "execution_count": 13,
   "metadata": {},
   "outputs": [],
   "source": [
    "from keras.callbacks import Callback, ReduceLROnPlateau, EarlyStopping\n",
    "\n",
    "reduce_lr = ReduceLROnPlateau(monitor='val_loss', min_delta=0.0005, factor=0.1, patience=10, min_lr=0, verbose=1)\n",
    "es = EarlyStopping(monitor='val_loss', mode='min', verbose=1, patience=20, min_delta=0.0005, restore_best_weights=True)\n"
   ]
  },
  {
   "cell_type": "code",
   "execution_count": 14,
   "metadata": {},
   "outputs": [],
   "source": [
    "class HiDRA_DataGenerator(keras.utils.Sequence):\n",
    "    def __init__(self, idxs, batch_size=1024, shuffle=True):\n",
    "        'Initialization'\n",
    "        self.batch_size = batch_size\n",
    "        self.idxs = idxs\n",
    "        self.shuffle = shuffle\n",
    "        self.on_epoch_end()\n",
    "    \n",
    "    def __len__(self):\n",
    "        'Denotes the number of batches per epoch'\n",
    "        return int(np.floor(len(self.idxs) / self.batch_size))\n",
    "\n",
    "    def __getitem__(self, index):\n",
    "        'Generate one batch of data'\n",
    "        # Generate indexes of the batch\n",
    "        indexes = self.indexes[index*self.batch_size:(index+1)*self.batch_size]\n",
    "\n",
    "        # Find list of IDs\n",
    "        idxs_tmp = [self.idxs[k] for k in indexes]\n",
    "\n",
    "        # Generate data\n",
    "        X, y = self.__data_generation(idxs_tmp)\n",
    "\n",
    "        return X, y\n",
    "\n",
    "    def on_epoch_end(self):\n",
    "        'Updates indexes after each epoch'\n",
    "        self.indexes = np.arange(len(self.idxs))\n",
    "        if self.shuffle == True:\n",
    "            np.random.shuffle(self.indexes)\n",
    "\n",
    "    def __data_generation(self, idxs_tmp):\n",
    "        'Generates data containing batch_size samples' # X : (n_samples, *dim, n_channels)\n",
    "        # Initialization\n",
    "        # Generate data\n",
    "        NCI60_float_gen=NCI60_filtered.iloc[idxs_tmp]\n",
    "        X_origin_tmp=[df.loc[NCI60_float_gen['CellName']] for df in X_origin]\n",
    "        X_origin_tmp.append(Drug.loc[NCI60_float_gen['NSC']])\n",
    "        Dose_df=pd.DataFrame(NCI60_float_gen['CONCENTRATION'])\n",
    "        X_origin_tmp.append(Dose_df)\n",
    "        Y_origin_tmp=NCI60_float_gen['AVERAGE_GIPRCNT']\n",
    "\n",
    "        return X_origin_tmp, Y_origin_tmp"
   ]
  },
  {
   "cell_type": "code",
   "execution_count": 15,
   "metadata": {},
   "outputs": [],
   "source": [
    "NCI60_filtered=NCI60_filtered.reset_index(drop=True)"
   ]
  },
  {
   "cell_type": "code",
   "execution_count": 16,
   "metadata": {},
   "outputs": [],
   "source": [
    "training_generator=HiDRA_DataGenerator(training_Response_list)\n",
    "validation_generator=HiDRA_DataGenerator(validation_Response_list)\n",
    "test_generator=HiDRA_DataGenerator(test_Response_list)"
   ]
  },
  {
   "cell_type": "code",
   "execution_count": 17,
   "metadata": {},
   "outputs": [],
   "source": [
    "def plcc_loss(y_true, y_pred):  \n",
    "    x = y_true\n",
    "    y = y_pred\n",
    "    mx = K.mean(x)\n",
    "    my = K.mean(y)\n",
    "    xm, ym = x-mx, y-my\n",
    "    r_num = K.sum(tf.multiply(xm,ym))\n",
    "    r_den = K.sqrt(tf.multiply(K.sum(K.square(xm)), K.sum(K.square(ym)))) + 1e-12\n",
    "    r = r_num / r_den\n",
    "    r = K.maximum(K.minimum(r, 1.0), -1.0)\n",
    "    return 1 - r \n",
    "\n",
    "def aggregated_loss(y_true,y_pred):\n",
    "    mse_value=tf.keras.metrics.mse(y_true,y_pred)\n",
    "    pearson_loss=plcc_loss(y_true,y_pred)\n",
    "    return mse_value+pearson_loss\n",
    "    \n",
    "    \n",
    "def plcc_metric(y_true, y_pred):  \n",
    "    x = y_true\n",
    "    y = y_pred\n",
    "    mx = K.mean(x)\n",
    "    my = K.mean(y)\n",
    "    xm, ym = x-mx, y-my\n",
    "    r_num = K.sum(tf.multiply(xm,ym))\n",
    "    r_den = K.sqrt(tf.multiply(K.sum(K.square(xm)), K.sum(K.square(ym)))) + 1e-12\n",
    "    return r_num / r_den\n"
   ]
  },
  {
   "cell_type": "code",
   "execution_count": 29,
   "metadata": {},
   "outputs": [],
   "source": [
    "NCI60_filtered.iloc[test_Response_list].to_csv('/DAS_Storage4/ijjin/Study_2/220921_Final/Single/NCI60_March22/Training/Split_by_Combination/Split_by_Combination_Test.csv')"
   ]
  },
  {
   "cell_type": "code",
   "execution_count": 31,
   "metadata": {},
   "outputs": [],
   "source": [
    "NCI60_filtered.iloc[training_Response_list].to_csv('/DAS_Storage4/ijjin/Study_2/220921_Final/Single/NCI60_March22/Training/Split_by_Combination/Split_by_Pair_Training.csv')"
   ]
  },
  {
   "cell_type": "code",
   "execution_count": 32,
   "metadata": {},
   "outputs": [],
   "source": [
    "NCI60_filtered.iloc[validation_Response_list].to_csv('/DAS_Storage4/ijjin/Study_2/220921_Final/Single/NCI60_March22/Training/Split_by_Combination/Split_by_Pair_Validation.csv')"
   ]
  },
  {
   "cell_type": "code",
   "execution_count": 18,
   "metadata": {
    "scrolled": true
   },
   "outputs": [
    {
     "name": "stdout",
     "output_type": "stream",
     "text": [
      "WARNING:tensorflow:From /tmp/ipykernel_5148/3143332237.py:6: The name tf.keras.initializers.he_uniform is deprecated. Please use tf.compat.v1.keras.initializers.he_uniform instead.\n",
      "\n",
      "WARNING:tensorflow:From /usr/local/lib/python3.7/site-packages/keras/backend/tensorflow_backend.py:517: The name tf.placeholder is deprecated. Please use tf.compat.v1.placeholder instead.\n",
      "\n",
      "WARNING:tensorflow:From /usr/local/lib/python3.7/site-packages/keras/backend/tensorflow_backend.py:4138: The name tf.random_uniform is deprecated. Please use tf.random.uniform instead.\n",
      "\n",
      "WARNING:tensorflow:From /usr/local/lib/python3.7/site-packages/keras/optimizers.py:790: The name tf.train.Optimizer is deprecated. Please use tf.compat.v1.train.Optimizer instead.\n",
      "\n"
     ]
    }
   ],
   "source": [
    "#test\n",
    "model2=Making_Model()\n",
    "model2.compile(loss=aggregated_loss,optimizer=keras.optimizers.Adam(lr=0.01),metrics=[plcc_metric,'mean_squared_error'])\n"
   ]
  },
  {
   "cell_type": "code",
   "execution_count": null,
   "metadata": {},
   "outputs": [],
   "source": []
  },
  {
   "cell_type": "code",
   "execution_count": 19,
   "metadata": {
    "scrolled": true
   },
   "outputs": [
    {
     "data": {
      "text/html": [
       "<div>\n",
       "<style scoped>\n",
       "    .dataframe tbody tr th:only-of-type {\n",
       "        vertical-align: middle;\n",
       "    }\n",
       "\n",
       "    .dataframe tbody tr th {\n",
       "        vertical-align: top;\n",
       "    }\n",
       "\n",
       "    .dataframe thead th {\n",
       "        text-align: right;\n",
       "    }\n",
       "</style>\n",
       "<table border=\"1\" class=\"dataframe\">\n",
       "  <thead>\n",
       "    <tr style=\"text-align: right;\">\n",
       "      <th></th>\n",
       "      <th>NSC</th>\n",
       "      <th>CellName</th>\n",
       "      <th>CONCENTRATION</th>\n",
       "      <th>AVERAGE_GIPRCNT</th>\n",
       "      <th>Viability_max</th>\n",
       "      <th>count</th>\n",
       "      <th>y_max</th>\n",
       "      <th>y_min</th>\n",
       "      <th>IC50</th>\n",
       "      <th>slope</th>\n",
       "    </tr>\n",
       "  </thead>\n",
       "  <tbody>\n",
       "    <tr>\n",
       "      <th>0</th>\n",
       "      <td>4518</td>\n",
       "      <td>KM12</td>\n",
       "      <td>1.0000</td>\n",
       "      <td>1.034569</td>\n",
       "      <td>2.049053</td>\n",
       "      <td>5</td>\n",
       "      <td>2.099319</td>\n",
       "      <td>8.219485e-01</td>\n",
       "      <td>-0.278687</td>\n",
       "      <td>3.000000</td>\n",
       "    </tr>\n",
       "    <tr>\n",
       "      <th>1</th>\n",
       "      <td>674102</td>\n",
       "      <td>UACC257</td>\n",
       "      <td>-2.0000</td>\n",
       "      <td>1.952976</td>\n",
       "      <td>1.952976</td>\n",
       "      <td>5</td>\n",
       "      <td>1.912630</td>\n",
       "      <td>1.000310e-01</td>\n",
       "      <td>1.030786</td>\n",
       "      <td>2.092798</td>\n",
       "    </tr>\n",
       "    <tr>\n",
       "      <th>2</th>\n",
       "      <td>666660</td>\n",
       "      <td>OVCAR4</td>\n",
       "      <td>-2.0000</td>\n",
       "      <td>2.040612</td>\n",
       "      <td>2.078281</td>\n",
       "      <td>5</td>\n",
       "      <td>2.079099</td>\n",
       "      <td>3.622170e-17</td>\n",
       "      <td>1.283848</td>\n",
       "      <td>3.000000</td>\n",
       "    </tr>\n",
       "    <tr>\n",
       "      <th>3</th>\n",
       "      <td>699491</td>\n",
       "      <td>NIHOVCAR3</td>\n",
       "      <td>1.3979</td>\n",
       "      <td>1.071269</td>\n",
       "      <td>1.996271</td>\n",
       "      <td>12</td>\n",
       "      <td>1.976040</td>\n",
       "      <td>2.916764e-01</td>\n",
       "      <td>0.074183</td>\n",
       "      <td>1.000000</td>\n",
       "    </tr>\n",
       "    <tr>\n",
       "      <th>4</th>\n",
       "      <td>701758</td>\n",
       "      <td>786O</td>\n",
       "      <td>0.0000</td>\n",
       "      <td>2.026348</td>\n",
       "      <td>2.026348</td>\n",
       "      <td>5</td>\n",
       "      <td>1.978109</td>\n",
       "      <td>1.325838e+00</td>\n",
       "      <td>1.626795</td>\n",
       "      <td>3.000000</td>\n",
       "    </tr>\n",
       "    <tr>\n",
       "      <th>...</th>\n",
       "      <td>...</td>\n",
       "      <td>...</td>\n",
       "      <td>...</td>\n",
       "      <td>...</td>\n",
       "      <td>...</td>\n",
       "      <td>...</td>\n",
       "      <td>...</td>\n",
       "      <td>...</td>\n",
       "      <td>...</td>\n",
       "      <td>...</td>\n",
       "    </tr>\n",
       "    <tr>\n",
       "      <th>4737369</th>\n",
       "      <td>147811</td>\n",
       "      <td>HCT116</td>\n",
       "      <td>-2.0000</td>\n",
       "      <td>2.024697</td>\n",
       "      <td>2.078496</td>\n",
       "      <td>5</td>\n",
       "      <td>2.081552</td>\n",
       "      <td>6.362993e-01</td>\n",
       "      <td>0.525233</td>\n",
       "      <td>1.960788</td>\n",
       "    </tr>\n",
       "    <tr>\n",
       "      <th>4737370</th>\n",
       "      <td>732731</td>\n",
       "      <td>NIHOVCAR3</td>\n",
       "      <td>-2.0000</td>\n",
       "      <td>1.978422</td>\n",
       "      <td>1.978422</td>\n",
       "      <td>5</td>\n",
       "      <td>1.998067</td>\n",
       "      <td>8.412381e-31</td>\n",
       "      <td>1.550210</td>\n",
       "      <td>3.000000</td>\n",
       "    </tr>\n",
       "    <tr>\n",
       "      <th>4737371</th>\n",
       "      <td>689184</td>\n",
       "      <td>A498</td>\n",
       "      <td>2.0000</td>\n",
       "      <td>1.332236</td>\n",
       "      <td>2.096231</td>\n",
       "      <td>5</td>\n",
       "      <td>2.003508</td>\n",
       "      <td>6.697522e-01</td>\n",
       "      <td>2.000000</td>\n",
       "      <td>3.000000</td>\n",
       "    </tr>\n",
       "    <tr>\n",
       "      <th>4737372</th>\n",
       "      <td>660812</td>\n",
       "      <td>KM12</td>\n",
       "      <td>0.0000</td>\n",
       "      <td>1.990000</td>\n",
       "      <td>2.022000</td>\n",
       "      <td>5</td>\n",
       "      <td>2.013793</td>\n",
       "      <td>1.427302e+00</td>\n",
       "      <td>1.033655</td>\n",
       "      <td>3.000000</td>\n",
       "    </tr>\n",
       "    <tr>\n",
       "      <th>4737373</th>\n",
       "      <td>668258</td>\n",
       "      <td>A549</td>\n",
       "      <td>2.0000</td>\n",
       "      <td>0.127496</td>\n",
       "      <td>1.987183</td>\n",
       "      <td>5</td>\n",
       "      <td>1.974570</td>\n",
       "      <td>3.495266e-17</td>\n",
       "      <td>1.336212</td>\n",
       "      <td>3.000000</td>\n",
       "    </tr>\n",
       "  </tbody>\n",
       "</table>\n",
       "<p>4737374 rows × 10 columns</p>\n",
       "</div>"
      ],
      "text/plain": [
       "            NSC   CellName  CONCENTRATION  AVERAGE_GIPRCNT  Viability_max  \\\n",
       "0          4518       KM12         1.0000         1.034569       2.049053   \n",
       "1        674102    UACC257        -2.0000         1.952976       1.952976   \n",
       "2        666660     OVCAR4        -2.0000         2.040612       2.078281   \n",
       "3        699491  NIHOVCAR3         1.3979         1.071269       1.996271   \n",
       "4        701758       786O         0.0000         2.026348       2.026348   \n",
       "...         ...        ...            ...              ...            ...   \n",
       "4737369  147811     HCT116        -2.0000         2.024697       2.078496   \n",
       "4737370  732731  NIHOVCAR3        -2.0000         1.978422       1.978422   \n",
       "4737371  689184       A498         2.0000         1.332236       2.096231   \n",
       "4737372  660812       KM12         0.0000         1.990000       2.022000   \n",
       "4737373  668258       A549         2.0000         0.127496       1.987183   \n",
       "\n",
       "         count     y_max         y_min      IC50     slope  \n",
       "0            5  2.099319  8.219485e-01 -0.278687  3.000000  \n",
       "1            5  1.912630  1.000310e-01  1.030786  2.092798  \n",
       "2            5  2.079099  3.622170e-17  1.283848  3.000000  \n",
       "3           12  1.976040  2.916764e-01  0.074183  1.000000  \n",
       "4            5  1.978109  1.325838e+00  1.626795  3.000000  \n",
       "...        ...       ...           ...       ...       ...  \n",
       "4737369      5  2.081552  6.362993e-01  0.525233  1.960788  \n",
       "4737370      5  1.998067  8.412381e-31  1.550210  3.000000  \n",
       "4737371      5  2.003508  6.697522e-01  2.000000  3.000000  \n",
       "4737372      5  2.013793  1.427302e+00  1.033655  3.000000  \n",
       "4737373      5  1.974570  3.495266e-17  1.336212  3.000000  \n",
       "\n",
       "[4737374 rows x 10 columns]"
      ]
     },
     "execution_count": 19,
     "metadata": {},
     "output_type": "execute_result"
    }
   ],
   "source": [
    "NCI60_filtered"
   ]
  },
  {
   "cell_type": "code",
   "execution_count": null,
   "metadata": {
    "scrolled": true
   },
   "outputs": [
    {
     "name": "stdout",
     "output_type": "stream",
     "text": [
      "WARNING:tensorflow:From /usr/local/lib/python3.7/site-packages/tensorflow_core/python/ops/math_grad.py:1424: where (from tensorflow.python.ops.array_ops) is deprecated and will be removed in a future version.\n",
      "Instructions for updating:\n",
      "Use tf.where in 2.0, which has the same broadcast rule as np.where\n",
      "WARNING:tensorflow:From /usr/local/lib/python3.7/site-packages/keras/backend/tensorflow_backend.py:986: The name tf.assign_add is deprecated. Please use tf.compat.v1.assign_add instead.\n",
      "\n",
      "WARNING:tensorflow:From /usr/local/lib/python3.7/site-packages/keras/backend/tensorflow_backend.py:973: The name tf.assign is deprecated. Please use tf.compat.v1.assign instead.\n",
      "\n",
      "Epoch 1/2000\n",
      "WARNING:tensorflow:From /usr/local/lib/python3.7/site-packages/keras/backend/tensorflow_backend.py:174: The name tf.get_default_session is deprecated. Please use tf.compat.v1.get_default_session instead.\n",
      "\n",
      "WARNING:tensorflow:From /usr/local/lib/python3.7/site-packages/keras/backend/tensorflow_backend.py:190: The name tf.global_variables is deprecated. Please use tf.compat.v1.global_variables instead.\n",
      "\n",
      "WARNING:tensorflow:From /usr/local/lib/python3.7/site-packages/keras/backend/tensorflow_backend.py:199: The name tf.is_variable_initialized is deprecated. Please use tf.compat.v1.is_variable_initialized instead.\n",
      "\n",
      "WARNING:tensorflow:From /usr/local/lib/python3.7/site-packages/keras/backend/tensorflow_backend.py:206: The name tf.variables_initializer is deprecated. Please use tf.compat.v1.variables_initializer instead.\n",
      "\n"
     ]
    },
    {
     "name": "stderr",
     "output_type": "stream",
     "text": [
      "2022-11-07 13:23:34.902930: I tensorflow/stream_executor/platform/default/dso_loader.cc:44] Successfully opened dynamic library libcublas.so.10.0\n"
     ]
    },
    {
     "name": "stdout",
     "output_type": "stream",
     "text": [
      "3701/3701 [==============================] - 3772s 1s/step - loss: 0.2366 - plcc_metric: 0.8602 - mean_squared_error: 0.0968 - val_loss: 0.1460 - val_plcc_metric: 0.9099 - val_mean_squared_error: 0.0559\n",
      "Epoch 2/2000\n",
      "3701/3701 [==============================] - 3542s 957ms/step - loss: 0.1216 - plcc_metric: 0.9251 - mean_squared_error: 0.0468 - val_loss: 0.1127 - val_plcc_metric: 0.9306 - val_mean_squared_error: 0.0433\n",
      "Epoch 3/2000\n",
      "3701/3701 [==============================] - 3829s 1s/step - loss: 0.1062 - plcc_metric: 0.9348 - mean_squared_error: 0.0410 - val_loss: 0.1005 - val_plcc_metric: 0.9381 - val_mean_squared_error: 0.0387\n",
      "Epoch 4/2000\n",
      "3701/3701 [==============================] - 3745s 1s/step - loss: 0.0970 - plcc_metric: 0.9405 - mean_squared_error: 0.0375 - val_loss: 0.0942 - val_plcc_metric: 0.9423 - val_mean_squared_error: 0.0365\n",
      "Epoch 5/2000\n",
      "3701/3701 [==============================] - 3343s 903ms/step - loss: 0.0916 - plcc_metric: 0.9438 - mean_squared_error: 0.0355 - val_loss: 0.0938 - val_plcc_metric: 0.9426 - val_mean_squared_error: 0.0363\n",
      "Epoch 6/2000\n",
      "3701/3701 [==============================] - 3310s 894ms/step - loss: 0.0875 - plcc_metric: 0.9464 - mean_squared_error: 0.0339 - val_loss: 0.0925 - val_plcc_metric: 0.9437 - val_mean_squared_error: 0.0362\n",
      "Epoch 7/2000\n",
      "  89/3701 [..............................] - ETA: 50:20 - loss: 0.0852 - plcc_metric: 0.9479 - mean_squared_error: 0.0330"
     ]
    },
    {
     "name": "stderr",
     "output_type": "stream",
     "text": [
      "IOPub message rate exceeded.\n",
      "The notebook server will temporarily stop sending output\n",
      "to the client in order to avoid crashing it.\n",
      "To change this limit, set the config variable\n",
      "`--NotebookApp.iopub_msg_rate_limit`.\n",
      "\n",
      "Current values:\n",
      "NotebookApp.iopub_msg_rate_limit=1000.0 (msgs/sec)\n",
      "NotebookApp.rate_limit_window=3.0 (secs)\n",
      "\n"
     ]
    },
    {
     "name": "stdout",
     "output_type": "stream",
     "text": [
      "3105/3701 [========================>.....] - ETA: 9:21 - loss: 0.0830 - plcc_metric: 0.9492 - mean_squared_error: 0.0322"
     ]
    },
    {
     "name": "stderr",
     "output_type": "stream",
     "text": [
      "IOPub message rate exceeded.\n",
      "The notebook server will temporarily stop sending output\n",
      "to the client in order to avoid crashing it.\n",
      "To change this limit, set the config variable\n",
      "`--NotebookApp.iopub_msg_rate_limit`.\n",
      "\n",
      "Current values:\n",
      "NotebookApp.iopub_msg_rate_limit=1000.0 (msgs/sec)\n",
      "NotebookApp.rate_limit_window=3.0 (secs)\n",
      "\n"
     ]
    },
    {
     "name": "stdout",
     "output_type": "stream",
     "text": [
      "3701/3701 [==============================] - 3806s 1s/step - loss: 0.0813 - plcc_metric: 0.9503 - mean_squared_error: 0.0316 - val_loss: 0.0844 - val_plcc_metric: 0.9481 - val_mean_squared_error: 0.0325\n",
      "Epoch 10/2000\n",
      "2397/3701 [==================>...........] - ETA: 21:21 - loss: 0.0797 - plcc_metric: 0.9513 - mean_squared_error: 0.0309"
     ]
    },
    {
     "name": "stderr",
     "output_type": "stream",
     "text": [
      "IOPub message rate exceeded.\n",
      "The notebook server will temporarily stop sending output\n",
      "to the client in order to avoid crashing it.\n",
      "To change this limit, set the config variable\n",
      "`--NotebookApp.iopub_msg_rate_limit`.\n",
      "\n",
      "Current values:\n",
      "NotebookApp.iopub_msg_rate_limit=1000.0 (msgs/sec)\n",
      "NotebookApp.rate_limit_window=3.0 (secs)\n",
      "\n"
     ]
    },
    {
     "name": "stdout",
     "output_type": "stream",
     "text": [
      "3701/3701 [==============================] - 3809s 1s/step - loss: 0.0782 - plcc_metric: 0.9522 - mean_squared_error: 0.0304 - val_loss: 0.0812 - val_plcc_metric: 0.9502 - val_mean_squared_error: 0.0313\n",
      "Epoch 12/2000\n",
      "1494/3701 [===========>..................] - ETA: 36:11 - loss: 0.0765 - plcc_metric: 0.9532 - mean_squared_error: 0.0297"
     ]
    },
    {
     "name": "stderr",
     "output_type": "stream",
     "text": [
      "IOPub message rate exceeded.\n",
      "The notebook server will temporarily stop sending output\n",
      "to the client in order to avoid crashing it.\n",
      "To change this limit, set the config variable\n",
      "`--NotebookApp.iopub_msg_rate_limit`.\n",
      "\n",
      "Current values:\n",
      "NotebookApp.iopub_msg_rate_limit=1000.0 (msgs/sec)\n",
      "NotebookApp.rate_limit_window=3.0 (secs)\n",
      "\n"
     ]
    },
    {
     "name": "stdout",
     "output_type": "stream",
     "text": [
      "3701/3701 [==============================] - 3355s 906ms/step - loss: 0.0761 - plcc_metric: 0.9535 - mean_squared_error: 0.0296 - val_loss: 0.0806 - val_plcc_metric: 0.9507 - val_mean_squared_error: 0.0313\n",
      "Epoch 14/2000\n",
      " 653/3701 [====>.........................] - ETA: 43:31 - loss: 0.0738 - plcc_metric: 0.9549 - mean_squared_error: 0.0287"
     ]
    },
    {
     "name": "stderr",
     "output_type": "stream",
     "text": [
      "IOPub message rate exceeded.\n",
      "The notebook server will temporarily stop sending output\n",
      "to the client in order to avoid crashing it.\n",
      "To change this limit, set the config variable\n",
      "`--NotebookApp.iopub_msg_rate_limit`.\n",
      "\n",
      "Current values:\n",
      "NotebookApp.iopub_msg_rate_limit=1000.0 (msgs/sec)\n",
      "NotebookApp.rate_limit_window=3.0 (secs)\n",
      "\n"
     ]
    },
    {
     "name": "stdout",
     "output_type": "stream",
     "text": [
      "3466/3701 [===========================>..] - ETA: 3:18 - loss: 0.0744 - plcc_metric: 0.9545 - mean_squared_error: 0.0289"
     ]
    },
    {
     "name": "stderr",
     "output_type": "stream",
     "text": [
      "IOPub message rate exceeded.\n",
      "The notebook server will temporarily stop sending output\n",
      "to the client in order to avoid crashing it.\n",
      "To change this limit, set the config variable\n",
      "`--NotebookApp.iopub_msg_rate_limit`.\n",
      "\n",
      "Current values:\n",
      "NotebookApp.iopub_msg_rate_limit=1000.0 (msgs/sec)\n",
      "NotebookApp.rate_limit_window=3.0 (secs)\n",
      "\n"
     ]
    },
    {
     "name": "stdout",
     "output_type": "stream",
     "text": [
      "3701/3701 [==============================] - 3288s 888ms/step - loss: 0.0738 - plcc_metric: 0.9549 - mean_squared_error: 0.0287 - val_loss: 0.0795 - val_plcc_metric: 0.9514 - val_mean_squared_error: 0.0309\n",
      "Epoch 17/2000\n",
      "1106/3701 [=======>......................] - ETA: 36:49 - loss: 0.0721 - plcc_metric: 0.9559 - mean_squared_error: 0.0280"
     ]
    },
    {
     "name": "stderr",
     "output_type": "stream",
     "text": [
      "IOPub message rate exceeded.\n",
      "The notebook server will temporarily stop sending output\n",
      "to the client in order to avoid crashing it.\n",
      "To change this limit, set the config variable\n",
      "`--NotebookApp.iopub_msg_rate_limit`.\n",
      "\n",
      "Current values:\n",
      "NotebookApp.iopub_msg_rate_limit=1000.0 (msgs/sec)\n",
      "NotebookApp.rate_limit_window=3.0 (secs)\n",
      "\n"
     ]
    },
    {
     "name": "stdout",
     "output_type": "stream",
     "text": [
      "2770/3701 [=====================>........] - ETA: 13:13 - loss: 0.0729 - plcc_metric: 0.9554 - mean_squared_error: 0.0284"
     ]
    },
    {
     "name": "stderr",
     "output_type": "stream",
     "text": [
      "IOPub message rate exceeded.\n",
      "The notebook server will temporarily stop sending output\n",
      "to the client in order to avoid crashing it.\n",
      "To change this limit, set the config variable\n",
      "`--NotebookApp.iopub_msg_rate_limit`.\n",
      "\n",
      "Current values:\n",
      "NotebookApp.iopub_msg_rate_limit=1000.0 (msgs/sec)\n",
      "NotebookApp.rate_limit_window=3.0 (secs)\n",
      "\n"
     ]
    },
    {
     "name": "stdout",
     "output_type": "stream",
     "text": [
      "3701/3701 [==============================] - 3285s 888ms/step - loss: 0.0726 - plcc_metric: 0.9557 - mean_squared_error: 0.0282 - val_loss: 0.0790 - val_plcc_metric: 0.9516 - val_mean_squared_error: 0.0306\n",
      "Epoch 19/2000\n",
      " 384/3701 [==>...........................] - ETA: 47:25 - loss: 0.0701 - plcc_metric: 0.9572 - mean_squared_error: 0.0273"
     ]
    },
    {
     "name": "stderr",
     "output_type": "stream",
     "text": [
      "IOPub message rate exceeded.\n",
      "The notebook server will temporarily stop sending output\n",
      "to the client in order to avoid crashing it.\n",
      "To change this limit, set the config variable\n",
      "`--NotebookApp.iopub_msg_rate_limit`.\n",
      "\n",
      "Current values:\n",
      "NotebookApp.iopub_msg_rate_limit=1000.0 (msgs/sec)\n",
      "NotebookApp.rate_limit_window=3.0 (secs)\n",
      "\n"
     ]
    },
    {
     "name": "stdout",
     "output_type": "stream",
     "text": [
      "1907/3701 [==============>...............] - ETA: 25:18 - loss: 0.0717 - plcc_metric: 0.9562 - mean_squared_error: 0.0279"
     ]
    },
    {
     "name": "stderr",
     "output_type": "stream",
     "text": [
      "IOPub message rate exceeded.\n",
      "The notebook server will temporarily stop sending output\n",
      "to the client in order to avoid crashing it.\n",
      "To change this limit, set the config variable\n",
      "`--NotebookApp.iopub_msg_rate_limit`.\n",
      "\n",
      "Current values:\n",
      "NotebookApp.iopub_msg_rate_limit=1000.0 (msgs/sec)\n",
      "NotebookApp.rate_limit_window=3.0 (secs)\n",
      "\n"
     ]
    },
    {
     "name": "stdout",
     "output_type": "stream",
     "text": [
      "3304/3701 [=========================>....] - ETA: 5:35 - loss: 0.0716 - plcc_metric: 0.9563 - mean_squared_error: 0.0279"
     ]
    },
    {
     "name": "stderr",
     "output_type": "stream",
     "text": [
      "IOPub message rate exceeded.\n",
      "The notebook server will temporarily stop sending output\n",
      "to the client in order to avoid crashing it.\n",
      "To change this limit, set the config variable\n",
      "`--NotebookApp.iopub_msg_rate_limit`.\n",
      "\n",
      "Current values:\n",
      "NotebookApp.iopub_msg_rate_limit=1000.0 (msgs/sec)\n",
      "NotebookApp.rate_limit_window=3.0 (secs)\n",
      "\n"
     ]
    },
    {
     "name": "stdout",
     "output_type": "stream",
     "text": [
      "1269/3701 [=========>....................] - ETA: 34:12 - loss: 0.0703 - plcc_metric: 0.9570 - mean_squared_error: 0.0273"
     ]
    },
    {
     "name": "stderr",
     "output_type": "stream",
     "text": [
      "IOPub message rate exceeded.\n",
      "The notebook server will temporarily stop sending output\n",
      "to the client in order to avoid crashing it.\n",
      "To change this limit, set the config variable\n",
      "`--NotebookApp.iopub_msg_rate_limit`.\n",
      "\n",
      "Current values:\n",
      "NotebookApp.iopub_msg_rate_limit=1000.0 (msgs/sec)\n",
      "NotebookApp.rate_limit_window=3.0 (secs)\n",
      "\n"
     ]
    },
    {
     "name": "stdout",
     "output_type": "stream",
     "text": [
      "3701/3701 [==============================] - 3276s 885ms/step - loss: 0.0707 - plcc_metric: 0.9568 - mean_squared_error: 0.0275 - val_loss: 0.0772 - val_plcc_metric: 0.9526 - val_mean_squared_error: 0.0298\n",
      "Epoch 23/2000\n",
      "3701/3701 [==============================] - 3622s 979ms/step - loss: 0.0703 - plcc_metric: 0.9571 - mean_squared_error: 0.0274 - val_loss: 0.0778 - val_plcc_metric: 0.9527 - val_mean_squared_error: 0.0305\n",
      "Epoch 24/2000\n",
      "3701/3701 [==============================] - 3746s 1s/step - loss: 0.0699 - plcc_metric: 0.9574 - mean_squared_error: 0.0272 - val_loss: 0.0772 - val_plcc_metric: 0.9529 - val_mean_squared_error: 0.0301\n",
      "Epoch 25/2000\n",
      "3701/3701 [==============================] - 3535s 955ms/step - loss: 0.0695 - plcc_metric: 0.9576 - mean_squared_error: 0.0271 - val_loss: 0.0769 - val_plcc_metric: 0.9528 - val_mean_squared_error: 0.0297\n",
      "Epoch 26/2000\n",
      "3701/3701 [==============================] - 3109s 840ms/step - loss: 0.0692 - plcc_metric: 0.9578 - mean_squared_error: 0.0270 - val_loss: 0.0782 - val_plcc_metric: 0.9524 - val_mean_squared_error: 0.0306\n",
      "Epoch 27/2000\n",
      "3701/3701 [==============================] - 3121s 843ms/step - loss: 0.0689 - plcc_metric: 0.9580 - mean_squared_error: 0.0269 - val_loss: 0.0765 - val_plcc_metric: 0.9531 - val_mean_squared_error: 0.0296\n",
      "Epoch 28/2000\n",
      "3701/3701 [==============================] - 3086s 834ms/step - loss: 0.0685 - plcc_metric: 0.9582 - mean_squared_error: 0.0267 - val_loss: 0.0768 - val_plcc_metric: 0.9531 - val_mean_squared_error: 0.0300\n",
      "Epoch 29/2000\n",
      "3701/3701 [==============================] - 3438s 929ms/step - loss: 0.0681 - plcc_metric: 0.9584 - mean_squared_error: 0.0265 - val_loss: 0.0763 - val_plcc_metric: 0.9532 - val_mean_squared_error: 0.0295\n",
      "Epoch 30/2000\n",
      "3701/3701 [==============================] - 3434s 928ms/step - loss: 0.0679 - plcc_metric: 0.9585 - mean_squared_error: 0.0265 - val_loss: 0.0765 - val_plcc_metric: 0.9532 - val_mean_squared_error: 0.0297\n",
      "Epoch 31/2000\n",
      "3701/3701 [==============================] - 3329s 899ms/step - loss: 0.0676 - plcc_metric: 0.9587 - mean_squared_error: 0.0264 - val_loss: 0.0761 - val_plcc_metric: 0.9534 - val_mean_squared_error: 0.0295\n",
      "Epoch 32/2000\n",
      "3701/3701 [==============================] - 2943s 795ms/step - loss: 0.0674 - plcc_metric: 0.9589 - mean_squared_error: 0.0263 - val_loss: 0.0761 - val_plcc_metric: 0.9533 - val_mean_squared_error: 0.0294\n",
      "Epoch 33/2000\n",
      "3701/3701 [==============================] - 2965s 801ms/step - loss: 0.0672 - plcc_metric: 0.9590 - mean_squared_error: 0.0262 - val_loss: 0.0755 - val_plcc_metric: 0.9536 - val_mean_squared_error: 0.0292\n",
      "Epoch 34/2000\n",
      "3701/3701 [==============================] - 2950s 797ms/step - loss: 0.0670 - plcc_metric: 0.9592 - mean_squared_error: 0.0261 - val_loss: 0.0755 - val_plcc_metric: 0.9536 - val_mean_squared_error: 0.0292\n",
      "Epoch 35/2000\n",
      "3701/3701 [==============================] - 2912s 787ms/step - loss: 0.0666 - plcc_metric: 0.9593 - mean_squared_error: 0.0260 - val_loss: 0.0762 - val_plcc_metric: 0.9534 - val_mean_squared_error: 0.0296\n",
      "Epoch 36/2000\n",
      "3701/3701 [==============================] - 2778s 751ms/step - loss: 0.0664 - plcc_metric: 0.9595 - mean_squared_error: 0.0259 - val_loss: 0.0764 - val_plcc_metric: 0.9533 - val_mean_squared_error: 0.0297\n",
      "Epoch 37/2000\n",
      "3701/3701 [==============================] - 2778s 751ms/step - loss: 0.0662 - plcc_metric: 0.9596 - mean_squared_error: 0.0258 - val_loss: 0.0757 - val_plcc_metric: 0.9538 - val_mean_squared_error: 0.0295\n",
      "Epoch 38/2000\n",
      "3701/3701 [==============================] - 2798s 756ms/step - loss: 0.0660 - plcc_metric: 0.9597 - mean_squared_error: 0.0257 - val_loss: 0.0758 - val_plcc_metric: 0.9535 - val_mean_squared_error: 0.0293\n",
      "Epoch 39/2000\n",
      "3701/3701 [==============================] - 2785s 752ms/step - loss: 0.0658 - plcc_metric: 0.9599 - mean_squared_error: 0.0256 - val_loss: 0.0754 - val_plcc_metric: 0.9538 - val_mean_squared_error: 0.0292\n",
      "Epoch 40/2000\n",
      "3701/3701 [==============================] - 2794s 755ms/step - loss: 0.0656 - plcc_metric: 0.9600 - mean_squared_error: 0.0256 - val_loss: 0.0770 - val_plcc_metric: 0.9531 - val_mean_squared_error: 0.0302\n",
      "Epoch 41/2000\n",
      "3701/3701 [==============================] - 2792s 754ms/step - loss: 0.0654 - plcc_metric: 0.9601 - mean_squared_error: 0.0255 - val_loss: 0.0758 - val_plcc_metric: 0.9537 - val_mean_squared_error: 0.0295\n",
      "Epoch 42/2000\n",
      "3701/3701 [==============================] - 2790s 754ms/step - loss: 0.0652 - plcc_metric: 0.9602 - mean_squared_error: 0.0254 - val_loss: 0.0753 - val_plcc_metric: 0.9538 - val_mean_squared_error: 0.0291\n",
      "Epoch 43/2000\n",
      "3701/3701 [==============================] - 2778s 751ms/step - loss: 0.0650 - plcc_metric: 0.9603 - mean_squared_error: 0.0254 - val_loss: 0.0752 - val_plcc_metric: 0.9539 - val_mean_squared_error: 0.0290\n",
      "\n",
      "Epoch 00043: ReduceLROnPlateau reducing learning rate to 0.0009999999776482583.\n",
      "Epoch 44/2000\n",
      "3701/3701 [==============================] - 2772s 749ms/step - loss: 0.0603 - plcc_metric: 0.9632 - mean_squared_error: 0.0234 - val_loss: 0.0727 - val_plcc_metric: 0.9554 - val_mean_squared_error: 0.0281\n",
      "Epoch 45/2000\n",
      "3701/3701 [==============================] - 2785s 753ms/step - loss: 0.0590 - plcc_metric: 0.9639 - mean_squared_error: 0.0230 - val_loss: 0.0726 - val_plcc_metric: 0.9554 - val_mean_squared_error: 0.0281\n",
      "Epoch 46/2000\n",
      "3701/3701 [==============================] - 2786s 753ms/step - loss: 0.0586 - plcc_metric: 0.9642 - mean_squared_error: 0.0228 - val_loss: 0.0725 - val_plcc_metric: 0.9555 - val_mean_squared_error: 0.0280\n",
      "Epoch 47/2000\n",
      "3701/3701 [==============================] - 2806s 758ms/step - loss: 0.0584 - plcc_metric: 0.9643 - mean_squared_error: 0.0227 - val_loss: 0.0725 - val_plcc_metric: 0.9556 - val_mean_squared_error: 0.0281\n",
      "Epoch 48/2000\n",
      "3701/3701 [==============================] - 2793s 755ms/step - loss: 0.0582 - plcc_metric: 0.9644 - mean_squared_error: 0.0226 - val_loss: 0.0725 - val_plcc_metric: 0.9556 - val_mean_squared_error: 0.0281\n",
      "Epoch 49/2000\n",
      "3701/3701 [==============================] - 2770s 748ms/step - loss: 0.0580 - plcc_metric: 0.9645 - mean_squared_error: 0.0226 - val_loss: 0.0724 - val_plcc_metric: 0.9556 - val_mean_squared_error: 0.0280\n",
      "Epoch 50/2000\n",
      "3701/3701 [==============================] - 2797s 756ms/step - loss: 0.0579 - plcc_metric: 0.9646 - mean_squared_error: 0.0225 - val_loss: 0.0724 - val_plcc_metric: 0.9556 - val_mean_squared_error: 0.0280\n",
      "Epoch 51/2000\n",
      "3701/3701 [==============================] - 2781s 751ms/step - loss: 0.0578 - plcc_metric: 0.9647 - mean_squared_error: 0.0225 - val_loss: 0.0725 - val_plcc_metric: 0.9555 - val_mean_squared_error: 0.0280\n",
      "Epoch 52/2000\n",
      "3701/3701 [==============================] - 2793s 755ms/step - loss: 0.0577 - plcc_metric: 0.9647 - mean_squared_error: 0.0224 - val_loss: 0.0726 - val_plcc_metric: 0.9555 - val_mean_squared_error: 0.0281\n",
      "Epoch 53/2000\n",
      "3701/3701 [==============================] - 2786s 753ms/step - loss: 0.0576 - plcc_metric: 0.9648 - mean_squared_error: 0.0224 - val_loss: 0.0726 - val_plcc_metric: 0.9555 - val_mean_squared_error: 0.0281\n",
      "Epoch 54/2000\n",
      "3701/3701 [==============================] - 2815s 761ms/step - loss: 0.0575 - plcc_metric: 0.9648 - mean_squared_error: 0.0224 - val_loss: 0.0725 - val_plcc_metric: 0.9555 - val_mean_squared_error: 0.0280\n",
      "\n",
      "Epoch 00054: ReduceLROnPlateau reducing learning rate to 9.999999310821295e-05.\n",
      "Epoch 55/2000\n",
      "3701/3701 [==============================] - 2825s 763ms/step - loss: 0.0568 - plcc_metric: 0.9653 - mean_squared_error: 0.0221 - val_loss: 0.0725 - val_plcc_metric: 0.9555 - val_mean_squared_error: 0.0280\n",
      "Epoch 56/2000\n",
      "3701/3701 [==============================] - 2830s 765ms/step - loss: 0.0567 - plcc_metric: 0.9653 - mean_squared_error: 0.0220 - val_loss: 0.0726 - val_plcc_metric: 0.9555 - val_mean_squared_error: 0.0280\n",
      "Epoch 57/2000\n",
      "3701/3701 [==============================] - 2854s 771ms/step - loss: 0.0567 - plcc_metric: 0.9654 - mean_squared_error: 0.0220 - val_loss: 0.0725 - val_plcc_metric: 0.9555 - val_mean_squared_error: 0.0280\n",
      "Epoch 58/2000\n",
      "3701/3701 [==============================] - 2939s 794ms/step - loss: 0.0567 - plcc_metric: 0.9654 - mean_squared_error: 0.0220 - val_loss: 0.0726 - val_plcc_metric: 0.9555 - val_mean_squared_error: 0.0280\n",
      "Epoch 59/2000\n",
      "3701/3701 [==============================] - 2936s 793ms/step - loss: 0.0566 - plcc_metric: 0.9654 - mean_squared_error: 0.0220 - val_loss: 0.0725 - val_plcc_metric: 0.9555 - val_mean_squared_error: 0.0280\n",
      "Epoch 60/2000\n",
      "3701/3701 [==============================] - 3172s 857ms/step - loss: 0.0566 - plcc_metric: 0.9654 - mean_squared_error: 0.0220 - val_loss: 0.0725 - val_plcc_metric: 0.9555 - val_mean_squared_error: 0.0280\n",
      "Epoch 61/2000\n",
      "3701/3701 [==============================] - 2921s 789ms/step - loss: 0.0566 - plcc_metric: 0.9654 - mean_squared_error: 0.0220 - val_loss: 0.0725 - val_plcc_metric: 0.9555 - val_mean_squared_error: 0.0280\n",
      "Epoch 62/2000\n",
      "3700/3701 [============================>.] - ETA: 0s - loss: 0.0566 - plcc_metric: 0.9654 - mean_squared_error: 0.0220"
     ]
    }
   ],
   "source": [
    "#New dataset(GIPRCNT) on New model with MinMax_Training whole dataset (y_max=2)\n",
    "hist=model2.fit_generator(generator=training_generator, steps_per_epoch=len(training_Response_list) // 1024, epochs=2000,verbose=1,validation_data=validation_generator,use_multiprocessing=True,workers=10,callbacks=[reduce_lr,es])"
   ]
  },
  {
   "cell_type": "code",
   "execution_count": null,
   "metadata": {},
   "outputs": [],
   "source": [
    "pd.DataFrame(hist.history).to_csv('/DAS_Storage4/ijjin/Study_2/220921_Final/Single/NCI60_March22/Result/221107_Full_by_Combination_Training_and_Validation.csv')"
   ]
  },
  {
   "cell_type": "code",
   "execution_count": 44,
   "metadata": {},
   "outputs": [],
   "source": [
    "model2.save('/DAS_Storage4/ijjin/Study_2/220921_Final/Single/NCI60_March22/Result/221107_Split_by_Combination/221107_Trained_Model.hdf5')"
   ]
  },
  {
   "cell_type": "code",
   "execution_count": 22,
   "metadata": {},
   "outputs": [
    {
     "data": {
      "text/plain": [
       "[0.07285252269115541, 0.9553202917049457, 0.02817281469041522]"
      ]
     },
     "execution_count": 22,
     "metadata": {},
     "output_type": "execute_result"
    }
   ],
   "source": [
    "model2.evaluate_generator(test_generator)"
   ]
  },
  {
   "cell_type": "code",
   "execution_count": 23,
   "metadata": {},
   "outputs": [],
   "source": [
    "test_idx=test_generator.indexes\n",
    "predicted_tmp=model2.predict_generator(test_generator)\n",
    "predicted_tmp=[x[0] for x in predicted_tmp]"
   ]
  },
  {
   "cell_type": "code",
   "execution_count": 24,
   "metadata": {},
   "outputs": [],
   "source": [
    "test_idx_df=pd.DataFrame({'idx':test_Response_list})\n",
    "test_idx_new=test_idx_df.iloc[test_idx].idx.values"
   ]
  },
  {
   "cell_type": "code",
   "execution_count": 25,
   "metadata": {},
   "outputs": [],
   "source": [
    "test_df=NCI60_filtered.iloc[test_idx_new]\n",
    "test_df=test_df.iloc[0:len(predicted_tmp)]"
   ]
  },
  {
   "cell_type": "code",
   "execution_count": 26,
   "metadata": {},
   "outputs": [],
   "source": [
    "test_df['predicted']=predicted_tmp"
   ]
  },
  {
   "cell_type": "code",
   "execution_count": 33,
   "metadata": {},
   "outputs": [],
   "source": [
    "test_df.to_csv('/DAS_Storage4/ijjin/Study_2/220921_Final/Single/NCI60_March22/Result/221107_Split_by_Combination/221107_test_df.csv')"
   ]
  },
  {
   "cell_type": "code",
   "execution_count": 34,
   "metadata": {},
   "outputs": [
    {
     "name": "stderr",
     "output_type": "stream",
     "text": [
      "/usr/local/lib/python3.7/site-packages/seaborn/_decorators.py:43: FutureWarning: Pass the following variables as keyword args: x, y. From version 0.12, the only valid positional argument will be `data`, and passing other arguments without an explicit keyword will result in an error or misinterpretation.\n",
      "  FutureWarning\n"
     ]
    },
    {
     "data": {
      "image/png": "[encoded data removed]",
      "text/plain": [
       "<Figure size 432x432 with 3 Axes>"
      ]
     },
     "metadata": {
      "needs_background": "light"
     },
     "output_type": "display_data"
    }
   ],
   "source": [
    "#new\n",
    "plot=sns.jointplot(test_df.AVERAGE_GIPRCNT,test_df.predicted,alpha=0.01)\n",
    "plot.ax_joint.set_xlim(0,2)\n",
    "plot.ax_joint.set_ylim(0,2)\n",
    "plot.ax_joint.plot([0,2], [0,2], 'r', linewidth = 2)\n",
    "plot.savefig('/DAS_Storage4/ijjin/Study_2/220921_Final/Single/NCI60_March22/Result/221107_Split_by_Combination/221108_NCI60_Split_by_Combination_full.pdf')"
   ]
  },
  {
   "cell_type": "code",
   "execution_count": 28,
   "metadata": {},
   "outputs": [
    {
     "data": {
      "text/html": [
       "<div>\n",
       "<style scoped>\n",
       "    .dataframe tbody tr th:only-of-type {\n",
       "        vertical-align: middle;\n",
       "    }\n",
       "\n",
       "    .dataframe tbody tr th {\n",
       "        vertical-align: top;\n",
       "    }\n",
       "\n",
       "    .dataframe thead th {\n",
       "        text-align: right;\n",
       "    }\n",
       "</style>\n",
       "<table border=\"1\" class=\"dataframe\">\n",
       "  <thead>\n",
       "    <tr style=\"text-align: right;\">\n",
       "      <th></th>\n",
       "      <th>NSC</th>\n",
       "      <th>CONCENTRATION</th>\n",
       "      <th>AVERAGE_GIPRCNT</th>\n",
       "      <th>Viability_max</th>\n",
       "      <th>count</th>\n",
       "      <th>y_max</th>\n",
       "      <th>y_min</th>\n",
       "      <th>IC50</th>\n",
       "      <th>slope</th>\n",
       "      <th>predicted</th>\n",
       "    </tr>\n",
       "  </thead>\n",
       "  <tbody>\n",
       "    <tr>\n",
       "      <th>NSC</th>\n",
       "      <td>1.000000</td>\n",
       "      <td>-0.007733</td>\n",
       "      <td>0.051909</td>\n",
       "      <td>0.040373</td>\n",
       "      <td>-0.162326</td>\n",
       "      <td>-0.015147</td>\n",
       "      <td>0.017999</td>\n",
       "      <td>0.090948</td>\n",
       "      <td>0.038939</td>\n",
       "      <td>0.053988</td>\n",
       "    </tr>\n",
       "    <tr>\n",
       "      <th>CONCENTRATION</th>\n",
       "      <td>-0.007733</td>\n",
       "      <td>1.000000</td>\n",
       "      <td>-0.688748</td>\n",
       "      <td>-0.000343</td>\n",
       "      <td>-0.044721</td>\n",
       "      <td>0.001248</td>\n",
       "      <td>-0.009841</td>\n",
       "      <td>0.133311</td>\n",
       "      <td>0.013979</td>\n",
       "      <td>-0.709533</td>\n",
       "    </tr>\n",
       "    <tr>\n",
       "      <th>AVERAGE_GIPRCNT</th>\n",
       "      <td>0.051909</td>\n",
       "      <td>-0.688748</td>\n",
       "      <td>1.000000</td>\n",
       "      <td>0.108789</td>\n",
       "      <td>-0.046031</td>\n",
       "      <td>-0.030635</td>\n",
       "      <td>0.127754</td>\n",
       "      <td>0.240954</td>\n",
       "      <td>0.032244</td>\n",
       "      <td>0.955351</td>\n",
       "    </tr>\n",
       "    <tr>\n",
       "      <th>Viability_max</th>\n",
       "      <td>0.040373</td>\n",
       "      <td>-0.000343</td>\n",
       "      <td>0.108789</td>\n",
       "      <td>1.000000</td>\n",
       "      <td>0.012193</td>\n",
       "      <td>0.679910</td>\n",
       "      <td>-0.058879</td>\n",
       "      <td>0.164761</td>\n",
       "      <td>0.141465</td>\n",
       "      <td>0.054916</td>\n",
       "    </tr>\n",
       "    <tr>\n",
       "      <th>count</th>\n",
       "      <td>-0.162326</td>\n",
       "      <td>-0.044721</td>\n",
       "      <td>-0.046031</td>\n",
       "      <td>0.012193</td>\n",
       "      <td>1.000000</td>\n",
       "      <td>-0.025325</td>\n",
       "      <td>0.042735</td>\n",
       "      <td>-0.207010</td>\n",
       "      <td>-0.146666</td>\n",
       "      <td>-0.045737</td>\n",
       "    </tr>\n",
       "    <tr>\n",
       "      <th>y_max</th>\n",
       "      <td>-0.015147</td>\n",
       "      <td>0.001248</td>\n",
       "      <td>-0.030635</td>\n",
       "      <td>0.679910</td>\n",
       "      <td>-0.025325</td>\n",
       "      <td>1.000000</td>\n",
       "      <td>-0.069181</td>\n",
       "      <td>-0.213134</td>\n",
       "      <td>0.020299</td>\n",
       "      <td>-0.077611</td>\n",
       "    </tr>\n",
       "    <tr>\n",
       "      <th>y_min</th>\n",
       "      <td>0.017999</td>\n",
       "      <td>-0.009841</td>\n",
       "      <td>0.127754</td>\n",
       "      <td>-0.058879</td>\n",
       "      <td>0.042735</td>\n",
       "      <td>-0.069181</td>\n",
       "      <td>1.000000</td>\n",
       "      <td>-0.237570</td>\n",
       "      <td>-0.096954</td>\n",
       "      <td>0.095199</td>\n",
       "    </tr>\n",
       "    <tr>\n",
       "      <th>IC50</th>\n",
       "      <td>0.090948</td>\n",
       "      <td>0.133311</td>\n",
       "      <td>0.240954</td>\n",
       "      <td>0.164761</td>\n",
       "      <td>-0.207010</td>\n",
       "      <td>-0.213134</td>\n",
       "      <td>-0.237570</td>\n",
       "      <td>1.000000</td>\n",
       "      <td>0.090709</td>\n",
       "      <td>0.227378</td>\n",
       "    </tr>\n",
       "    <tr>\n",
       "      <th>slope</th>\n",
       "      <td>0.038939</td>\n",
       "      <td>0.013979</td>\n",
       "      <td>0.032244</td>\n",
       "      <td>0.141465</td>\n",
       "      <td>-0.146666</td>\n",
       "      <td>0.020299</td>\n",
       "      <td>-0.096954</td>\n",
       "      <td>0.090709</td>\n",
       "      <td>1.000000</td>\n",
       "      <td>0.010380</td>\n",
       "    </tr>\n",
       "    <tr>\n",
       "      <th>predicted</th>\n",
       "      <td>0.053988</td>\n",
       "      <td>-0.709533</td>\n",
       "      <td>0.955351</td>\n",
       "      <td>0.054916</td>\n",
       "      <td>-0.045737</td>\n",
       "      <td>-0.077611</td>\n",
       "      <td>0.095199</td>\n",
       "      <td>0.227378</td>\n",
       "      <td>0.010380</td>\n",
       "      <td>1.000000</td>\n",
       "    </tr>\n",
       "  </tbody>\n",
       "</table>\n",
       "</div>"
      ],
      "text/plain": [
       "                      NSC  CONCENTRATION  AVERAGE_GIPRCNT  Viability_max  \\\n",
       "NSC              1.000000      -0.007733         0.051909       0.040373   \n",
       "CONCENTRATION   -0.007733       1.000000        -0.688748      -0.000343   \n",
       "AVERAGE_GIPRCNT  0.051909      -0.688748         1.000000       0.108789   \n",
       "Viability_max    0.040373      -0.000343         0.108789       1.000000   \n",
       "count           -0.162326      -0.044721        -0.046031       0.012193   \n",
       "y_max           -0.015147       0.001248        -0.030635       0.679910   \n",
       "y_min            0.017999      -0.009841         0.127754      -0.058879   \n",
       "IC50             0.090948       0.133311         0.240954       0.164761   \n",
       "slope            0.038939       0.013979         0.032244       0.141465   \n",
       "predicted        0.053988      -0.709533         0.955351       0.054916   \n",
       "\n",
       "                    count     y_max     y_min      IC50     slope  predicted  \n",
       "NSC             -0.162326 -0.015147  0.017999  0.090948  0.038939   0.053988  \n",
       "CONCENTRATION   -0.044721  0.001248 -0.009841  0.133311  0.013979  -0.709533  \n",
       "AVERAGE_GIPRCNT -0.046031 -0.030635  0.127754  0.240954  0.032244   0.955351  \n",
       "Viability_max    0.012193  0.679910 -0.058879  0.164761  0.141465   0.054916  \n",
       "count            1.000000 -0.025325  0.042735 -0.207010 -0.146666  -0.045737  \n",
       "y_max           -0.025325  1.000000 -0.069181 -0.213134  0.020299  -0.077611  \n",
       "y_min            0.042735 -0.069181  1.000000 -0.237570 -0.096954   0.095199  \n",
       "IC50            -0.207010 -0.213134 -0.237570  1.000000  0.090709   0.227378  \n",
       "slope           -0.146666  0.020299 -0.096954  0.090709  1.000000   0.010380  \n",
       "predicted       -0.045737 -0.077611  0.095199  0.227378  0.010380   1.000000  "
      ]
     },
     "execution_count": 28,
     "metadata": {},
     "output_type": "execute_result"
    }
   ],
   "source": [
    "test_df.corr()"
   ]
  },
  {
   "cell_type": "code",
   "execution_count": 35,
   "metadata": {},
   "outputs": [],
   "source": [
    "NCI60_randomized_level_list=[]\n",
    "scale=0.1\n",
    "for i in range(int(2/scale)):\n",
    "    NCI60_randomized_level_df=test_df[(test_df.AVERAGE_GIPRCNT>i*scale)*(test_df.AVERAGE_GIPRCNT<(i+1)*scale)]\n",
    "    NCI60_randomized_level_list.append(NCI60_randomized_level_df)\n",
    "len_min=min([len(df) for df in NCI60_randomized_level_list])\n",
    "NCI60_randomized_level_list_new=[]\n",
    "for df in NCI60_randomized_level_list:\n",
    "    scale_each=len_min/len(df)\n",
    "    df_new=df.sample(frac=scale_each)\n",
    "    NCI60_randomized_level_list_new.append(df_new)\n",
    "NCI60_balanced=pd.concat(NCI60_randomized_level_list_new)"
   ]
  },
  {
   "cell_type": "code",
   "execution_count": 36,
   "metadata": {},
   "outputs": [
    {
     "name": "stderr",
     "output_type": "stream",
     "text": [
      "/usr/local/lib/python3.7/site-packages/seaborn/_decorators.py:43: FutureWarning: Pass the following variables as keyword args: x, y. From version 0.12, the only valid positional argument will be `data`, and passing other arguments without an explicit keyword will result in an error or misinterpretation.\n",
      "  FutureWarning\n"
     ]
    },
    {
     "data": {
      "image/png": "[encoded data removed]",
      "text/plain": [
       "<Figure size 432x432 with 3 Axes>"
      ]
     },
     "metadata": {
      "needs_background": "light"
     },
     "output_type": "display_data"
    }
   ],
   "source": [
    "#new_scaled\n",
    "plot=sns.jointplot(NCI60_balanced.AVERAGE_GIPRCNT,NCI60_balanced.predicted,alpha=0.01)\n",
    "plot.ax_joint.set_xlim(0,2)\n",
    "plot.ax_joint.set_ylim(0,2)\n",
    "plot.ax_joint.plot([0,2], [0,2], 'r', linewidth = 2)\n",
    "plot.savefig('/DAS_Storage4/ijjin/Study_2/220921_Final/Single/NCI60_March22/Result/221107_Split_by_Combination/221108_NCI60_Split_by_Combination_scaled.pdf')"
   ]
  },
  {
   "cell_type": "code",
   "execution_count": 37,
   "metadata": {},
   "outputs": [
    {
     "data": {
      "text/html": [
       "<div>\n",
       "<style scoped>\n",
       "    .dataframe tbody tr th:only-of-type {\n",
       "        vertical-align: middle;\n",
       "    }\n",
       "\n",
       "    .dataframe tbody tr th {\n",
       "        vertical-align: top;\n",
       "    }\n",
       "\n",
       "    .dataframe thead th {\n",
       "        text-align: right;\n",
       "    }\n",
       "</style>\n",
       "<table border=\"1\" class=\"dataframe\">\n",
       "  <thead>\n",
       "    <tr style=\"text-align: right;\">\n",
       "      <th></th>\n",
       "      <th>NSC</th>\n",
       "      <th>CONCENTRATION</th>\n",
       "      <th>AVERAGE_GIPRCNT</th>\n",
       "      <th>Viability_max</th>\n",
       "      <th>count</th>\n",
       "      <th>y_max</th>\n",
       "      <th>y_min</th>\n",
       "      <th>IC50</th>\n",
       "      <th>slope</th>\n",
       "      <th>predicted</th>\n",
       "    </tr>\n",
       "  </thead>\n",
       "  <tbody>\n",
       "    <tr>\n",
       "      <th>NSC</th>\n",
       "      <td>1.000000</td>\n",
       "      <td>-0.007733</td>\n",
       "      <td>0.051909</td>\n",
       "      <td>0.040373</td>\n",
       "      <td>-0.162326</td>\n",
       "      <td>-0.015147</td>\n",
       "      <td>0.017999</td>\n",
       "      <td>0.090948</td>\n",
       "      <td>0.038939</td>\n",
       "      <td>0.053988</td>\n",
       "    </tr>\n",
       "    <tr>\n",
       "      <th>CONCENTRATION</th>\n",
       "      <td>-0.007733</td>\n",
       "      <td>1.000000</td>\n",
       "      <td>-0.688748</td>\n",
       "      <td>-0.000343</td>\n",
       "      <td>-0.044721</td>\n",
       "      <td>0.001248</td>\n",
       "      <td>-0.009841</td>\n",
       "      <td>0.133311</td>\n",
       "      <td>0.013979</td>\n",
       "      <td>-0.709533</td>\n",
       "    </tr>\n",
       "    <tr>\n",
       "      <th>AVERAGE_GIPRCNT</th>\n",
       "      <td>0.051909</td>\n",
       "      <td>-0.688748</td>\n",
       "      <td>1.000000</td>\n",
       "      <td>0.108789</td>\n",
       "      <td>-0.046031</td>\n",
       "      <td>-0.030635</td>\n",
       "      <td>0.127754</td>\n",
       "      <td>0.240954</td>\n",
       "      <td>0.032244</td>\n",
       "      <td>0.955351</td>\n",
       "    </tr>\n",
       "    <tr>\n",
       "      <th>Viability_max</th>\n",
       "      <td>0.040373</td>\n",
       "      <td>-0.000343</td>\n",
       "      <td>0.108789</td>\n",
       "      <td>1.000000</td>\n",
       "      <td>0.012193</td>\n",
       "      <td>0.679910</td>\n",
       "      <td>-0.058879</td>\n",
       "      <td>0.164761</td>\n",
       "      <td>0.141465</td>\n",
       "      <td>0.054916</td>\n",
       "    </tr>\n",
       "    <tr>\n",
       "      <th>count</th>\n",
       "      <td>-0.162326</td>\n",
       "      <td>-0.044721</td>\n",
       "      <td>-0.046031</td>\n",
       "      <td>0.012193</td>\n",
       "      <td>1.000000</td>\n",
       "      <td>-0.025325</td>\n",
       "      <td>0.042735</td>\n",
       "      <td>-0.207010</td>\n",
       "      <td>-0.146666</td>\n",
       "      <td>-0.045737</td>\n",
       "    </tr>\n",
       "    <tr>\n",
       "      <th>y_max</th>\n",
       "      <td>-0.015147</td>\n",
       "      <td>0.001248</td>\n",
       "      <td>-0.030635</td>\n",
       "      <td>0.679910</td>\n",
       "      <td>-0.025325</td>\n",
       "      <td>1.000000</td>\n",
       "      <td>-0.069181</td>\n",
       "      <td>-0.213134</td>\n",
       "      <td>0.020299</td>\n",
       "      <td>-0.077611</td>\n",
       "    </tr>\n",
       "    <tr>\n",
       "      <th>y_min</th>\n",
       "      <td>0.017999</td>\n",
       "      <td>-0.009841</td>\n",
       "      <td>0.127754</td>\n",
       "      <td>-0.058879</td>\n",
       "      <td>0.042735</td>\n",
       "      <td>-0.069181</td>\n",
       "      <td>1.000000</td>\n",
       "      <td>-0.237570</td>\n",
       "      <td>-0.096954</td>\n",
       "      <td>0.095199</td>\n",
       "    </tr>\n",
       "    <tr>\n",
       "      <th>IC50</th>\n",
       "      <td>0.090948</td>\n",
       "      <td>0.133311</td>\n",
       "      <td>0.240954</td>\n",
       "      <td>0.164761</td>\n",
       "      <td>-0.207010</td>\n",
       "      <td>-0.213134</td>\n",
       "      <td>-0.237570</td>\n",
       "      <td>1.000000</td>\n",
       "      <td>0.090709</td>\n",
       "      <td>0.227378</td>\n",
       "    </tr>\n",
       "    <tr>\n",
       "      <th>slope</th>\n",
       "      <td>0.038939</td>\n",
       "      <td>0.013979</td>\n",
       "      <td>0.032244</td>\n",
       "      <td>0.141465</td>\n",
       "      <td>-0.146666</td>\n",
       "      <td>0.020299</td>\n",
       "      <td>-0.096954</td>\n",
       "      <td>0.090709</td>\n",
       "      <td>1.000000</td>\n",
       "      <td>0.010380</td>\n",
       "    </tr>\n",
       "    <tr>\n",
       "      <th>predicted</th>\n",
       "      <td>0.053988</td>\n",
       "      <td>-0.709533</td>\n",
       "      <td>0.955351</td>\n",
       "      <td>0.054916</td>\n",
       "      <td>-0.045737</td>\n",
       "      <td>-0.077611</td>\n",
       "      <td>0.095199</td>\n",
       "      <td>0.227378</td>\n",
       "      <td>0.010380</td>\n",
       "      <td>1.000000</td>\n",
       "    </tr>\n",
       "  </tbody>\n",
       "</table>\n",
       "</div>"
      ],
      "text/plain": [
       "                      NSC  CONCENTRATION  AVERAGE_GIPRCNT  Viability_max  \\\n",
       "NSC              1.000000      -0.007733         0.051909       0.040373   \n",
       "CONCENTRATION   -0.007733       1.000000        -0.688748      -0.000343   \n",
       "AVERAGE_GIPRCNT  0.051909      -0.688748         1.000000       0.108789   \n",
       "Viability_max    0.040373      -0.000343         0.108789       1.000000   \n",
       "count           -0.162326      -0.044721        -0.046031       0.012193   \n",
       "y_max           -0.015147       0.001248        -0.030635       0.679910   \n",
       "y_min            0.017999      -0.009841         0.127754      -0.058879   \n",
       "IC50             0.090948       0.133311         0.240954       0.164761   \n",
       "slope            0.038939       0.013979         0.032244       0.141465   \n",
       "predicted        0.053988      -0.709533         0.955351       0.054916   \n",
       "\n",
       "                    count     y_max     y_min      IC50     slope  predicted  \n",
       "NSC             -0.162326 -0.015147  0.017999  0.090948  0.038939   0.053988  \n",
       "CONCENTRATION   -0.044721  0.001248 -0.009841  0.133311  0.013979  -0.709533  \n",
       "AVERAGE_GIPRCNT -0.046031 -0.030635  0.127754  0.240954  0.032244   0.955351  \n",
       "Viability_max    0.012193  0.679910 -0.058879  0.164761  0.141465   0.054916  \n",
       "count            1.000000 -0.025325  0.042735 -0.207010 -0.146666  -0.045737  \n",
       "y_max           -0.025325  1.000000 -0.069181 -0.213134  0.020299  -0.077611  \n",
       "y_min            0.042735 -0.069181  1.000000 -0.237570 -0.096954   0.095199  \n",
       "IC50            -0.207010 -0.213134 -0.237570  1.000000  0.090709   0.227378  \n",
       "slope           -0.146666  0.020299 -0.096954  0.090709  1.000000   0.010380  \n",
       "predicted       -0.045737 -0.077611  0.095199  0.227378  0.010380   1.000000  "
      ]
     },
     "execution_count": 37,
     "metadata": {},
     "output_type": "execute_result"
    }
   ],
   "source": [
    "test_df.corr()"
   ]
  },
  {
   "cell_type": "code",
   "execution_count": null,
   "metadata": {},
   "outputs": [],
   "source": []
  },
  {
   "cell_type": "code",
   "execution_count": 38,
   "metadata": {},
   "outputs": [],
   "source": [
    "model_parameter=Model(inputs=model2.inputs,outputs=[model2.get_layer('y_max').output,model2.get_layer('y_min').output,model2.get_layer('IC50').output,model2.get_layer('slope').output])"
   ]
  },
  {
   "cell_type": "code",
   "execution_count": 39,
   "metadata": {},
   "outputs": [],
   "source": [
    "test_idx=test_generator.indexes\n",
    "test_parameter=model_parameter.predict_generator(test_generator)\n",
    "test_y_max=[x[0] for x in test_parameter[0]]\n",
    "test_y_min=[x[0] for x in test_parameter[1]]\n",
    "test_IC50=[x[0] for x in test_parameter[2]]\n",
    "test_slope=[x[0] for x in test_parameter[3]]\n",
    "test_idx_df=pd.DataFrame({'idx':test_Response_list})\n",
    "test_idx_new=test_idx_df.iloc[test_idx].idx.values\n",
    "test_df=NCI60_filtered.iloc[test_idx_new]\n",
    "test_df=test_df.iloc[0:len(predicted_tmp)]\n",
    "test_df['y_max_predicted']=test_y_max\n",
    "test_df['y_min_predicted']=test_y_min\n",
    "test_df['IC50_predicted']=test_IC50\n",
    "test_df['slope_predicted']=test_slope"
   ]
  },
  {
   "cell_type": "code",
   "execution_count": 40,
   "metadata": {},
   "outputs": [],
   "source": [
    "def response(x,y_max,y_min,IC50,slope):\n",
    "    return (y_min+((y_max-y_min)/(1+np.exp(slope*(x-IC50)))))\n",
    "\n",
    "#The function for the response curve"
   ]
  },
  {
   "cell_type": "code",
   "execution_count": 41,
   "metadata": {},
   "outputs": [],
   "source": [
    "test_df['predicted_from_parameter']=[response(x.CONCENTRATION,x.y_max_predicted,x.y_min_predicted,x.IC50_predicted,x.slope_predicted) for idx,x in test_df.iterrows()]"
   ]
  },
  {
   "cell_type": "code",
   "execution_count": 42,
   "metadata": {},
   "outputs": [
    {
     "data": {
      "text/html": [
       "<div>\n",
       "<style scoped>\n",
       "    .dataframe tbody tr th:only-of-type {\n",
       "        vertical-align: middle;\n",
       "    }\n",
       "\n",
       "    .dataframe tbody tr th {\n",
       "        vertical-align: top;\n",
       "    }\n",
       "\n",
       "    .dataframe thead th {\n",
       "        text-align: right;\n",
       "    }\n",
       "</style>\n",
       "<table border=\"1\" class=\"dataframe\">\n",
       "  <thead>\n",
       "    <tr style=\"text-align: right;\">\n",
       "      <th></th>\n",
       "      <th>NSC</th>\n",
       "      <th>CONCENTRATION</th>\n",
       "      <th>AVERAGE_GIPRCNT</th>\n",
       "      <th>Viability_max</th>\n",
       "      <th>count</th>\n",
       "      <th>y_max</th>\n",
       "      <th>y_min</th>\n",
       "      <th>IC50</th>\n",
       "      <th>slope</th>\n",
       "      <th>y_max_predicted</th>\n",
       "      <th>y_min_predicted</th>\n",
       "      <th>IC50_predicted</th>\n",
       "      <th>slope_predicted</th>\n",
       "      <th>predicted_from_parameter</th>\n",
       "    </tr>\n",
       "  </thead>\n",
       "  <tbody>\n",
       "    <tr>\n",
       "      <th>NSC</th>\n",
       "      <td>1.000000</td>\n",
       "      <td>-0.007779</td>\n",
       "      <td>0.051982</td>\n",
       "      <td>0.040387</td>\n",
       "      <td>-0.162253</td>\n",
       "      <td>-0.015155</td>\n",
       "      <td>0.018049</td>\n",
       "      <td>0.090952</td>\n",
       "      <td>0.038916</td>\n",
       "      <td>-0.058605</td>\n",
       "      <td>0.041278</td>\n",
       "      <td>0.113704</td>\n",
       "      <td>0.012509</td>\n",
       "      <td>0.054032</td>\n",
       "    </tr>\n",
       "    <tr>\n",
       "      <th>CONCENTRATION</th>\n",
       "      <td>-0.007779</td>\n",
       "      <td>1.000000</td>\n",
       "      <td>-0.688671</td>\n",
       "      <td>-0.000246</td>\n",
       "      <td>-0.044837</td>\n",
       "      <td>0.001349</td>\n",
       "      <td>-0.009821</td>\n",
       "      <td>0.133575</td>\n",
       "      <td>0.014064</td>\n",
       "      <td>-0.037872</td>\n",
       "      <td>0.019760</td>\n",
       "      <td>0.067581</td>\n",
       "      <td>0.011662</td>\n",
       "      <td>-0.709470</td>\n",
       "    </tr>\n",
       "    <tr>\n",
       "      <th>AVERAGE_GIPRCNT</th>\n",
       "      <td>0.051982</td>\n",
       "      <td>-0.688671</td>\n",
       "      <td>1.000000</td>\n",
       "      <td>0.108774</td>\n",
       "      <td>-0.045989</td>\n",
       "      <td>-0.030652</td>\n",
       "      <td>0.127726</td>\n",
       "      <td>0.240882</td>\n",
       "      <td>0.032227</td>\n",
       "      <td>-0.087226</td>\n",
       "      <td>0.157881</td>\n",
       "      <td>0.251487</td>\n",
       "      <td>-0.031287</td>\n",
       "      <td>0.955340</td>\n",
       "    </tr>\n",
       "    <tr>\n",
       "      <th>Viability_max</th>\n",
       "      <td>0.040387</td>\n",
       "      <td>-0.000246</td>\n",
       "      <td>0.108774</td>\n",
       "      <td>1.000000</td>\n",
       "      <td>0.012273</td>\n",
       "      <td>0.679910</td>\n",
       "      <td>-0.058755</td>\n",
       "      <td>0.164716</td>\n",
       "      <td>0.141327</td>\n",
       "      <td>-0.173132</td>\n",
       "      <td>-0.049655</td>\n",
       "      <td>0.189551</td>\n",
       "      <td>0.125747</td>\n",
       "      <td>0.054903</td>\n",
       "    </tr>\n",
       "    <tr>\n",
       "      <th>count</th>\n",
       "      <td>-0.162253</td>\n",
       "      <td>-0.044837</td>\n",
       "      <td>-0.045989</td>\n",
       "      <td>0.012273</td>\n",
       "      <td>1.000000</td>\n",
       "      <td>-0.025284</td>\n",
       "      <td>0.042634</td>\n",
       "      <td>-0.206875</td>\n",
       "      <td>-0.146829</td>\n",
       "      <td>0.218742</td>\n",
       "      <td>0.039848</td>\n",
       "      <td>-0.259009</td>\n",
       "      <td>-0.147031</td>\n",
       "      <td>-0.045671</td>\n",
       "    </tr>\n",
       "    <tr>\n",
       "      <th>y_max</th>\n",
       "      <td>-0.015155</td>\n",
       "      <td>0.001349</td>\n",
       "      <td>-0.030652</td>\n",
       "      <td>0.679910</td>\n",
       "      <td>-0.025284</td>\n",
       "      <td>1.000000</td>\n",
       "      <td>-0.069119</td>\n",
       "      <td>-0.213056</td>\n",
       "      <td>0.020190</td>\n",
       "      <td>0.016407</td>\n",
       "      <td>-0.162518</td>\n",
       "      <td>-0.160584</td>\n",
       "      <td>0.074612</td>\n",
       "      <td>-0.077656</td>\n",
       "    </tr>\n",
       "    <tr>\n",
       "      <th>y_min</th>\n",
       "      <td>0.018049</td>\n",
       "      <td>-0.009821</td>\n",
       "      <td>0.127726</td>\n",
       "      <td>-0.058755</td>\n",
       "      <td>0.042634</td>\n",
       "      <td>-0.069119</td>\n",
       "      <td>1.000000</td>\n",
       "      <td>-0.237616</td>\n",
       "      <td>-0.096975</td>\n",
       "      <td>0.555160</td>\n",
       "      <td>0.716541</td>\n",
       "      <td>-0.132489</td>\n",
       "      <td>-0.691600</td>\n",
       "      <td>0.095158</td>\n",
       "    </tr>\n",
       "    <tr>\n",
       "      <th>IC50</th>\n",
       "      <td>0.090952</td>\n",
       "      <td>0.133575</td>\n",
       "      <td>0.240882</td>\n",
       "      <td>0.164716</td>\n",
       "      <td>-0.206875</td>\n",
       "      <td>-0.213056</td>\n",
       "      <td>-0.237616</td>\n",
       "      <td>1.000000</td>\n",
       "      <td>0.090721</td>\n",
       "      <td>-0.583578</td>\n",
       "      <td>0.043372</td>\n",
       "      <td>0.818664</td>\n",
       "      <td>0.314808</td>\n",
       "      <td>0.227306</td>\n",
       "    </tr>\n",
       "    <tr>\n",
       "      <th>slope</th>\n",
       "      <td>0.038916</td>\n",
       "      <td>0.014064</td>\n",
       "      <td>0.032227</td>\n",
       "      <td>0.141327</td>\n",
       "      <td>-0.146829</td>\n",
       "      <td>0.020190</td>\n",
       "      <td>-0.096975</td>\n",
       "      <td>0.090721</td>\n",
       "      <td>1.000000</td>\n",
       "      <td>-0.354769</td>\n",
       "      <td>-0.296809</td>\n",
       "      <td>0.222054</td>\n",
       "      <td>0.358605</td>\n",
       "      <td>0.010365</td>\n",
       "    </tr>\n",
       "    <tr>\n",
       "      <th>y_max_predicted</th>\n",
       "      <td>-0.058605</td>\n",
       "      <td>-0.037872</td>\n",
       "      <td>-0.087226</td>\n",
       "      <td>-0.173132</td>\n",
       "      <td>0.218742</td>\n",
       "      <td>0.016407</td>\n",
       "      <td>0.555160</td>\n",
       "      <td>-0.583578</td>\n",
       "      <td>-0.354769</td>\n",
       "      <td>1.000000</td>\n",
       "      <td>0.665941</td>\n",
       "      <td>-0.771485</td>\n",
       "      <td>-0.922492</td>\n",
       "      <td>-0.090480</td>\n",
       "    </tr>\n",
       "    <tr>\n",
       "      <th>y_min_predicted</th>\n",
       "      <td>0.041278</td>\n",
       "      <td>0.019760</td>\n",
       "      <td>0.157881</td>\n",
       "      <td>-0.049655</td>\n",
       "      <td>0.039848</td>\n",
       "      <td>-0.162518</td>\n",
       "      <td>0.716541</td>\n",
       "      <td>0.043372</td>\n",
       "      <td>-0.296809</td>\n",
       "      <td>0.665941</td>\n",
       "      <td>1.000000</td>\n",
       "      <td>-0.039120</td>\n",
       "      <td>-0.902296</td>\n",
       "      <td>0.170526</td>\n",
       "    </tr>\n",
       "    <tr>\n",
       "      <th>IC50_predicted</th>\n",
       "      <td>0.113704</td>\n",
       "      <td>0.067581</td>\n",
       "      <td>0.251487</td>\n",
       "      <td>0.189551</td>\n",
       "      <td>-0.259009</td>\n",
       "      <td>-0.160584</td>\n",
       "      <td>-0.132489</td>\n",
       "      <td>0.818664</td>\n",
       "      <td>0.222054</td>\n",
       "      <td>-0.771485</td>\n",
       "      <td>-0.039120</td>\n",
       "      <td>1.000000</td>\n",
       "      <td>0.466086</td>\n",
       "      <td>0.266631</td>\n",
       "    </tr>\n",
       "    <tr>\n",
       "      <th>slope_predicted</th>\n",
       "      <td>0.012509</td>\n",
       "      <td>0.011662</td>\n",
       "      <td>-0.031287</td>\n",
       "      <td>0.125747</td>\n",
       "      <td>-0.147031</td>\n",
       "      <td>0.074612</td>\n",
       "      <td>-0.691600</td>\n",
       "      <td>0.314808</td>\n",
       "      <td>0.358605</td>\n",
       "      <td>-0.922492</td>\n",
       "      <td>-0.902296</td>\n",
       "      <td>0.466086</td>\n",
       "      <td>1.000000</td>\n",
       "      <td>-0.035950</td>\n",
       "    </tr>\n",
       "    <tr>\n",
       "      <th>predicted_from_parameter</th>\n",
       "      <td>0.054032</td>\n",
       "      <td>-0.709470</td>\n",
       "      <td>0.955340</td>\n",
       "      <td>0.054903</td>\n",
       "      <td>-0.045671</td>\n",
       "      <td>-0.077656</td>\n",
       "      <td>0.095158</td>\n",
       "      <td>0.227306</td>\n",
       "      <td>0.010365</td>\n",
       "      <td>-0.090480</td>\n",
       "      <td>0.170526</td>\n",
       "      <td>0.266631</td>\n",
       "      <td>-0.035950</td>\n",
       "      <td>1.000000</td>\n",
       "    </tr>\n",
       "  </tbody>\n",
       "</table>\n",
       "</div>"
      ],
      "text/plain": [
       "                               NSC  CONCENTRATION  AVERAGE_GIPRCNT  \\\n",
       "NSC                       1.000000      -0.007779         0.051982   \n",
       "CONCENTRATION            -0.007779       1.000000        -0.688671   \n",
       "AVERAGE_GIPRCNT           0.051982      -0.688671         1.000000   \n",
       "Viability_max             0.040387      -0.000246         0.108774   \n",
       "count                    -0.162253      -0.044837        -0.045989   \n",
       "y_max                    -0.015155       0.001349        -0.030652   \n",
       "y_min                     0.018049      -0.009821         0.127726   \n",
       "IC50                      0.090952       0.133575         0.240882   \n",
       "slope                     0.038916       0.014064         0.032227   \n",
       "y_max_predicted          -0.058605      -0.037872        -0.087226   \n",
       "y_min_predicted           0.041278       0.019760         0.157881   \n",
       "IC50_predicted            0.113704       0.067581         0.251487   \n",
       "slope_predicted           0.012509       0.011662        -0.031287   \n",
       "predicted_from_parameter  0.054032      -0.709470         0.955340   \n",
       "\n",
       "                          Viability_max     count     y_max     y_min  \\\n",
       "NSC                            0.040387 -0.162253 -0.015155  0.018049   \n",
       "CONCENTRATION                 -0.000246 -0.044837  0.001349 -0.009821   \n",
       "AVERAGE_GIPRCNT                0.108774 -0.045989 -0.030652  0.127726   \n",
       "Viability_max                  1.000000  0.012273  0.679910 -0.058755   \n",
       "count                          0.012273  1.000000 -0.025284  0.042634   \n",
       "y_max                          0.679910 -0.025284  1.000000 -0.069119   \n",
       "y_min                         -0.058755  0.042634 -0.069119  1.000000   \n",
       "IC50                           0.164716 -0.206875 -0.213056 -0.237616   \n",
       "slope                          0.141327 -0.146829  0.020190 -0.096975   \n",
       "y_max_predicted               -0.173132  0.218742  0.016407  0.555160   \n",
       "y_min_predicted               -0.049655  0.039848 -0.162518  0.716541   \n",
       "IC50_predicted                 0.189551 -0.259009 -0.160584 -0.132489   \n",
       "slope_predicted                0.125747 -0.147031  0.074612 -0.691600   \n",
       "predicted_from_parameter       0.054903 -0.045671 -0.077656  0.095158   \n",
       "\n",
       "                              IC50     slope  y_max_predicted  \\\n",
       "NSC                       0.090952  0.038916        -0.058605   \n",
       "CONCENTRATION             0.133575  0.014064        -0.037872   \n",
       "AVERAGE_GIPRCNT           0.240882  0.032227        -0.087226   \n",
       "Viability_max             0.164716  0.141327        -0.173132   \n",
       "count                    -0.206875 -0.146829         0.218742   \n",
       "y_max                    -0.213056  0.020190         0.016407   \n",
       "y_min                    -0.237616 -0.096975         0.555160   \n",
       "IC50                      1.000000  0.090721        -0.583578   \n",
       "slope                     0.090721  1.000000        -0.354769   \n",
       "y_max_predicted          -0.583578 -0.354769         1.000000   \n",
       "y_min_predicted           0.043372 -0.296809         0.665941   \n",
       "IC50_predicted            0.818664  0.222054        -0.771485   \n",
       "slope_predicted           0.314808  0.358605        -0.922492   \n",
       "predicted_from_parameter  0.227306  0.010365        -0.090480   \n",
       "\n",
       "                          y_min_predicted  IC50_predicted  slope_predicted  \\\n",
       "NSC                              0.041278        0.113704         0.012509   \n",
       "CONCENTRATION                    0.019760        0.067581         0.011662   \n",
       "AVERAGE_GIPRCNT                  0.157881        0.251487        -0.031287   \n",
       "Viability_max                   -0.049655        0.189551         0.125747   \n",
       "count                            0.039848       -0.259009        -0.147031   \n",
       "y_max                           -0.162518       -0.160584         0.074612   \n",
       "y_min                            0.716541       -0.132489        -0.691600   \n",
       "IC50                             0.043372        0.818664         0.314808   \n",
       "slope                           -0.296809        0.222054         0.358605   \n",
       "y_max_predicted                  0.665941       -0.771485        -0.922492   \n",
       "y_min_predicted                  1.000000       -0.039120        -0.902296   \n",
       "IC50_predicted                  -0.039120        1.000000         0.466086   \n",
       "slope_predicted                 -0.902296        0.466086         1.000000   \n",
       "predicted_from_parameter         0.170526        0.266631        -0.035950   \n",
       "\n",
       "                          predicted_from_parameter  \n",
       "NSC                                       0.054032  \n",
       "CONCENTRATION                            -0.709470  \n",
       "AVERAGE_GIPRCNT                           0.955340  \n",
       "Viability_max                             0.054903  \n",
       "count                                    -0.045671  \n",
       "y_max                                    -0.077656  \n",
       "y_min                                     0.095158  \n",
       "IC50                                      0.227306  \n",
       "slope                                     0.010365  \n",
       "y_max_predicted                          -0.090480  \n",
       "y_min_predicted                           0.170526  \n",
       "IC50_predicted                            0.266631  \n",
       "slope_predicted                          -0.035950  \n",
       "predicted_from_parameter                  1.000000  "
      ]
     },
     "execution_count": 42,
     "metadata": {},
     "output_type": "execute_result"
    }
   ],
   "source": [
    "test_df.corr()"
   ]
  },
  {
   "cell_type": "code",
   "execution_count": 43,
   "metadata": {},
   "outputs": [],
   "source": [
    "test_df.to_csv('/DAS_Storage4/ijjin/Study_2/220921_Final/Single/NCI60_March22/Result/221107_Split_by_Combination/221107_test_df_by_parameter.csv')"
   ]
  },
  {
   "cell_type": "code",
   "execution_count": null,
   "metadata": {},
   "outputs": [],
   "source": []
  }
 ],
 "metadata": {
  "kernelspec": {
   "display_name": "Python 3 (ipykernel)",
   "language": "python",
   "name": "python3"
  },
  "language_info": {
   "codemirror_mode": {
    "name": "ipython",
    "version": 3
   },
   "file_extension": ".py",
   "mimetype": "text/x-python",
   "name": "python",
   "nbconvert_exporter": "python",
   "pygments_lexer": "ipython3",
   "version": "3.7.13"
  }
 },
 "nbformat": 4,
 "nbformat_minor": 2
}
